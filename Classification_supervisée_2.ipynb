{
 "cells": [
  {
   "cell_type": "markdown",
   "metadata": {},
   "source": [
    "# Classification Supervisée "
   ]
  },
  {
   "cell_type": "code",
   "execution_count": 26,
   "metadata": {},
   "outputs": [],
   "source": [
    "import pandas as pd\n",
    "import numpy as np\n",
    "import scipy.stats as sps\n",
    "\n",
    "# Plot et Display\n",
    "from IPython.display import display\n",
    "%matplotlib inline\n",
    "import matplotlib.pyplot as plt\n",
    "import seaborn as sns\n",
    "sns.set()\n",
    "sns.set_style(\"darkgrid\", {\"axes.facecolor\": \".9\"})\n",
    "\n",
    "# Scikit learn\n",
    "from sklearn import preprocessing\n",
    "from sklearn.model_selection import GridSearchCV\n",
    "from sklearn.model_selection import train_test_split  \n",
    "from sklearn.ensemble import RandomForestClassifier \n",
    "\n",
    "#Lecture des données \n",
    "import pickle"
   ]
  },
  {
   "cell_type": "code",
   "execution_count": 27,
   "metadata": {},
   "outputs": [],
   "source": [
    "#path_test = \"../../4A/Projet/Ensemble de test/\"\n",
    "path_test = \"../Donnees_projet/Ensemble_de_test/\""
   ]
  },
  {
   "cell_type": "code",
   "execution_count": 28,
   "metadata": {},
   "outputs": [],
   "source": [
    "with open('liste_propre', 'rb') as fichier:\n",
    "    mon_depickler = pickle.Unpickler(fichier)\n",
    "    liste_propre, ind_recupere = mon_depickler.load()"
   ]
  },
  {
   "cell_type": "code",
   "execution_count": 29,
   "metadata": {},
   "outputs": [],
   "source": [
    "n = len(liste_propre)\n",
    "liste_appr = list(np.asarray(liste_propre)[np.asarray(ind_recupere) <= 299])\n",
    "liste_test = list(np.asarray(liste_propre)[np.asarray(ind_recupere) > 299])\n",
    "n_appr = len(liste_appr)\n",
    "n_test = len(liste_test)"
   ]
  },
  {
   "cell_type": "code",
   "execution_count": 30,
   "metadata": {},
   "outputs": [],
   "source": [
    "anom = [False] * n_test\n",
    "type_anom = [-1] * n_test\n",
    "loc = [-1] * n_test\n",
    "\n",
    "anom[73] = True\n",
    "type_anom[73] = 1\n",
    "loc[73] = 200\n",
    "\n",
    "anom[96] = True\n",
    "type_anom[96] = 1\n",
    "loc[96] = 300\n",
    "\n",
    "anom[36] = True\n",
    "type_anom[36] = 1\n",
    "loc[36] = 400\n",
    "\n",
    "anom[32] = True\n",
    "type_anom[32] = 1\n",
    "loc[32] = 300\n",
    "\n",
    "anom[33] = True\n",
    "type_anom[33] = 1\n",
    "loc[33] = 200\n",
    "\n",
    "anom[107] = True\n",
    "type_anom[107] = 2\n",
    "loc[107] = 600\n",
    "\n",
    "anom[60] = True\n",
    "type_anom[60] = 2\n",
    "loc[60] = 400\n",
    "\n",
    "anom[113] = True\n",
    "type_anom[113] = 2\n",
    "loc[113] = 400\n",
    "\n",
    "anom[9] = True\n",
    "type_anom[9] = 2\n",
    "loc[9] = 200\n",
    "\n",
    "anom[11] = True\n",
    "type_anom[11] = 2\n",
    "loc[11] = 300\n",
    "\n",
    "anom[53] = True\n",
    "type_anom[53] = 3\n",
    "loc[53] = 400\n",
    "\n",
    "anom[114] = True\n",
    "type_anom[114] = 3\n",
    "loc[114] = 400\n",
    "\n",
    "anom[14] = True\n",
    "type_anom[14] = 3\n",
    "loc[14] = 500\n",
    "\n",
    "anom[79] = True\n",
    "type_anom[79] = 3\n",
    "loc[79] = 400\n",
    "\n",
    "anom[29] = True\n",
    "type_anom[29] = 3\n",
    "loc[29] = 300\n",
    "\n",
    "anom[27] = True\n",
    "type_anom[27] = 4\n",
    "loc[27] = 300\n",
    "\n",
    "anom[121] = True\n",
    "type_anom[121] = 4\n",
    "loc[121] = 300\n",
    "\n",
    "anom[5] = True\n",
    "type_anom[5] = 4\n",
    "loc[5] = 400\n",
    "\n",
    "anom[89] = True\n",
    "type_anom[89] = 4\n",
    "loc[89] = 200\n",
    "\n",
    "anom[99] = True\n",
    "type_anom[99] = 4\n",
    "loc[99] = 100  \n",
    "\n",
    "anom = [False] * n_appr + anom\n",
    "type_anom = [-1] * n_appr + type_anom\n",
    "loc = [-1] * n_appr + loc"
   ]
  },
  {
   "cell_type": "code",
   "execution_count": 31,
   "metadata": {},
   "outputs": [],
   "source": [
    "ind_anom = list(np.where(np.asarray(anom))[0]) # Indices des anomalies"
   ]
  },
  {
   "cell_type": "code",
   "execution_count": 32,
   "metadata": {},
   "outputs": [],
   "source": [
    "def df_fenetres(liste_comp, N, anom, loc):\n",
    "    serie = []\n",
    "    #origine = []\n",
    "    ind_debut = []\n",
    "    valeurs = []\n",
    "    anom_fen = []\n",
    "    for i, val, loc_i in zip(ind_recupere, liste_comp, loc):\n",
    "        # Liste des fenêtres de l'enregistrement\n",
    "        fenetres = [val[i * N:(i + 1) * N] for i in range((len(val) + N - 1) // N ) if len(val[i * N:(i + 1) * N]) == N]\n",
    "        nb_fen = len(fenetres)\n",
    "        valeurs += fenetres\n",
    "        anom_fen_i = [False] * nb_fen\n",
    "        pos_anom_deb_fen = loc_i // N\n",
    "        pos_anom_fin_fen = (loc_i + 55) // N\n",
    "        if loc_i > -1:\n",
    "            try:\n",
    "                for pos in range(pos_anom_deb_fen, pos_anom_fin_fen + 1):\n",
    "                    anom_fen_i[pos] = True\n",
    "\n",
    "            except IndexError:\n",
    "                pass\n",
    "                \"\"\"Cette erreur est levée lorsque l'anomalie se trouve en fin de série, dans une plage qui n'a pas été capturée \n",
    "                par une des fenêtres. On peut donc l'ignorer et continuer le traitement. Ce cas est de toute façon très rare\n",
    "                dans nos données.\"\"\"\n",
    "        anom_fen += anom_fen_i\n",
    "        ind_debut += list(range(0, nb_fen * N, N))\n",
    "        serie += [i] * nb_fen\n",
    "        \"\"\"if i < 300:\n",
    "            origine += [\"appr\"] * nb_fen\n",
    "        else:\n",
    "            origine += [\"test\"] * nb_fen\"\"\"\n",
    "        \n",
    "    \n",
    "    df = pd.DataFrame(data={\"id\" : list(range(len(serie))), \"serie\" : serie, \"ind_debut\" : ind_debut, \"valeurs\" : valeurs, \"anom\" : anom_fen})\n",
    "        \n",
    "    return df.set_index([\"id\"])"
   ]
  },
  {
   "cell_type": "code",
   "execution_count": 33,
   "metadata": {},
   "outputs": [],
   "source": [
    "N = 80\n",
    "data_fenetres = df_fenetres(liste_propre, N, anom, loc)"
   ]
  },
  {
   "cell_type": "code",
   "execution_count": 34,
   "metadata": {},
   "outputs": [],
   "source": [
    "ind_anom = list(data_fenetres[data_fenetres[\"anom\"]][\"serie\"].values)"
   ]
  },
  {
   "cell_type": "code",
   "execution_count": 191,
   "metadata": {},
   "outputs": [
    {
     "name": "stderr",
     "output_type": "stream",
     "text": [
      "/anaconda3/lib/python3.6/site-packages/pandas/core/generic.py:4401: SettingWithCopyWarning: \n",
      "A value is trying to be set on a copy of a slice from a DataFrame.\n",
      "Try using .loc[row_indexer,col_indexer] = value instead\n",
      "\n",
      "See the caveats in the documentation: http://pandas.pydata.org/pandas-docs/stable/indexing.html#indexing-view-versus-copy\n",
      "  self[name] = value\n"
     ]
    },
    {
     "data": {
      "text/html": [
       "<div>\n",
       "<style scoped>\n",
       "    .dataframe tbody tr th:only-of-type {\n",
       "        vertical-align: middle;\n",
       "    }\n",
       "\n",
       "    .dataframe tbody tr th {\n",
       "        vertical-align: top;\n",
       "    }\n",
       "\n",
       "    .dataframe thead th {\n",
       "        text-align: right;\n",
       "    }\n",
       "</style>\n",
       "<table border=\"1\" class=\"dataframe\">\n",
       "  <thead>\n",
       "    <tr style=\"text-align: right;\">\n",
       "      <th></th>\n",
       "      <th>serie</th>\n",
       "      <th>ind_debut</th>\n",
       "      <th>valeurs</th>\n",
       "      <th>anom</th>\n",
       "    </tr>\n",
       "    <tr>\n",
       "      <th>id</th>\n",
       "      <th></th>\n",
       "      <th></th>\n",
       "      <th></th>\n",
       "      <th></th>\n",
       "    </tr>\n",
       "  </thead>\n",
       "  <tbody>\n",
       "    <tr>\n",
       "      <th>43120</th>\n",
       "      <td>40379</td>\n",
       "      <td>480</td>\n",
       "      <td>[1736.0, 1744.0, 1744.0, 1744.0, 1736.0, 1736....</td>\n",
       "      <td>False</td>\n",
       "    </tr>\n",
       "    <tr>\n",
       "      <th>43183</th>\n",
       "      <td>40389</td>\n",
       "      <td>0</td>\n",
       "      <td>[1408.0, 1408.0, 1416.0, 1416.0, 1408.0, 1392....</td>\n",
       "      <td>False</td>\n",
       "    </tr>\n",
       "    <tr>\n",
       "      <th>43184</th>\n",
       "      <td>40389</td>\n",
       "      <td>80</td>\n",
       "      <td>[1776.0, 1768.0, 1760.0, 1752.0, 1744.0, 1736....</td>\n",
       "      <td>False</td>\n",
       "    </tr>\n",
       "    <tr>\n",
       "      <th>43185</th>\n",
       "      <td>40389</td>\n",
       "      <td>160</td>\n",
       "      <td>[1712.0, 1720.0, 1728.0, 1736.0, 1736.0, 1736....</td>\n",
       "      <td>True</td>\n",
       "    </tr>\n",
       "    <tr>\n",
       "      <th>43186</th>\n",
       "      <td>40389</td>\n",
       "      <td>240</td>\n",
       "      <td>[1258.0, 1258.0, 1266.0, 1282.0, 1274.0, 1266....</td>\n",
       "      <td>True</td>\n",
       "    </tr>\n",
       "    <tr>\n",
       "      <th>43187</th>\n",
       "      <td>40389</td>\n",
       "      <td>320</td>\n",
       "      <td>[2704.0, 2696.0, 2696.0, 2696.0, 2464.0, 2048....</td>\n",
       "      <td>False</td>\n",
       "    </tr>\n",
       "    <tr>\n",
       "      <th>43188</th>\n",
       "      <td>40389</td>\n",
       "      <td>400</td>\n",
       "      <td>[1728.0, 1720.0, 1720.0, 1720.0, 1720.0, 1712....</td>\n",
       "      <td>False</td>\n",
       "    </tr>\n",
       "    <tr>\n",
       "      <th>43251</th>\n",
       "      <td>40396</td>\n",
       "      <td>0</td>\n",
       "      <td>[1400.0, 1400.0, 1408.0, 1408.0, 1424.0, 1424....</td>\n",
       "      <td>False</td>\n",
       "    </tr>\n",
       "    <tr>\n",
       "      <th>43252</th>\n",
       "      <td>40396</td>\n",
       "      <td>80</td>\n",
       "      <td>[1400.0, 1392.0, 1392.0, 1400.0, 1400.0, 1400....</td>\n",
       "      <td>False</td>\n",
       "    </tr>\n",
       "    <tr>\n",
       "      <th>43253</th>\n",
       "      <td>40396</td>\n",
       "      <td>160</td>\n",
       "      <td>[1736.0, 1744.0, 1744.0, 1744.0, 1744.0, 1744....</td>\n",
       "      <td>False</td>\n",
       "    </tr>\n",
       "    <tr>\n",
       "      <th>43254</th>\n",
       "      <td>40396</td>\n",
       "      <td>240</td>\n",
       "      <td>[1760.0, 1720.0, 1720.0, 1984.0, 2352.0, 2616....</td>\n",
       "      <td>True</td>\n",
       "    </tr>\n",
       "    <tr>\n",
       "      <th>43255</th>\n",
       "      <td>40396</td>\n",
       "      <td>320</td>\n",
       "      <td>[1718.0, 1702.0, 1686.0, 1670.0, 1702.0, 1718....</td>\n",
       "      <td>True</td>\n",
       "    </tr>\n",
       "    <tr>\n",
       "      <th>43256</th>\n",
       "      <td>40396</td>\n",
       "      <td>400</td>\n",
       "      <td>[1712.0, 1704.0, 1696.0, 1688.0, 1688.0, 1680....</td>\n",
       "      <td>False</td>\n",
       "    </tr>\n",
       "    <tr>\n",
       "      <th>43257</th>\n",
       "      <td>40396</td>\n",
       "      <td>480</td>\n",
       "      <td>[1336.0, 1352.0, 1368.0, 1376.0, 1376.0, 1392....</td>\n",
       "      <td>False</td>\n",
       "    </tr>\n",
       "    <tr>\n",
       "      <th>43269</th>\n",
       "      <td>40399</td>\n",
       "      <td>0</td>\n",
       "      <td>[1456.0, 1456.0, 1456.0, 1456.0, 1456.0, 1448....</td>\n",
       "      <td>False</td>\n",
       "    </tr>\n",
       "    <tr>\n",
       "      <th>43270</th>\n",
       "      <td>40399</td>\n",
       "      <td>80</td>\n",
       "      <td>[1408.0, 1416.0, 1424.0, 1424.0, 1416.0, 1408....</td>\n",
       "      <td>True</td>\n",
       "    </tr>\n",
       "    <tr>\n",
       "      <th>43271</th>\n",
       "      <td>40399</td>\n",
       "      <td>160</td>\n",
       "      <td>[1688.0, 1672.0, 1664.0, 1656.0, 1656.0, 1656....</td>\n",
       "      <td>False</td>\n",
       "    </tr>\n",
       "    <tr>\n",
       "      <th>43272</th>\n",
       "      <td>40399</td>\n",
       "      <td>240</td>\n",
       "      <td>[1648.0, 1656.0, 1656.0, 1656.0, 1648.0, 1648....</td>\n",
       "      <td>False</td>\n",
       "    </tr>\n",
       "    <tr>\n",
       "      <th>43273</th>\n",
       "      <td>40399</td>\n",
       "      <td>320</td>\n",
       "      <td>[1592.0, 1608.0, 1616.0, 1608.0, 1600.0, 1608....</td>\n",
       "      <td>False</td>\n",
       "    </tr>\n",
       "    <tr>\n",
       "      <th>43274</th>\n",
       "      <td>40399</td>\n",
       "      <td>400</td>\n",
       "      <td>[1536.0, 1536.0, 1544.0, 1544.0, 1544.0, 1544....</td>\n",
       "      <td>False</td>\n",
       "    </tr>\n",
       "    <tr>\n",
       "      <th>43275</th>\n",
       "      <td>40399</td>\n",
       "      <td>480</td>\n",
       "      <td>[1544.0, 1544.0, 1544.0, 1536.0, 1544.0, 1552....</td>\n",
       "      <td>False</td>\n",
       "    </tr>\n",
       "    <tr>\n",
       "      <th>43354</th>\n",
       "      <td>40407</td>\n",
       "      <td>0</td>\n",
       "      <td>[1464.0, 1464.0, 1456.0, 1456.0, 1456.0, 1456....</td>\n",
       "      <td>False</td>\n",
       "    </tr>\n",
       "    <tr>\n",
       "      <th>43355</th>\n",
       "      <td>40407</td>\n",
       "      <td>80</td>\n",
       "      <td>[1640.0, 1640.0, 1648.0, 1640.0, 1648.0, 1648....</td>\n",
       "      <td>False</td>\n",
       "    </tr>\n",
       "    <tr>\n",
       "      <th>43356</th>\n",
       "      <td>40407</td>\n",
       "      <td>160</td>\n",
       "      <td>[2352.0, 2344.0, 2328.0, 2360.0, 2424.0, 2472....</td>\n",
       "      <td>False</td>\n",
       "    </tr>\n",
       "    <tr>\n",
       "      <th>43357</th>\n",
       "      <td>40407</td>\n",
       "      <td>240</td>\n",
       "      <td>[1616.0, 1616.0, 1616.0, 1624.0, 1616.0, 1624....</td>\n",
       "      <td>False</td>\n",
       "    </tr>\n",
       "    <tr>\n",
       "      <th>43358</th>\n",
       "      <td>40407</td>\n",
       "      <td>320</td>\n",
       "      <td>[1792.0, 1784.0, 1784.0, 1720.0, 1624.0, 1552....</td>\n",
       "      <td>False</td>\n",
       "    </tr>\n",
       "    <tr>\n",
       "      <th>43359</th>\n",
       "      <td>40407</td>\n",
       "      <td>400</td>\n",
       "      <td>[1616.0, 1616.0, 1616.0, 1616.0, 1616.0, 1624....</td>\n",
       "      <td>False</td>\n",
       "    </tr>\n",
       "    <tr>\n",
       "      <th>43360</th>\n",
       "      <td>40407</td>\n",
       "      <td>480</td>\n",
       "      <td>[2392.0, 2456.0, 2520.0, 2528.0, 2520.0, 2328....</td>\n",
       "      <td>False</td>\n",
       "    </tr>\n",
       "    <tr>\n",
       "      <th>43361</th>\n",
       "      <td>40407</td>\n",
       "      <td>560</td>\n",
       "      <td>[1616.0, 1624.0, 1632.0, 1624.0, 1616.0, 1616....</td>\n",
       "      <td>True</td>\n",
       "    </tr>\n",
       "    <tr>\n",
       "      <th>43362</th>\n",
       "      <td>40407</td>\n",
       "      <td>640</td>\n",
       "      <td>[3320.0, 3304.0, 3288.0, 2976.0, 2328.0, 1784....</td>\n",
       "      <td>True</td>\n",
       "    </tr>\n",
       "    <tr>\n",
       "      <th>43399</th>\n",
       "      <td>40413</td>\n",
       "      <td>0</td>\n",
       "      <td>[1400.0, 1400.0, 1400.0, 1400.0, 1384.0, 1384....</td>\n",
       "      <td>False</td>\n",
       "    </tr>\n",
       "    <tr>\n",
       "      <th>43400</th>\n",
       "      <td>40413</td>\n",
       "      <td>80</td>\n",
       "      <td>[1608.0, 1600.0, 1584.0, 1568.0, 1568.0, 1568....</td>\n",
       "      <td>False</td>\n",
       "    </tr>\n",
       "    <tr>\n",
       "      <th>43401</th>\n",
       "      <td>40413</td>\n",
       "      <td>160</td>\n",
       "      <td>[2552.0, 2536.0, 2528.0, 2520.0, 2504.0, 2504....</td>\n",
       "      <td>False</td>\n",
       "    </tr>\n",
       "    <tr>\n",
       "      <th>43402</th>\n",
       "      <td>40413</td>\n",
       "      <td>240</td>\n",
       "      <td>[2168.0, 2160.0, 2152.0, 2136.0, 2136.0, 2128....</td>\n",
       "      <td>False</td>\n",
       "    </tr>\n",
       "    <tr>\n",
       "      <th>43403</th>\n",
       "      <td>40413</td>\n",
       "      <td>320</td>\n",
       "      <td>[1640.0, 1640.0, 1640.0, 1640.0, 1640.0, 1640....</td>\n",
       "      <td>False</td>\n",
       "    </tr>\n",
       "    <tr>\n",
       "      <th>43404</th>\n",
       "      <td>40413</td>\n",
       "      <td>400</td>\n",
       "      <td>[1674.0, 1682.0, 1682.0, 1698.0, 1698.0, 1698....</td>\n",
       "      <td>True</td>\n",
       "    </tr>\n",
       "    <tr>\n",
       "      <th>43405</th>\n",
       "      <td>40413</td>\n",
       "      <td>480</td>\n",
       "      <td>[1712.0, 1712.0, 1704.0, 1704.0, 1712.0, 1720....</td>\n",
       "      <td>False</td>\n",
       "    </tr>\n",
       "    <tr>\n",
       "      <th>43406</th>\n",
       "      <td>40413</td>\n",
       "      <td>560</td>\n",
       "      <td>[1352.0, 1360.0, 1368.0, 1384.0, 1376.0, 1368....</td>\n",
       "      <td>False</td>\n",
       "    </tr>\n",
       "    <tr>\n",
       "      <th>43407</th>\n",
       "      <td>40414</td>\n",
       "      <td>0</td>\n",
       "      <td>[1400.0, 1400.0, 1392.0, 1392.0, 1392.0, 1400....</td>\n",
       "      <td>False</td>\n",
       "    </tr>\n",
       "    <tr>\n",
       "      <th>43408</th>\n",
       "      <td>40414</td>\n",
       "      <td>80</td>\n",
       "      <td>[1512.0, 1544.0, 1560.0, 1584.0, 1592.0, 1600....</td>\n",
       "      <td>False</td>\n",
       "    </tr>\n",
       "    <tr>\n",
       "      <th>43409</th>\n",
       "      <td>40414</td>\n",
       "      <td>160</td>\n",
       "      <td>[1800.0, 1816.0, 1808.0, 1816.0, 1808.0, 1800....</td>\n",
       "      <td>False</td>\n",
       "    </tr>\n",
       "    <tr>\n",
       "      <th>43410</th>\n",
       "      <td>40414</td>\n",
       "      <td>240</td>\n",
       "      <td>[1792.0, 1792.0, 1792.0, 1800.0, 1800.0, 1800....</td>\n",
       "      <td>False</td>\n",
       "    </tr>\n",
       "    <tr>\n",
       "      <th>43411</th>\n",
       "      <td>40414</td>\n",
       "      <td>320</td>\n",
       "      <td>[1784.0, 1784.0, 1784.0, 1792.0, 1800.0, 1792....</td>\n",
       "      <td>False</td>\n",
       "    </tr>\n",
       "    <tr>\n",
       "      <th>43412</th>\n",
       "      <td>40414</td>\n",
       "      <td>400</td>\n",
       "      <td>[1790.0, 1782.0, 1774.0, 1750.0, 1742.0, 1734....</td>\n",
       "      <td>True</td>\n",
       "    </tr>\n",
       "    <tr>\n",
       "      <th>43473</th>\n",
       "      <td>40421</td>\n",
       "      <td>0</td>\n",
       "      <td>[1416.0, 1400.0, 1400.0, 1408.0, 1408.0, 1408....</td>\n",
       "      <td>False</td>\n",
       "    </tr>\n",
       "    <tr>\n",
       "      <th>43474</th>\n",
       "      <td>40421</td>\n",
       "      <td>80</td>\n",
       "      <td>[1632.0, 1632.0, 1632.0, 1632.0, 1616.0, 1616....</td>\n",
       "      <td>False</td>\n",
       "    </tr>\n",
       "    <tr>\n",
       "      <th>43475</th>\n",
       "      <td>40421</td>\n",
       "      <td>160</td>\n",
       "      <td>[2048.0, 2000.0, 1920.0, 1848.0, 1808.0, 1792....</td>\n",
       "      <td>False</td>\n",
       "    </tr>\n",
       "    <tr>\n",
       "      <th>43476</th>\n",
       "      <td>40421</td>\n",
       "      <td>240</td>\n",
       "      <td>[1728.0, 1736.0, 1744.0, 1744.0, 1736.0, 1728....</td>\n",
       "      <td>True</td>\n",
       "    </tr>\n",
       "    <tr>\n",
       "      <th>43477</th>\n",
       "      <td>40421</td>\n",
       "      <td>320</td>\n",
       "      <td>[1186.0, 1202.0, 1202.0, 1234.0, 1242.0, 1258....</td>\n",
       "      <td>True</td>\n",
       "    </tr>\n",
       "    <tr>\n",
       "      <th>43478</th>\n",
       "      <td>40421</td>\n",
       "      <td>400</td>\n",
       "      <td>[1728.0, 1728.0, 1728.0, 1728.0, 1728.0, 1728....</td>\n",
       "      <td>False</td>\n",
       "    </tr>\n",
       "  </tbody>\n",
       "</table>\n",
       "</div>"
      ],
      "text/plain": [
       "       serie  ind_debut                                            valeurs  \\\n",
       "id                                                                           \n",
       "43120  40379        480  [1736.0, 1744.0, 1744.0, 1744.0, 1736.0, 1736....   \n",
       "43183  40389          0  [1408.0, 1408.0, 1416.0, 1416.0, 1408.0, 1392....   \n",
       "43184  40389         80  [1776.0, 1768.0, 1760.0, 1752.0, 1744.0, 1736....   \n",
       "43185  40389        160  [1712.0, 1720.0, 1728.0, 1736.0, 1736.0, 1736....   \n",
       "43186  40389        240  [1258.0, 1258.0, 1266.0, 1282.0, 1274.0, 1266....   \n",
       "43187  40389        320  [2704.0, 2696.0, 2696.0, 2696.0, 2464.0, 2048....   \n",
       "43188  40389        400  [1728.0, 1720.0, 1720.0, 1720.0, 1720.0, 1712....   \n",
       "43251  40396          0  [1400.0, 1400.0, 1408.0, 1408.0, 1424.0, 1424....   \n",
       "43252  40396         80  [1400.0, 1392.0, 1392.0, 1400.0, 1400.0, 1400....   \n",
       "43253  40396        160  [1736.0, 1744.0, 1744.0, 1744.0, 1744.0, 1744....   \n",
       "43254  40396        240  [1760.0, 1720.0, 1720.0, 1984.0, 2352.0, 2616....   \n",
       "43255  40396        320  [1718.0, 1702.0, 1686.0, 1670.0, 1702.0, 1718....   \n",
       "43256  40396        400  [1712.0, 1704.0, 1696.0, 1688.0, 1688.0, 1680....   \n",
       "43257  40396        480  [1336.0, 1352.0, 1368.0, 1376.0, 1376.0, 1392....   \n",
       "43269  40399          0  [1456.0, 1456.0, 1456.0, 1456.0, 1456.0, 1448....   \n",
       "43270  40399         80  [1408.0, 1416.0, 1424.0, 1424.0, 1416.0, 1408....   \n",
       "43271  40399        160  [1688.0, 1672.0, 1664.0, 1656.0, 1656.0, 1656....   \n",
       "43272  40399        240  [1648.0, 1656.0, 1656.0, 1656.0, 1648.0, 1648....   \n",
       "43273  40399        320  [1592.0, 1608.0, 1616.0, 1608.0, 1600.0, 1608....   \n",
       "43274  40399        400  [1536.0, 1536.0, 1544.0, 1544.0, 1544.0, 1544....   \n",
       "43275  40399        480  [1544.0, 1544.0, 1544.0, 1536.0, 1544.0, 1552....   \n",
       "43354  40407          0  [1464.0, 1464.0, 1456.0, 1456.0, 1456.0, 1456....   \n",
       "43355  40407         80  [1640.0, 1640.0, 1648.0, 1640.0, 1648.0, 1648....   \n",
       "43356  40407        160  [2352.0, 2344.0, 2328.0, 2360.0, 2424.0, 2472....   \n",
       "43357  40407        240  [1616.0, 1616.0, 1616.0, 1624.0, 1616.0, 1624....   \n",
       "43358  40407        320  [1792.0, 1784.0, 1784.0, 1720.0, 1624.0, 1552....   \n",
       "43359  40407        400  [1616.0, 1616.0, 1616.0, 1616.0, 1616.0, 1624....   \n",
       "43360  40407        480  [2392.0, 2456.0, 2520.0, 2528.0, 2520.0, 2328....   \n",
       "43361  40407        560  [1616.0, 1624.0, 1632.0, 1624.0, 1616.0, 1616....   \n",
       "43362  40407        640  [3320.0, 3304.0, 3288.0, 2976.0, 2328.0, 1784....   \n",
       "43399  40413          0  [1400.0, 1400.0, 1400.0, 1400.0, 1384.0, 1384....   \n",
       "43400  40413         80  [1608.0, 1600.0, 1584.0, 1568.0, 1568.0, 1568....   \n",
       "43401  40413        160  [2552.0, 2536.0, 2528.0, 2520.0, 2504.0, 2504....   \n",
       "43402  40413        240  [2168.0, 2160.0, 2152.0, 2136.0, 2136.0, 2128....   \n",
       "43403  40413        320  [1640.0, 1640.0, 1640.0, 1640.0, 1640.0, 1640....   \n",
       "43404  40413        400  [1674.0, 1682.0, 1682.0, 1698.0, 1698.0, 1698....   \n",
       "43405  40413        480  [1712.0, 1712.0, 1704.0, 1704.0, 1712.0, 1720....   \n",
       "43406  40413        560  [1352.0, 1360.0, 1368.0, 1384.0, 1376.0, 1368....   \n",
       "43407  40414          0  [1400.0, 1400.0, 1392.0, 1392.0, 1392.0, 1400....   \n",
       "43408  40414         80  [1512.0, 1544.0, 1560.0, 1584.0, 1592.0, 1600....   \n",
       "43409  40414        160  [1800.0, 1816.0, 1808.0, 1816.0, 1808.0, 1800....   \n",
       "43410  40414        240  [1792.0, 1792.0, 1792.0, 1800.0, 1800.0, 1800....   \n",
       "43411  40414        320  [1784.0, 1784.0, 1784.0, 1792.0, 1800.0, 1792....   \n",
       "43412  40414        400  [1790.0, 1782.0, 1774.0, 1750.0, 1742.0, 1734....   \n",
       "43473  40421          0  [1416.0, 1400.0, 1400.0, 1408.0, 1408.0, 1408....   \n",
       "43474  40421         80  [1632.0, 1632.0, 1632.0, 1632.0, 1616.0, 1616....   \n",
       "43475  40421        160  [2048.0, 2000.0, 1920.0, 1848.0, 1808.0, 1792....   \n",
       "43476  40421        240  [1728.0, 1736.0, 1744.0, 1744.0, 1736.0, 1728....   \n",
       "43477  40421        320  [1186.0, 1202.0, 1202.0, 1234.0, 1242.0, 1258....   \n",
       "43478  40421        400  [1728.0, 1728.0, 1728.0, 1728.0, 1728.0, 1728....   \n",
       "\n",
       "        anom  \n",
       "id            \n",
       "43120  False  \n",
       "43183  False  \n",
       "43184  False  \n",
       "43185   True  \n",
       "43186   True  \n",
       "43187  False  \n",
       "43188  False  \n",
       "43251  False  \n",
       "43252  False  \n",
       "43253  False  \n",
       "43254   True  \n",
       "43255   True  \n",
       "43256  False  \n",
       "43257  False  \n",
       "43269  False  \n",
       "43270   True  \n",
       "43271  False  \n",
       "43272  False  \n",
       "43273  False  \n",
       "43274  False  \n",
       "43275  False  \n",
       "43354  False  \n",
       "43355  False  \n",
       "43356  False  \n",
       "43357  False  \n",
       "43358  False  \n",
       "43359  False  \n",
       "43360  False  \n",
       "43361   True  \n",
       "43362   True  \n",
       "43399  False  \n",
       "43400  False  \n",
       "43401  False  \n",
       "43402  False  \n",
       "43403  False  \n",
       "43404   True  \n",
       "43405  False  \n",
       "43406  False  \n",
       "43407  False  \n",
       "43408  False  \n",
       "43409  False  \n",
       "43410  False  \n",
       "43411  False  \n",
       "43412   True  \n",
       "43473  False  \n",
       "43474  False  \n",
       "43475  False  \n",
       "43476   True  \n",
       "43477   True  \n",
       "43478  False  "
      ]
     },
     "execution_count": 191,
     "metadata": {},
     "output_type": "execute_result"
    }
   ],
   "source": [
    "# Toutes les fenetres des séries contenant une anomalie\n",
    "data_ajout_anom = data_fenetres.loc[data_fenetres[\"serie\"].isin(ind_anom)] \n",
    "# On met un indice d'une grande puisance de 10 pour identifier plus facilement les fenetres ajoutees\n",
    "offset = 10 ** (int(np.log10(data_fenetres.index.values[-1])) + 1)\n",
    "\n",
    "df_supervise = data_fenetres\n",
    "for i in range(1,5):\n",
    "    data_ajout_anom.index += offset\n",
    "    data_ajout_anom.serie += offset\n",
    "    df_supervise = pd.concat([df_supervise, data_ajout_anom])\n",
    "    \n",
    "# df_supervise contient les données d'apprentissage + les données de tests + les séries anormales recopiées 4 fois\n",
    "# les séries recopiées ont pour indice leur indice de départ + k*offset pour k=1,..,4\n",
    "df_supervise.tail(50)"
   ]
  },
  {
   "cell_type": "code",
   "execution_count": 192,
   "metadata": {},
   "outputs": [],
   "source": [
    "def plot_anom_type(Type):\n",
    "    for num in df_supervise.index.values:\n",
    "        TS = df_supervise.loc[num]\n",
    "        loc = TS[\"loc\"]\n",
    "        serie = TS[\"valeurs\"]\n",
    "\n",
    "        if TS[\"type\"] == Type: \n",
    "            fig, ax = plt.subplots(figsize=(12, 7))\n",
    "            plt.title(\"Série numéro \" + str(num) + \", type \" + str(Type), size=20, color='r', fontweight='bold')\n",
    "\n",
    "            ax.plot(range(loc), serie[: loc], 'b')\n",
    "            ax.plot(range(loc - 1, loc + 56), serie[loc - 1 : loc + 56], 'r')\n",
    "            ax.plot(range(loc + 55, len(serie)), serie[loc + 55 :], 'b')\n",
    "\n",
    "        plt.show()"
   ]
  },
  {
   "cell_type": "code",
   "execution_count": 193,
   "metadata": {},
   "outputs": [
    {
     "name": "stdout",
     "output_type": "stream",
     "text": [
      "Marche plus avec le nouveau DataFrame, à adapter si besoin.\n"
     ]
    }
   ],
   "source": [
    "try:\n",
    "    for T in range(1, 5):\n",
    "        plot_anom_type(T)\n",
    "except KeyError:\n",
    "    print(\"Marche plus avec le nouveau DataFrame, à adapter si besoin.\")"
   ]
  },
  {
   "cell_type": "markdown",
   "metadata": {},
   "source": [
    "## Pre-Processing "
   ]
  },
  {
   "cell_type": "markdown",
   "metadata": {},
   "source": [
    "### Features"
   ]
  },
  {
   "cell_type": "code",
   "execution_count": 203,
   "metadata": {},
   "outputs": [],
   "source": [
    "df_supervise[\"min\"] = list(map(min, df_supervise.valeurs))\n",
    "df_supervise[\"max\"] = list(map(max, df_supervise.valeurs))\n",
    "df_supervise[\"mean\"] = list(map(np.mean, df_supervise.valeurs))\n",
    "df_supervise[\"std\"] = list(map(np.std, df_supervise.valeurs))\n",
    "df_supervise[\"skew\"] = list(map(sps.skew, df_supervise.valeurs))\n",
    "df_supervise[\"kurt\"] = list(map(sps.kurtosis, df_supervise.valeurs))\n",
    "df_supervise[\"energy\"] = list(map(lambda x : sum(np.asarray(x)**2)/len(x), df_supervise.valeurs))\n",
    "df_supervise[\"average_cross\"] = list(map(lambda x : sum(1*(x > np.mean(x)))/len(x), df_supervise.valeurs))"
   ]
  },
  {
   "cell_type": "code",
   "execution_count": 204,
   "metadata": {},
   "outputs": [],
   "source": [
    "scaler = preprocessing.StandardScaler()\n",
    "names_features = [\"min\", \"max\", \"mean\", \"std\", \"skew\", \"kurt\", \"energy\", \"average_cross\"]\n",
    "for col in names_features:\n",
    "    df_supervise[col] = scaler.fit_transform(df_supervise[col].values.reshape(-1, 1))"
   ]
  },
  {
   "cell_type": "code",
   "execution_count": 205,
   "metadata": {},
   "outputs": [],
   "source": [
    "taille_test = df_supervise.shape[0] // 3\n",
    "X_train, X_test, Y_train, Y_test = train_test_split(df_supervise[names_features], df_supervise[\"anom\"], test_size=taille_test)"
   ]
  },
  {
   "cell_type": "markdown",
   "metadata": {},
   "source": [
    "## Regression Logistique appliquée sur les features"
   ]
  },
  {
   "cell_type": "markdown",
   "metadata": {},
   "source": [
    "#### Optimisation Lasso"
   ]
  },
  {
   "cell_type": "code",
   "execution_count": 221,
   "metadata": {},
   "outputs": [
    {
     "name": "stdout",
     "output_type": "stream",
     "text": [
      "Meilleur score (apprentissage) = 0.035948, Meilleur paramètre = {'C': 12}\n"
     ]
    }
   ],
   "source": [
    "from sklearn.linear_model import LogisticRegression\n",
    "from sklearn.model_selection import GridSearchCV\n",
    "# Grille de valeurs du paramètre de pénalisaiton\n",
    "param=[{\"C\": [12,10,13]}]\n",
    "logitL = GridSearchCV(LogisticRegression(penalty=\"l1\"), param, cv=5, n_jobs=-1)\n",
    "logitLasso = logitL.fit(X_train, Y_train)\n",
    "# Sélection du paramètre optimal\n",
    "logitLasso.best_params_[\"C\"]\n",
    "print(\"Meilleur score (apprentissage) = %f, Meilleur paramètre = %s\" % (1.-logitLasso.best_score_,logitLasso.best_params_))"
   ]
  },
  {
   "cell_type": "code",
   "execution_count": 222,
   "metadata": {},
   "outputs": [
    {
     "data": {
      "text/plain": [
       "0.04142441860465118"
      ]
     },
     "execution_count": 222,
     "metadata": {},
     "output_type": "execute_result"
    }
   ],
   "source": [
    "# définition des estimateurs\n",
    "logit= LogisticRegression(penalty=\"l1\", C=logitLasso.best_params_[\"C\"] )\n",
    "logitOpt=logit.fit(X_train, Y_train)\n",
    "# erreur sur l'échantillon test\n",
    "1-logitOpt.score(X_test, Y_test)"
   ]
  },
  {
   "cell_type": "code",
   "execution_count": 225,
   "metadata": {},
   "outputs": [
    {
     "data": {
      "image/png": "[encoded data removed]",
      "text/plain": [
       "<Figure size 1152x864 with 8 Axes>"
      ]
     },
     "metadata": {},
     "output_type": "display_data"
    }
   ],
   "source": [
    "# prévision\n",
    "y_chap = logitOpt.predict(X_test)\n",
    "df_supervise[\"pred\"] = np.concatenate((np.array([False] * (df_supervise.shape[0] - len(y_chap))), y_chap))\n",
    "ind_series_anom = np.unique(df_supervise[df_supervise[\"pred\"]][\"serie\"].values)\n",
    "# matrice de confusion\n",
    "table = pd.crosstab(y_chap, Y_test, rownames=[\"Prédiction\"], colnames=[\"Vraie valeur\"], normalize=False) # margins=True, margins_name=\"Total\")\n",
    "table_norm = pd.crosstab(y_chap, Y_test, rownames=[\"Prédiction\"], colnames=[\"Vraie valeur\"], normalize=\"all\")\n",
    "table_norm_index = pd.crosstab(y_chap, Y_test, rownames=[\"Prédiction\"], colnames=[\"Vraie valeur\"], normalize=\"index\") # margins=True, margins_name=\"Total\")\n",
    "table_norm_col = pd.crosstab(y_chap, Y_test, rownames=[\"Prédiction\"], colnames=[\"Vraie valeur\"], normalize=\"columns\")\n",
    "sns.set(font_scale=1.4)  #for label size\n",
    "fig, ax = plt.subplots(nrows=2, ncols=2, figsize=(16, 12))\n",
    "sns.heatmap(table, annot=True, cmap=\"Blues\", ax=ax[0, 0], annot_kws={\"size\": 16})  # font size\n",
    "ax[0, 0].set_title(\"Matrice de confusion brute\")\n",
    "sns.heatmap(table_norm, annot=True, cmap=\"Blues\", ax=ax[0, 1], annot_kws={\"size\": 16}) # font size\n",
    "ax[0, 1].set_title(\"Matrice de confusion normalisée\")\n",
    "sns.heatmap(table_norm_index, annot=True, cmap=\"Blues\", ax=ax[1, 0], annot_kws={\"size\": 16}) # font size\n",
    "ax[1, 0].set_title(\"Matrice de confusion normalisée selon les lignes\")\n",
    "sns.heatmap(table_norm_col, annot=True, cmap=\"Blues\", ax=ax[1, 1], annot_kws={\"size\": 16}) # font size\n",
    "ax[1, 1].set_title(\"Matrice de confusion normalisée selon les colonnes\")\n",
    "plt.show()"
   ]
  },
  {
   "cell_type": "markdown",
   "metadata": {},
   "source": [
    "### Coefficients de Fourier"
   ]
  },
  {
   "cell_type": "code",
   "execution_count": 260,
   "metadata": {},
   "outputs": [
    {
     "name": "stdout",
     "output_type": "stream",
     "text": [
      "(4130, 80)\n",
      "(4130, 8)\n"
     ]
    }
   ],
   "source": [
    "from scipy.fftpack import fft\n",
    "fftCoeff =[]\n",
    "for x in df_supervise[\"valeurs\"]:\n",
    "    mx = np.mean(x)\n",
    "    x_centre = x - mx\n",
    "    #Apply fast Fourier transform\n",
    "    coeffsfft = np.abs(fft(x_centre))\n",
    "    coeffsfft_flatten = np.hstack(coeffsfft)\n",
    "    fftCoeff.append(coeffsfft_flatten)\n",
    "    \n",
    "fftCoeff = np.array(fftCoeff)\n",
    "print(fftCoeff.shape)\n",
    "\n",
    "#Coefficients seuillés\n",
    "prop_a_garder = 0.1\n",
    "nb_coeffs = int(fftCoeff.shape[1] * prop_a_garder)\n",
    "somme = np.sum(fftCoeff**2, axis=0)\n",
    "fftCoeff_seuil = np.zeros((0, nb_coeffs))\n",
    "ind_grands = np.argsort(somme)[-nb_coeffs :]\n",
    "fftCoeff_seuil = fftCoeff[:, ind_grands]\n",
    "\n",
    "print(fftCoeff_seuil.shape)"
   ]
  },
  {
   "cell_type": "code",
   "execution_count": 261,
   "metadata": {},
   "outputs": [],
   "source": [
    "df_Fourier = pd.DataFrame(fftCoeff)\n",
    "df_Fourier_seuil = pd.DataFrame(fftCoeff_seuil)"
   ]
  },
  {
   "cell_type": "code",
   "execution_count": 262,
   "metadata": {},
   "outputs": [],
   "source": [
    "for col in df_Fourier.columns :\n",
    "    df_Fourier[col] = scaler.fit_transform(df_Fourier[col].values.reshape(-1, 1))\n",
    "for col in df_Fourier_seuil.columns :\n",
    "    df_Fourier_seuil[col] = scaler.fit_transform(df_Fourier_seuil[col].values.reshape(-1, 1))"
   ]
  },
  {
   "cell_type": "code",
   "execution_count": 263,
   "metadata": {},
   "outputs": [],
   "source": [
    "taille_test = df_supervise.shape[0] // 3\n",
    "X_train, X_test, Y_train, Y_test = train_test_split(df_Fourier, df_supervise[\"anom\"], test_size=taille_test)"
   ]
  },
  {
   "cell_type": "markdown",
   "metadata": {},
   "source": [
    "### Regression Logistique appliquée sur les coeffients de Fourier "
   ]
  },
  {
   "cell_type": "markdown",
   "metadata": {},
   "source": [
    "#### Optimisation Lasso"
   ]
  },
  {
   "cell_type": "code",
   "execution_count": 239,
   "metadata": {},
   "outputs": [
    {
     "name": "stdout",
     "output_type": "stream",
     "text": [
      "Meilleur score (apprentissage) = 0.035948, Meilleur paramètre = {'C': 2}\n"
     ]
    }
   ],
   "source": [
    "from sklearn.linear_model import LogisticRegression\n",
    "from sklearn.model_selection import GridSearchCV\n",
    "# Grille de valeurs du paramètre de pénalisaiton\n",
    "param=[{\"C\": [2, 1, 12, 0.10, 0.012, 15, 30]}]\n",
    "logitL = GridSearchCV(LogisticRegression(penalty=\"l1\"), param, cv=5, n_jobs=-1)\n",
    "logitLasso = logitL.fit(X_train, Y_train)\n",
    "# Sélection du paramètre optimal\n",
    "logitLasso.best_params_[\"C\"]\n",
    "print(\"Meilleur score (apprentissage) = %f, Meilleur paramètre = %s\" % (1.-logitLasso.best_score_,logitLasso.best_params_))"
   ]
  },
  {
   "cell_type": "code",
   "execution_count": 249,
   "metadata": {},
   "outputs": [
    {
     "data": {
      "text/plain": [
       "0.03488372093023251"
      ]
     },
     "execution_count": 249,
     "metadata": {},
     "output_type": "execute_result"
    }
   ],
   "source": [
    "# définition des estimateurs\n",
    "logit= LogisticRegression(penalty=\"l1\", C=logitLasso.best_params_[\"C\"] )\n",
    "logitOpt=logit.fit(X_train, Y_train)\n",
    "# erreur sur l'échantillon test\n",
    "1-logitOpt.score(X_test, Y_test)"
   ]
  },
  {
   "cell_type": "code",
   "execution_count": 252,
   "metadata": {},
   "outputs": [
    {
     "data": {
      "image/png": "[encoded data removed]",
      "text/plain": [
       "<Figure size 1152x864 with 8 Axes>"
      ]
     },
     "metadata": {},
     "output_type": "display_data"
    }
   ],
   "source": [
    "# prévision\n",
    "y_chap = logitOpt.predict(X_test)\n",
    "df_supervise[\"pred\"] = np.concatenate((np.array([False] * (df_supervise.shape[0] - len(y_chap))), y_chap))\n",
    "ind_series_anom = np.unique(df_supervise[df_supervise[\"pred\"]][\"serie\"].values)\n",
    "# matrice de confusion\n",
    "table = pd.crosstab(y_chap, Y_test, rownames=[\"Prédiction\"], colnames=[\"Vraie valeur\"], normalize=False) # margins=True, margins_name=\"Total\")\n",
    "table_norm = pd.crosstab(y_chap, Y_test, rownames=[\"Prédiction\"], colnames=[\"Vraie valeur\"], normalize=\"all\")\n",
    "table_norm_index = pd.crosstab(y_chap, Y_test, rownames=[\"Prédiction\"], colnames=[\"Vraie valeur\"], normalize=\"index\") # margins=True, margins_name=\"Total\")\n",
    "table_norm_col = pd.crosstab(y_chap, Y_test, rownames=[\"Prédiction\"], colnames=[\"Vraie valeur\"], normalize=\"columns\")\n",
    "sns.set(font_scale=1.4)  #for label size\n",
    "fig, ax = plt.subplots(nrows=2, ncols=2, figsize=(16, 12))\n",
    "sns.heatmap(table, annot=True, cmap=\"Blues\", ax=ax[0, 0], annot_kws={\"size\": 16})  # font size\n",
    "ax[0, 0].set_title(\"Matrice de confusion brute\")\n",
    "sns.heatmap(table_norm, annot=True, cmap=\"Blues\", ax=ax[0, 1], annot_kws={\"size\": 16}) # font size\n",
    "ax[0, 1].set_title(\"Matrice de confusion normalisée\")\n",
    "sns.heatmap(table_norm_index, annot=True, cmap=\"Blues\", ax=ax[1, 0], annot_kws={\"size\": 16}) # font size\n",
    "ax[1, 0].set_title(\"Matrice de confusion normalisée selon les lignes\")\n",
    "sns.heatmap(table_norm_col, annot=True, cmap=\"Blues\", ax=ax[1, 1], annot_kws={\"size\": 16}) # font size\n",
    "ax[1, 1].set_title(\"Matrice de confusion normalisée selon les colonnes\")\n",
    "plt.show()"
   ]
  },
  {
   "cell_type": "markdown",
   "metadata": {},
   "source": [
    "### Coefficients d'ondelettes"
   ]
  },
  {
   "cell_type": "code",
   "execution_count": 246,
   "metadata": {},
   "outputs": [
    {
     "name": "stderr",
     "output_type": "stream",
     "text": [
      "/anaconda3/lib/python3.6/site-packages/pywt/_multilevel.py:664: FutureWarning: Using a non-tuple sequence for multidimensional indexing is deprecated; use `arr[tuple(seq)]` instead of `arr[seq]`. In the future this will be interpreted as an array index, `arr[np.array(seq)]`, which will result either in an error or a different result.\n",
      "  coeff_arr[a_slices] = a_coeffs\n",
      "/anaconda3/lib/python3.6/site-packages/pywt/_multilevel.py:690: FutureWarning: Using a non-tuple sequence for multidimensional indexing is deprecated; use `arr[tuple(seq)]` instead of `arr[seq]`. In the future this will be interpreted as an array index, `arr[np.array(seq)]`, which will result either in an error or a different result.\n",
      "  coeff_arr[slice_array] = d\n"
     ]
    },
    {
     "name": "stdout",
     "output_type": "stream",
     "text": [
      "(4130, 80) (4130, 89)\n"
     ]
    }
   ],
   "source": [
    "import pywt\n",
    "from pywt import wavedec\n",
    "from statsmodels.robust import mad\n",
    "\n",
    "wavelist=['haar', 'db2']\n",
    "\n",
    "wavelist=['haar', 'db2'] \n",
    "\n",
    "Coeff_ond_haar = []\n",
    "Coeff_ond_db2 = []\n",
    "\n",
    "for x in df_supervise[\"valeurs\"]:\n",
    "    #Apply wavelet decomposition\n",
    "    coeffs_haar = pywt.wavedec(x, wavelist[0], level=4) \n",
    "    coeffs_flatten_haar, coeff_slices_haar = pywt.coeffs_to_array(coeffs_haar)\n",
    "    Coeff_ond_haar.append(coeffs_flatten_haar)\n",
    "    #Apply wavelet decomposition\n",
    "    coeffs_db2 = pywt.wavedec(x, wavelist[1], level=4) \n",
    "    coeffs_flatten_db2, coeff_slices_db2 = pywt.coeffs_to_array(coeffs_db2)\n",
    "    Coeff_ond_db2.append(coeffs_flatten_db2)\n",
    "    \n",
    "    \n",
    "Coeff_ond_haar = np.array(Coeff_ond_haar)\n",
    "Coeff_ond_db2 = np.array(Coeff_ond_db2)\n",
    "\n",
    "print(Coeff_ond_haar.shape, Coeff_ond_db2.shape)"
   ]
  },
  {
   "cell_type": "code",
   "execution_count": 247,
   "metadata": {},
   "outputs": [],
   "source": [
    "df_ond_haar = pd.DataFrame(Coeff_ond_haar)\n",
    "df_ond_db2 = pd.DataFrame(Coeff_ond_db2)"
   ]
  },
  {
   "cell_type": "code",
   "execution_count": 248,
   "metadata": {},
   "outputs": [],
   "source": [
    "taille_test = df_supervise.shape[0] // 3\n",
    "X_train, X_test, Y_train, Y_test = train_test_split(df_ond_db2, df_supervise[\"anom\"], test_size=taille_test)"
   ]
  },
  {
   "cell_type": "markdown",
   "metadata": {},
   "source": [
    "#### Optimisation Lasso"
   ]
  },
  {
   "cell_type": "code",
   "execution_count": 254,
   "metadata": {},
   "outputs": [
    {
     "name": "stdout",
     "output_type": "stream",
     "text": [
      "Meilleur score (apprentissage) = 0.032680, Meilleur paramètre = {'C': 0.012}\n"
     ]
    }
   ],
   "source": [
    "from sklearn.linear_model import LogisticRegression\n",
    "from sklearn.model_selection import GridSearchCV\n",
    "# Grille de valeurs du paramètre de pénalisaiton\n",
    "param=[{\"C\": [2, 1, 12, 0.10, 0.012, 15, 30]}]\n",
    "logitL = GridSearchCV(LogisticRegression(penalty=\"l1\"), param, cv=5, n_jobs=-1)\n",
    "logitLasso = logitL.fit(X_train, Y_train)\n",
    "# Sélection du paramètre optimal\n",
    "logitLasso.best_params_[\"C\"]\n",
    "print(\"Meilleur score (apprentissage) = %f, Meilleur paramètre = %s\" % (1.-logitLasso.best_score_,logitLasso.best_params_))"
   ]
  },
  {
   "cell_type": "code",
   "execution_count": 255,
   "metadata": {},
   "outputs": [
    {
     "data": {
      "text/plain": [
       "0.03415697674418605"
      ]
     },
     "execution_count": 255,
     "metadata": {},
     "output_type": "execute_result"
    }
   ],
   "source": [
    "# définition des estimateurs\n",
    "logit= LogisticRegression(penalty=\"l1\", C=logitLasso.best_params_[\"C\"] )\n",
    "logitOpt=logit.fit(X_train, Y_train)\n",
    "# erreur sur l'échantillon test\n",
    "1-logitOpt.score(X_test, Y_test)"
   ]
  },
  {
   "cell_type": "code",
   "execution_count": 256,
   "metadata": {},
   "outputs": [
    {
     "data": {
      "image/png": "[encoded data removed]",
      "text/plain": [
       "<Figure size 1152x864 with 8 Axes>"
      ]
     },
     "metadata": {},
     "output_type": "display_data"
    }
   ],
   "source": [
    "# prévision\n",
    "y_chap = logitOpt.predict(X_test)\n",
    "df_supervise[\"pred\"] = np.concatenate((np.array([False] * (df_supervise.shape[0] - len(y_chap))), y_chap))\n",
    "ind_series_anom = np.unique(df_supervise[df_supervise[\"pred\"]][\"serie\"].values)\n",
    "# matrice de confusion\n",
    "table = pd.crosstab(y_chap, Y_test, rownames=[\"Prédiction\"], colnames=[\"Vraie valeur\"], normalize=False) # margins=True, margins_name=\"Total\")\n",
    "table_norm = pd.crosstab(y_chap, Y_test, rownames=[\"Prédiction\"], colnames=[\"Vraie valeur\"], normalize=\"all\")\n",
    "table_norm_index = pd.crosstab(y_chap, Y_test, rownames=[\"Prédiction\"], colnames=[\"Vraie valeur\"], normalize=\"index\") # margins=True, margins_name=\"Total\")\n",
    "table_norm_col = pd.crosstab(y_chap, Y_test, rownames=[\"Prédiction\"], colnames=[\"Vraie valeur\"], normalize=\"columns\")\n",
    "sns.set(font_scale=1.4)  #for label size\n",
    "fig, ax = plt.subplots(nrows=2, ncols=2, figsize=(16, 12))\n",
    "sns.heatmap(table, annot=True, cmap=\"Blues\", ax=ax[0, 0], annot_kws={\"size\": 16})  # font size\n",
    "ax[0, 0].set_title(\"Matrice de confusion brute\")\n",
    "sns.heatmap(table_norm, annot=True, cmap=\"Blues\", ax=ax[0, 1], annot_kws={\"size\": 16}) # font size\n",
    "ax[0, 1].set_title(\"Matrice de confusion normalisée\")\n",
    "sns.heatmap(table_norm_index, annot=True, cmap=\"Blues\", ax=ax[1, 0], annot_kws={\"size\": 16}) # font size\n",
    "ax[1, 0].set_title(\"Matrice de confusion normalisée selon les lignes\")\n",
    "sns.heatmap(table_norm_col, annot=True, cmap=\"Blues\", ax=ax[1, 1], annot_kws={\"size\": 16}) # font size\n",
    "ax[1, 1].set_title(\"Matrice de confusion normalisée selon les colonnes\")\n",
    "plt.show()"
   ]
  },
  {
   "cell_type": "markdown",
   "metadata": {},
   "source": [
    "## Random Forest "
   ]
  },
  {
   "cell_type": "markdown",
   "metadata": {},
   "source": [
    "### Visualisation des résultats"
   ]
  },
  {
   "cell_type": "code",
   "execution_count": 264,
   "metadata": {},
   "outputs": [
    {
     "name": "stdout",
     "output_type": "stream",
     "text": [
      "4130\n"
     ]
    }
   ],
   "source": [
    "# Interactive display\n",
    "from ipywidgets import interact, widgets, interactive, fixed, interact_manual\n",
    "from IPython.display import display\n",
    "\n",
    "df_liste = [\"Features\",\n",
    "            \"Ondelettes_haar\",\n",
    "            \"Ondelettes_db2\",\n",
    "            \"Coefficients de Fourier\",\n",
    "            \"Coefficients de Fourier seuillés\"\n",
    "           ]\n",
    "\n",
    "dict_df = {\"Features\" : df_supervise[names_features],\n",
    "           \"Ondelettes_haar\" : df_ond_haar,\n",
    "           \"Ondelettes_db2\" : df_ond_db2,\n",
    "           \"Coefficients de Fourier\" : df_Fourier,\n",
    "           \"Coefficients de Fourier seuillés\" : df_Fourier_seuil\n",
    "          }\n",
    "\n",
    "taille_max = df_supervise.shape[0]\n",
    "print(taille_max)"
   ]
  },
  {
   "cell_type": "code",
   "execution_count": 265,
   "metadata": {},
   "outputs": [
    {
     "data": {
      "application/vnd.jupyter.widget-view+json": {
       "model_id": "21d978eaba5049448371d76b3206bb55",
       "version_major": 2,
       "version_minor": 0
      },
      "text/plain": [
       "interactive(children=(Dropdown(description='Choix_df', options=('Features', 'Ondelettes_haar', 'Ondelettes_db2…"
      ]
     },
     "metadata": {},
     "output_type": "display_data"
    }
   ],
   "source": [
    "@interact(Choix_df=df_liste, taille_test=widgets.IntSlider(min=100, max=taille_max - 100, step=100, \n",
    "                                                           value=taille_max//3, continuous_update=False), \n",
    "          button=widgets.ToggleButton(description=\"Refresh\"))\n",
    "\n",
    "def RandomForest(Choix_df, taille_test, button):\n",
    "    df_coeff = dict_df[Choix_df]\n",
    "    #print(\"Proportion de fenêtres utilisées pour l'apprentissage : \", 1 - taille_test / df_coeff.shape[0])\n",
    "    X_train, X_test, Y_train, Y_test = train_test_split(df_coeff, df_supervise[\"anom\"], test_size=taille_test)\n",
    "    \n",
    "    # définition des paramètres\n",
    "    \n",
    "    # apprentissage\n",
    "    \n",
    "    max_feat = 5\n",
    "    param = [{\"max_features\" : list(range(2, min(max_feat, df_coeff.shape[1]) + 1))}]\n",
    "    rf = GridSearchCV(RandomForestClassifier(n_estimators=500), param, cv=5, n_jobs=-1)\n",
    "\n",
    "    rfOpt = rf.fit(X_train, Y_train)\n",
    "    \n",
    "    #print(\"Erreur Out of bag : \", 1 - rfOpt.oob_score_)  # N'existe pas sur les objets GridSearchCV, hélas\n",
    "    # erreur de prévision sur le test\n",
    "    #print(\"Erreur de prévision sur le test : \", 1 - rfOpt.score(X_test, Y_test))\n",
    "    # paramètre optimal\n",
    "    #print(\"Meilleur score = %f, Meilleur paramètre = %s\" % (1. - rfOpt.best_score_, rfOpt.best_params_))\n",
    "    \n",
    "    forest = RandomForestClassifier(n_estimators=500, criterion='gini', max_depth=None, min_samples_split=2,\n",
    "                                    min_samples_leaf=1, max_features=rfOpt.best_params_['max_features'], \n",
    "                                    max_leaf_nodes=None, bootstrap=True, oob_score=True)\n",
    "    rfFit = forest.fit(X_train, Y_train)\n",
    "    \n",
    "    # prévision\n",
    "    y_chap = rfOpt.predict(X_test)\n",
    "    \n",
    "    \n",
    "    df_supervise[\"pred\"] = np.array([False] * df_supervise.shape[0])\n",
    "    for ind, ind_fen in enumerate(Y_test.index):\n",
    "        df_supervise.loc[ind_fen, \"pred\"] = y_chap[ind]\n",
    "        \n",
    "    ind_series_anom = np.unique(df_supervise[df_supervise[\"pred\"]][\"serie\"].values)\n",
    "    print(\"Séries contenant une anomalie : \", ind_series_anom)\n",
    "    # matrice de confusion\n",
    "\n",
    "    table = pd.crosstab(y_chap, Y_test, rownames=[\"Prédiction\"], colnames=[\"Vraie valeur\"], normalize=False)\n",
    "    table_norm = pd.crosstab(y_chap, Y_test, rownames=[\"Prédiction\"], colnames=[\"Vraie valeur\"], normalize=\"all\")\n",
    "    table_norm_index = pd.crosstab(y_chap, Y_test, rownames=[\"Prédiction\"], colnames=[\"Vraie valeur\"], normalize=\"index\")\n",
    "    table_norm_col = pd.crosstab(y_chap, Y_test, rownames=[\"Prédiction\"], colnames=[\"Vraie valeur\"], normalize=\"columns\")\n",
    "    sns.set(font_scale=1.4)\n",
    "    fig, ax = plt.subplots(nrows=2, ncols=2, figsize=(16, 12))\n",
    "    sns.heatmap(table, annot=True, cmap=\"Blues\", ax=ax[0, 0], annot_kws={\"size\": 16})\n",
    "    ax[0, 0].set_title(\"Matrice de confusion brute\")\n",
    "    sns.heatmap(table_norm, annot=True, cmap=\"Blues\", ax=ax[0, 1], annot_kws={\"size\": 16})\n",
    "    ax[0, 1].set_title(\"Matrice de confusion normalisée\")\n",
    "    sns.heatmap(table_norm_index, annot=True, cmap=\"Blues\", ax=ax[1, 0], annot_kws={\"size\": 16})\n",
    "    ax[1, 0].set_title(\"Matrice de confusion normalisée selon les lignes\")\n",
    "    sns.heatmap(table_norm_col, annot=True, cmap=\"Blues\", ax=ax[1, 1], annot_kws={\"size\": 16})\n",
    "    ax[1, 1].set_title(\"Matrice de confusion normalisée selon les colonnes\")\n",
    "    plt.show()\n",
    "\n",
    "    for num in ind_series_anom:\n",
    "\n",
    "        fig, ax = plt.subplots(figsize=(8, 5))\n",
    "        TS = df_supervise[(df_supervise[\"serie\"] == num)][\"valeurs\"].values\n",
    "        anoms = df_supervise[df_supervise[\"serie\"] == num][\"pred\"].values\n",
    "        title_obj = plt.title(\"Série numéro \" + str(num % offset), size=25)\n",
    "        for (i, x), anom in zip(enumerate(TS), anoms):\n",
    "\n",
    "            if i > 0:  # Raccordement\n",
    "                ax.plot([N * i - 1, N * i], [last, x[0]], \"br\"[int(anom)])\n",
    "\n",
    "            ax.plot(range(N * i, N * (i + 1)),  x, \"br\"[int(anom)])\n",
    "            last = x[-1]\n",
    "            if anom:\n",
    "                plt.setp(title_obj, color='r', fontweight=\"bold\")\n",
    "    \n",
    "        plt.show()"
   ]
  },
  {
   "cell_type": "code",
   "execution_count": null,
   "metadata": {},
   "outputs": [],
   "source": []
  }
 ],
 "metadata": {
  "kernelspec": {
   "display_name": "Python 3",
   "language": "python",
   "name": "python3"
  },
  "language_info": {
   "codemirror_mode": {
    "name": "ipython",
    "version": 3
   },
   "file_extension": ".py",
   "mimetype": "text/x-python",
   "name": "python",
   "nbconvert_exporter": "python",
   "pygments_lexer": "ipython3",
   "version": "3.6.5"
  }
 },
 "nbformat": 4,
 "nbformat_minor": 2
}
