{
 "cells": [
  {
   "cell_type": "markdown",
   "metadata": {},
   "source": [
    "# Visualisation des anomalies"
   ]
  },
  {
   "cell_type": "code",
   "execution_count": 1,
   "metadata": {},
   "outputs": [],
   "source": [
    "import pandas as pd\n",
    "import numpy as np\n",
    "import scipy.stats as sps\n",
    "\n",
    "# Plot et Display\n",
    "from IPython.display import display\n",
    "%matplotlib inline\n",
    "import matplotlib.pyplot as plt\n",
    "import seaborn as sns\n",
    "sns.set()\n",
    "sns.set_style(\"darkgrid\", {\"axes.facecolor\": \".9\"})\n",
    "\n",
    "# Scikit learn\n",
    "from sklearn import preprocessing\n",
    "from sklearn.model_selection import GridSearchCV\n",
    "from sklearn.model_selection import train_test_split  \n",
    "from sklearn.ensemble import RandomForestClassifier \n",
    "\n",
    "#Lecture des données \n",
    "import pickle"
   ]
  },
  {
   "cell_type": "code",
   "execution_count": 2,
   "metadata": {},
   "outputs": [],
   "source": [
    "#path_test = \"../../4A/Projet/Ensemble de test/\"\n",
    "path_test = \"../Donnees_projet/Ensemble_de_test/\""
   ]
  },
  {
   "cell_type": "code",
   "execution_count": 3,
   "metadata": {},
   "outputs": [],
   "source": [
    "with open('liste_propre', 'rb') as fichier:\n",
    "    mon_depickler = pickle.Unpickler(fichier)\n",
    "    liste_propre, ind_recupere = mon_depickler.load()"
   ]
  },
  {
   "cell_type": "code",
   "execution_count": 4,
   "metadata": {},
   "outputs": [],
   "source": [
    "n = len(liste_propre)\n",
    "liste_appr = list(np.asarray(liste_propre)[np.asarray(ind_recupere) <= 299])\n",
    "liste_test = list(np.asarray(liste_propre)[np.asarray(ind_recupere) > 299])\n",
    "n_appr = len(liste_appr)\n",
    "n_test = len(liste_test)"
   ]
  },
  {
   "cell_type": "code",
   "execution_count": 5,
   "metadata": {},
   "outputs": [],
   "source": [
    "anom = [False] * n_test\n",
    "type_anom = [-1] * n_test\n",
    "loc = [-1] * n_test\n",
    "\n",
    "anom[73] = True\n",
    "type_anom[73] = 1\n",
    "loc[73] = 200\n",
    "\n",
    "anom[96] = True\n",
    "type_anom[96] = 1\n",
    "loc[96] = 300\n",
    "\n",
    "anom[36] = True\n",
    "type_anom[36] = 1\n",
    "loc[36] = 400\n",
    "\n",
    "anom[32] = True\n",
    "type_anom[32] = 1\n",
    "loc[32] = 300\n",
    "\n",
    "anom[33] = True\n",
    "type_anom[33] = 1\n",
    "loc[33] = 200\n",
    "\n",
    "anom[107] = True\n",
    "type_anom[107] = 2\n",
    "loc[107] = 600\n",
    "\n",
    "anom[60] = True\n",
    "type_anom[60] = 2\n",
    "loc[60] = 400\n",
    "\n",
    "anom[113] = True\n",
    "type_anom[113] = 2\n",
    "loc[113] = 400\n",
    "\n",
    "anom[9] = True\n",
    "type_anom[9] = 2\n",
    "loc[9] = 200\n",
    "\n",
    "anom[11] = True\n",
    "type_anom[11] = 2\n",
    "loc[11] = 300\n",
    "\n",
    "anom[53] = True\n",
    "type_anom[53] = 3\n",
    "loc[53] = 400\n",
    "\n",
    "anom[114] = True\n",
    "type_anom[114] = 3\n",
    "loc[114] = 400\n",
    "\n",
    "anom[14] = True\n",
    "type_anom[14] = 3\n",
    "loc[14] = 500\n",
    "\n",
    "anom[79] = True\n",
    "type_anom[79] = 3\n",
    "loc[79] = 400\n",
    "\n",
    "anom[29] = True\n",
    "type_anom[29] = 3\n",
    "loc[29] = 300\n",
    "\n",
    "anom[27] = True\n",
    "type_anom[27] = 4\n",
    "loc[27] = 300\n",
    "\n",
    "anom[121] = True\n",
    "type_anom[121] = 4\n",
    "loc[121] = 300\n",
    "\n",
    "anom[5] = True\n",
    "type_anom[5] = 4\n",
    "loc[5] = 400\n",
    "\n",
    "anom[89] = True\n",
    "type_anom[89] = 4\n",
    "loc[89] = 200\n",
    "\n",
    "anom[99] = True\n",
    "type_anom[99] = 4\n",
    "loc[99] = 100  \n",
    "\n",
    "anom = [False] * n_appr + anom\n",
    "type_anom = [-1] * n_appr + type_anom\n",
    "loc = [-1] * n_appr + loc"
   ]
  },
  {
   "cell_type": "code",
   "execution_count": 6,
   "metadata": {},
   "outputs": [],
   "source": [
    "ind_anom = list(np.where(np.asarray(anom))[0]) # Indices des anomalies"
   ]
  },
  {
   "cell_type": "code",
   "execution_count": 7,
   "metadata": {},
   "outputs": [],
   "source": [
    "def df_fenetres(liste_comp, N, anom, loc):\n",
    "    serie = []\n",
    "    #origine = []\n",
    "    ind_debut = []\n",
    "    valeurs = []\n",
    "    anom_fen = []\n",
    "    for i, val, loc_i in zip(ind_recupere, liste_comp, loc):\n",
    "        # Liste des fenêtres de l'enregistrement\n",
    "        fenetres = [val[i * N:(i + 1) * N] for i in range((len(val) + N - 1) // N ) if len(val[i * N:(i + 1) * N]) == N]\n",
    "        nb_fen = len(fenetres)\n",
    "        valeurs += fenetres\n",
    "        anom_fen_i = [False] * nb_fen\n",
    "        pos_anom_deb_fen = loc_i // N\n",
    "        pos_anom_fin_fen = (loc_i + 55) // N\n",
    "        if loc_i > -1:\n",
    "            try:\n",
    "                for pos in range(pos_anom_deb_fen, pos_anom_fin_fen + 1):\n",
    "                    anom_fen_i[pos] = True\n",
    "\n",
    "            except IndexError:\n",
    "                pass\n",
    "                \"\"\"Cette erreur est levée lorsque l'anomalie se trouve en fin de série, dans une plage qui n'a pas été capturée \n",
    "                par une des fenêtres. On peut donc l'ignorer et continuer le traitement. Ce cas est de toute façon très rare\n",
    "                dans nos données.\"\"\"\n",
    "        anom_fen += anom_fen_i\n",
    "        ind_debut += list(range(0, nb_fen * N, N))\n",
    "        serie += [i] * nb_fen\n",
    "        \"\"\"if i < 300:\n",
    "            origine += [\"appr\"] * nb_fen\n",
    "        else:\n",
    "            origine += [\"test\"] * nb_fen\"\"\"\n",
    "        \n",
    "    \n",
    "    df = pd.DataFrame(data={\"id\" : list(range(len(serie))), \"serie\" : serie, \"ind_debut\" : ind_debut, \"valeurs\" : valeurs, \"anom\" : anom_fen})\n",
    "        \n",
    "    return df.set_index([\"id\"])"
   ]
  },
  {
   "cell_type": "code",
   "execution_count": 8,
   "metadata": {},
   "outputs": [],
   "source": [
    "N = 128\n",
    "data_fenetres = df_fenetres(liste_propre, N, anom, loc)"
   ]
  },
  {
   "cell_type": "code",
   "execution_count": 9,
   "metadata": {},
   "outputs": [],
   "source": [
    "ind_anom = list(data_fenetres[data_fenetres[\"anom\"]][\"serie\"].values)"
   ]
  },
  {
   "cell_type": "code",
   "execution_count": 10,
   "metadata": {
    "scrolled": true
   },
   "outputs": [
    {
     "data": {
      "text/html": [
       "<div>\n",
       "<style scoped>\n",
       "    .dataframe tbody tr th:only-of-type {\n",
       "        vertical-align: middle;\n",
       "    }\n",
       "\n",
       "    .dataframe tbody tr th {\n",
       "        vertical-align: top;\n",
       "    }\n",
       "\n",
       "    .dataframe thead th {\n",
       "        text-align: right;\n",
       "    }\n",
       "</style>\n",
       "<table border=\"1\" class=\"dataframe\">\n",
       "  <thead>\n",
       "    <tr style=\"text-align: right;\">\n",
       "      <th></th>\n",
       "      <th>serie</th>\n",
       "      <th>ind_debut</th>\n",
       "      <th>valeurs</th>\n",
       "      <th>anom</th>\n",
       "    </tr>\n",
       "    <tr>\n",
       "      <th>id</th>\n",
       "      <th></th>\n",
       "      <th></th>\n",
       "      <th></th>\n",
       "      <th></th>\n",
       "    </tr>\n",
       "  </thead>\n",
       "  <tbody>\n",
       "    <tr>\n",
       "      <th>41647</th>\n",
       "      <td>336</td>\n",
       "      <td>256</td>\n",
       "      <td>[1808.0, 1808.0, 1816.0, 1824.0, 1824.0, 1824....</td>\n",
       "      <td>False</td>\n",
       "    </tr>\n",
       "    <tr>\n",
       "      <th>41648</th>\n",
       "      <td>336</td>\n",
       "      <td>384</td>\n",
       "      <td>[1800.0, 1808.0, 1800.0, 1800.0, 1800.0, 1800....</td>\n",
       "      <td>True</td>\n",
       "    </tr>\n",
       "    <tr>\n",
       "      <th>41649</th>\n",
       "      <td>336</td>\n",
       "      <td>512</td>\n",
       "      <td>[1808.0, 1800.0, 1800.0, 1792.0, 1792.0, 1792....</td>\n",
       "      <td>False</td>\n",
       "    </tr>\n",
       "    <tr>\n",
       "      <th>41737</th>\n",
       "      <td>353</td>\n",
       "      <td>0</td>\n",
       "      <td>[1400.0, 1400.0, 1400.0, 1408.0, 1408.0, 1416....</td>\n",
       "      <td>False</td>\n",
       "    </tr>\n",
       "    <tr>\n",
       "      <th>41738</th>\n",
       "      <td>353</td>\n",
       "      <td>128</td>\n",
       "      <td>[1672.0, 1656.0, 1648.0, 1648.0, 1648.0, 1656....</td>\n",
       "      <td>False</td>\n",
       "    </tr>\n",
       "    <tr>\n",
       "      <th>41739</th>\n",
       "      <td>353</td>\n",
       "      <td>256</td>\n",
       "      <td>[1536.0, 1544.0, 1544.0, 1536.0, 1528.0, 1528....</td>\n",
       "      <td>False</td>\n",
       "    </tr>\n",
       "    <tr>\n",
       "      <th>41740</th>\n",
       "      <td>353</td>\n",
       "      <td>384</td>\n",
       "      <td>[2472.0, 2584.0, 2608.0, 2552.0, 2472.0, 2112....</td>\n",
       "      <td>True</td>\n",
       "    </tr>\n",
       "    <tr>\n",
       "      <th>41741</th>\n",
       "      <td>353</td>\n",
       "      <td>512</td>\n",
       "      <td>[1512.0, 1504.0, 1504.0, 1496.0, 1496.0, 1496....</td>\n",
       "      <td>False</td>\n",
       "    </tr>\n",
       "    <tr>\n",
       "      <th>41742</th>\n",
       "      <td>353</td>\n",
       "      <td>640</td>\n",
       "      <td>[1504.0, 1504.0, 1496.0, 1496.0, 1496.0, 1496....</td>\n",
       "      <td>False</td>\n",
       "    </tr>\n",
       "    <tr>\n",
       "      <th>41776</th>\n",
       "      <td>360</td>\n",
       "      <td>0</td>\n",
       "      <td>[1432.0, 1424.0, 1424.0, 1432.0, 1432.0, 1424....</td>\n",
       "      <td>False</td>\n",
       "    </tr>\n",
       "    <tr>\n",
       "      <th>41777</th>\n",
       "      <td>360</td>\n",
       "      <td>128</td>\n",
       "      <td>[1720.0, 1720.0, 1720.0, 1720.0, 1712.0, 1712....</td>\n",
       "      <td>False</td>\n",
       "    </tr>\n",
       "    <tr>\n",
       "      <th>41778</th>\n",
       "      <td>360</td>\n",
       "      <td>256</td>\n",
       "      <td>[1736.0, 1736.0, 1744.0, 1736.0, 1728.0, 1736....</td>\n",
       "      <td>False</td>\n",
       "    </tr>\n",
       "    <tr>\n",
       "      <th>41779</th>\n",
       "      <td>360</td>\n",
       "      <td>384</td>\n",
       "      <td>[1728.0, 1728.0, 1720.0, 1720.0, 1720.0, 1720....</td>\n",
       "      <td>True</td>\n",
       "    </tr>\n",
       "    <tr>\n",
       "      <th>41780</th>\n",
       "      <td>360</td>\n",
       "      <td>512</td>\n",
       "      <td>[1728.0, 1728.0, 1720.0, 1720.0, 1728.0, 1720....</td>\n",
       "      <td>False</td>\n",
       "    </tr>\n",
       "    <tr>\n",
       "      <th>41781</th>\n",
       "      <td>360</td>\n",
       "      <td>640</td>\n",
       "      <td>[1720.0, 1712.0, 1712.0, 1704.0, 1704.0, 1712....</td>\n",
       "      <td>False</td>\n",
       "    </tr>\n",
       "    <tr>\n",
       "      <th>41782</th>\n",
       "      <td>360</td>\n",
       "      <td>768</td>\n",
       "      <td>[1720.0, 1720.0, 1720.0, 1712.0, 1712.0, 1704....</td>\n",
       "      <td>False</td>\n",
       "    </tr>\n",
       "    <tr>\n",
       "      <th>41845</th>\n",
       "      <td>373</td>\n",
       "      <td>0</td>\n",
       "      <td>[1432.0, 1432.0, 1432.0, 1440.0, 1448.0, 1448....</td>\n",
       "      <td>False</td>\n",
       "    </tr>\n",
       "    <tr>\n",
       "      <th>41846</th>\n",
       "      <td>373</td>\n",
       "      <td>128</td>\n",
       "      <td>[1712.0, 1720.0, 1728.0, 1736.0, 1736.0, 1744....</td>\n",
       "      <td>True</td>\n",
       "    </tr>\n",
       "    <tr>\n",
       "      <th>41847</th>\n",
       "      <td>373</td>\n",
       "      <td>256</td>\n",
       "      <td>[1760.0, 1760.0, 1752.0, 1752.0, 1744.0, 1736....</td>\n",
       "      <td>False</td>\n",
       "    </tr>\n",
       "    <tr>\n",
       "      <th>41848</th>\n",
       "      <td>373</td>\n",
       "      <td>384</td>\n",
       "      <td>[1416.0, 1400.0, 1400.0, 1400.0, 1400.0, 1400....</td>\n",
       "      <td>False</td>\n",
       "    </tr>\n",
       "    <tr>\n",
       "      <th>41883</th>\n",
       "      <td>379</td>\n",
       "      <td>0</td>\n",
       "      <td>[1408.0, 1408.0, 1408.0, 1416.0, 1408.0, 1400....</td>\n",
       "      <td>False</td>\n",
       "    </tr>\n",
       "    <tr>\n",
       "      <th>41884</th>\n",
       "      <td>379</td>\n",
       "      <td>128</td>\n",
       "      <td>[1752.0, 1744.0, 1744.0, 1760.0, 1760.0, 1760....</td>\n",
       "      <td>False</td>\n",
       "    </tr>\n",
       "    <tr>\n",
       "      <th>41885</th>\n",
       "      <td>379</td>\n",
       "      <td>256</td>\n",
       "      <td>[1736.0, 1736.0, 1728.0, 1728.0, 1736.0, 1736....</td>\n",
       "      <td>False</td>\n",
       "    </tr>\n",
       "    <tr>\n",
       "      <th>41886</th>\n",
       "      <td>379</td>\n",
       "      <td>384</td>\n",
       "      <td>[1736.0, 1728.0, 1728.0, 1728.0, 1728.0, 1728....</td>\n",
       "      <td>True</td>\n",
       "    </tr>\n",
       "    <tr>\n",
       "      <th>41925</th>\n",
       "      <td>389</td>\n",
       "      <td>0</td>\n",
       "      <td>[1408.0, 1408.0, 1416.0, 1416.0, 1408.0, 1392....</td>\n",
       "      <td>False</td>\n",
       "    </tr>\n",
       "    <tr>\n",
       "      <th>41926</th>\n",
       "      <td>389</td>\n",
       "      <td>128</td>\n",
       "      <td>[2152.0, 2024.0, 1896.0, 1768.0, 1712.0, 1680....</td>\n",
       "      <td>True</td>\n",
       "    </tr>\n",
       "    <tr>\n",
       "      <th>41927</th>\n",
       "      <td>389</td>\n",
       "      <td>256</td>\n",
       "      <td>[1656.0, 1672.0, 1688.0, 1696.0, 1704.0, 1712....</td>\n",
       "      <td>False</td>\n",
       "    </tr>\n",
       "    <tr>\n",
       "      <th>41928</th>\n",
       "      <td>389</td>\n",
       "      <td>384</td>\n",
       "      <td>[1720.0, 1720.0, 1720.0, 1728.0, 1728.0, 1728....</td>\n",
       "      <td>False</td>\n",
       "    </tr>\n",
       "    <tr>\n",
       "      <th>41968</th>\n",
       "      <td>396</td>\n",
       "      <td>0</td>\n",
       "      <td>[1400.0, 1400.0, 1408.0, 1408.0, 1424.0, 1424....</td>\n",
       "      <td>False</td>\n",
       "    </tr>\n",
       "    <tr>\n",
       "      <th>41969</th>\n",
       "      <td>396</td>\n",
       "      <td>128</td>\n",
       "      <td>[1736.0, 1736.0, 1744.0, 1744.0, 1744.0, 1736....</td>\n",
       "      <td>False</td>\n",
       "    </tr>\n",
       "    <tr>\n",
       "      <th>41970</th>\n",
       "      <td>396</td>\n",
       "      <td>256</td>\n",
       "      <td>[2856.0, 2840.0, 2856.0, 2856.0, 2848.0, 2840....</td>\n",
       "      <td>True</td>\n",
       "    </tr>\n",
       "    <tr>\n",
       "      <th>41971</th>\n",
       "      <td>396</td>\n",
       "      <td>384</td>\n",
       "      <td>[1608.0, 1640.0, 1648.0, 1656.0, 1672.0, 1680....</td>\n",
       "      <td>False</td>\n",
       "    </tr>\n",
       "    <tr>\n",
       "      <th>41978</th>\n",
       "      <td>399</td>\n",
       "      <td>0</td>\n",
       "      <td>[1456.0, 1456.0, 1456.0, 1456.0, 1456.0, 1448....</td>\n",
       "      <td>True</td>\n",
       "    </tr>\n",
       "    <tr>\n",
       "      <th>41979</th>\n",
       "      <td>399</td>\n",
       "      <td>128</td>\n",
       "      <td>[1258.0, 1282.0, 1266.0, 1266.0, 1234.0, 1258....</td>\n",
       "      <td>True</td>\n",
       "    </tr>\n",
       "    <tr>\n",
       "      <th>41980</th>\n",
       "      <td>399</td>\n",
       "      <td>256</td>\n",
       "      <td>[1648.0, 1648.0, 1656.0, 1664.0, 1656.0, 1664....</td>\n",
       "      <td>False</td>\n",
       "    </tr>\n",
       "    <tr>\n",
       "      <th>41981</th>\n",
       "      <td>399</td>\n",
       "      <td>384</td>\n",
       "      <td>[1544.0, 1552.0, 1552.0, 1552.0, 1560.0, 1560....</td>\n",
       "      <td>False</td>\n",
       "    </tr>\n",
       "    <tr>\n",
       "      <th>42030</th>\n",
       "      <td>407</td>\n",
       "      <td>0</td>\n",
       "      <td>[1464.0, 1464.0, 1456.0, 1456.0, 1456.0, 1456....</td>\n",
       "      <td>False</td>\n",
       "    </tr>\n",
       "    <tr>\n",
       "      <th>42031</th>\n",
       "      <td>407</td>\n",
       "      <td>128</td>\n",
       "      <td>[1680.0, 1672.0, 1664.0, 1656.0, 1648.0, 1648....</td>\n",
       "      <td>False</td>\n",
       "    </tr>\n",
       "    <tr>\n",
       "      <th>42032</th>\n",
       "      <td>407</td>\n",
       "      <td>256</td>\n",
       "      <td>[1632.0, 1632.0, 1632.0, 1640.0, 1632.0, 1624....</td>\n",
       "      <td>False</td>\n",
       "    </tr>\n",
       "    <tr>\n",
       "      <th>42033</th>\n",
       "      <td>407</td>\n",
       "      <td>384</td>\n",
       "      <td>[1624.0, 1624.0, 1624.0, 1632.0, 1624.0, 1616....</td>\n",
       "      <td>False</td>\n",
       "    </tr>\n",
       "    <tr>\n",
       "      <th>42034</th>\n",
       "      <td>407</td>\n",
       "      <td>512</td>\n",
       "      <td>[1568.0, 1560.0, 1560.0, 1560.0, 1560.0, 1560....</td>\n",
       "      <td>True</td>\n",
       "    </tr>\n",
       "    <tr>\n",
       "      <th>42058</th>\n",
       "      <td>413</td>\n",
       "      <td>0</td>\n",
       "      <td>[1400.0, 1400.0, 1400.0, 1400.0, 1384.0, 1384....</td>\n",
       "      <td>False</td>\n",
       "    </tr>\n",
       "    <tr>\n",
       "      <th>42059</th>\n",
       "      <td>413</td>\n",
       "      <td>128</td>\n",
       "      <td>[1656.0, 1664.0, 1664.0, 1664.0, 1664.0, 1672....</td>\n",
       "      <td>False</td>\n",
       "    </tr>\n",
       "    <tr>\n",
       "      <th>42060</th>\n",
       "      <td>413</td>\n",
       "      <td>256</td>\n",
       "      <td>[2688.0, 2672.0, 2672.0, 2664.0, 2664.0, 2656....</td>\n",
       "      <td>False</td>\n",
       "    </tr>\n",
       "    <tr>\n",
       "      <th>42061</th>\n",
       "      <td>413</td>\n",
       "      <td>384</td>\n",
       "      <td>[1704.0, 1704.0, 1704.0, 1704.0, 1712.0, 1712....</td>\n",
       "      <td>True</td>\n",
       "    </tr>\n",
       "    <tr>\n",
       "      <th>42062</th>\n",
       "      <td>413</td>\n",
       "      <td>512</td>\n",
       "      <td>[1720.0, 1712.0, 1704.0, 1704.0, 1704.0, 1712....</td>\n",
       "      <td>False</td>\n",
       "    </tr>\n",
       "    <tr>\n",
       "      <th>42103</th>\n",
       "      <td>421</td>\n",
       "      <td>0</td>\n",
       "      <td>[1416.0, 1400.0, 1400.0, 1408.0, 1408.0, 1408....</td>\n",
       "      <td>False</td>\n",
       "    </tr>\n",
       "    <tr>\n",
       "      <th>42104</th>\n",
       "      <td>421</td>\n",
       "      <td>128</td>\n",
       "      <td>[1664.0, 1672.0, 1664.0, 1656.0, 1672.0, 1680....</td>\n",
       "      <td>False</td>\n",
       "    </tr>\n",
       "    <tr>\n",
       "      <th>42105</th>\n",
       "      <td>421</td>\n",
       "      <td>256</td>\n",
       "      <td>[3104.0, 3080.0, 3152.0, 3432.0, 3752.0, 3888....</td>\n",
       "      <td>True</td>\n",
       "    </tr>\n",
       "    <tr>\n",
       "      <th>42106</th>\n",
       "      <td>421</td>\n",
       "      <td>384</td>\n",
       "      <td>[1728.0, 1728.0, 1720.0, 1720.0, 1728.0, 1728....</td>\n",
       "      <td>False</td>\n",
       "    </tr>\n",
       "  </tbody>\n",
       "</table>\n",
       "</div>"
      ],
      "text/plain": [
       "       serie  ind_debut                                            valeurs  \\\n",
       "id                                                                           \n",
       "41647    336        256  [1808.0, 1808.0, 1816.0, 1824.0, 1824.0, 1824....   \n",
       "41648    336        384  [1800.0, 1808.0, 1800.0, 1800.0, 1800.0, 1800....   \n",
       "41649    336        512  [1808.0, 1800.0, 1800.0, 1792.0, 1792.0, 1792....   \n",
       "41737    353          0  [1400.0, 1400.0, 1400.0, 1408.0, 1408.0, 1416....   \n",
       "41738    353        128  [1672.0, 1656.0, 1648.0, 1648.0, 1648.0, 1656....   \n",
       "41739    353        256  [1536.0, 1544.0, 1544.0, 1536.0, 1528.0, 1528....   \n",
       "41740    353        384  [2472.0, 2584.0, 2608.0, 2552.0, 2472.0, 2112....   \n",
       "41741    353        512  [1512.0, 1504.0, 1504.0, 1496.0, 1496.0, 1496....   \n",
       "41742    353        640  [1504.0, 1504.0, 1496.0, 1496.0, 1496.0, 1496....   \n",
       "41776    360          0  [1432.0, 1424.0, 1424.0, 1432.0, 1432.0, 1424....   \n",
       "41777    360        128  [1720.0, 1720.0, 1720.0, 1720.0, 1712.0, 1712....   \n",
       "41778    360        256  [1736.0, 1736.0, 1744.0, 1736.0, 1728.0, 1736....   \n",
       "41779    360        384  [1728.0, 1728.0, 1720.0, 1720.0, 1720.0, 1720....   \n",
       "41780    360        512  [1728.0, 1728.0, 1720.0, 1720.0, 1728.0, 1720....   \n",
       "41781    360        640  [1720.0, 1712.0, 1712.0, 1704.0, 1704.0, 1712....   \n",
       "41782    360        768  [1720.0, 1720.0, 1720.0, 1712.0, 1712.0, 1704....   \n",
       "41845    373          0  [1432.0, 1432.0, 1432.0, 1440.0, 1448.0, 1448....   \n",
       "41846    373        128  [1712.0, 1720.0, 1728.0, 1736.0, 1736.0, 1744....   \n",
       "41847    373        256  [1760.0, 1760.0, 1752.0, 1752.0, 1744.0, 1736....   \n",
       "41848    373        384  [1416.0, 1400.0, 1400.0, 1400.0, 1400.0, 1400....   \n",
       "41883    379          0  [1408.0, 1408.0, 1408.0, 1416.0, 1408.0, 1400....   \n",
       "41884    379        128  [1752.0, 1744.0, 1744.0, 1760.0, 1760.0, 1760....   \n",
       "41885    379        256  [1736.0, 1736.0, 1728.0, 1728.0, 1736.0, 1736....   \n",
       "41886    379        384  [1736.0, 1728.0, 1728.0, 1728.0, 1728.0, 1728....   \n",
       "41925    389          0  [1408.0, 1408.0, 1416.0, 1416.0, 1408.0, 1392....   \n",
       "41926    389        128  [2152.0, 2024.0, 1896.0, 1768.0, 1712.0, 1680....   \n",
       "41927    389        256  [1656.0, 1672.0, 1688.0, 1696.0, 1704.0, 1712....   \n",
       "41928    389        384  [1720.0, 1720.0, 1720.0, 1728.0, 1728.0, 1728....   \n",
       "41968    396          0  [1400.0, 1400.0, 1408.0, 1408.0, 1424.0, 1424....   \n",
       "41969    396        128  [1736.0, 1736.0, 1744.0, 1744.0, 1744.0, 1736....   \n",
       "41970    396        256  [2856.0, 2840.0, 2856.0, 2856.0, 2848.0, 2840....   \n",
       "41971    396        384  [1608.0, 1640.0, 1648.0, 1656.0, 1672.0, 1680....   \n",
       "41978    399          0  [1456.0, 1456.0, 1456.0, 1456.0, 1456.0, 1448....   \n",
       "41979    399        128  [1258.0, 1282.0, 1266.0, 1266.0, 1234.0, 1258....   \n",
       "41980    399        256  [1648.0, 1648.0, 1656.0, 1664.0, 1656.0, 1664....   \n",
       "41981    399        384  [1544.0, 1552.0, 1552.0, 1552.0, 1560.0, 1560....   \n",
       "42030    407          0  [1464.0, 1464.0, 1456.0, 1456.0, 1456.0, 1456....   \n",
       "42031    407        128  [1680.0, 1672.0, 1664.0, 1656.0, 1648.0, 1648....   \n",
       "42032    407        256  [1632.0, 1632.0, 1632.0, 1640.0, 1632.0, 1624....   \n",
       "42033    407        384  [1624.0, 1624.0, 1624.0, 1632.0, 1624.0, 1616....   \n",
       "42034    407        512  [1568.0, 1560.0, 1560.0, 1560.0, 1560.0, 1560....   \n",
       "42058    413          0  [1400.0, 1400.0, 1400.0, 1400.0, 1384.0, 1384....   \n",
       "42059    413        128  [1656.0, 1664.0, 1664.0, 1664.0, 1664.0, 1672....   \n",
       "42060    413        256  [2688.0, 2672.0, 2672.0, 2664.0, 2664.0, 2656....   \n",
       "42061    413        384  [1704.0, 1704.0, 1704.0, 1704.0, 1712.0, 1712....   \n",
       "42062    413        512  [1720.0, 1712.0, 1704.0, 1704.0, 1704.0, 1712....   \n",
       "42103    421          0  [1416.0, 1400.0, 1400.0, 1408.0, 1408.0, 1408....   \n",
       "42104    421        128  [1664.0, 1672.0, 1664.0, 1656.0, 1672.0, 1680....   \n",
       "42105    421        256  [3104.0, 3080.0, 3152.0, 3432.0, 3752.0, 3888....   \n",
       "42106    421        384  [1728.0, 1728.0, 1720.0, 1720.0, 1728.0, 1728....   \n",
       "\n",
       "        anom  \n",
       "id            \n",
       "41647  False  \n",
       "41648   True  \n",
       "41649  False  \n",
       "41737  False  \n",
       "41738  False  \n",
       "41739  False  \n",
       "41740   True  \n",
       "41741  False  \n",
       "41742  False  \n",
       "41776  False  \n",
       "41777  False  \n",
       "41778  False  \n",
       "41779   True  \n",
       "41780  False  \n",
       "41781  False  \n",
       "41782  False  \n",
       "41845  False  \n",
       "41846   True  \n",
       "41847  False  \n",
       "41848  False  \n",
       "41883  False  \n",
       "41884  False  \n",
       "41885  False  \n",
       "41886   True  \n",
       "41925  False  \n",
       "41926   True  \n",
       "41927  False  \n",
       "41928  False  \n",
       "41968  False  \n",
       "41969  False  \n",
       "41970   True  \n",
       "41971  False  \n",
       "41978   True  \n",
       "41979   True  \n",
       "41980  False  \n",
       "41981  False  \n",
       "42030  False  \n",
       "42031  False  \n",
       "42032  False  \n",
       "42033  False  \n",
       "42034   True  \n",
       "42058  False  \n",
       "42059  False  \n",
       "42060  False  \n",
       "42061   True  \n",
       "42062  False  \n",
       "42103  False  \n",
       "42104  False  \n",
       "42105   True  \n",
       "42106  False  "
      ]
     },
     "execution_count": 10,
     "metadata": {},
     "output_type": "execute_result"
    }
   ],
   "source": [
    "# Toutes les fenetres des séries contenant une anomalie\n",
    "data_ajout_anom = data_fenetres.loc[data_fenetres[\"serie\"].isin(ind_anom)] \n",
    "# On met un indice d'une grande puisance de 10 pour identifier plus facilement les fenetres ajoutees\n",
    "offset = 10 ** (int(np.log10(data_fenetres.index.values[-1])) + 1)\n",
    "\n",
    "df_supervise = data_fenetres\n",
    "for i in range(1,5):\n",
    "    data_ajout_anom.index += offset\n",
    "    df_supervise = pd.concat([df_supervise, data_ajout_anom])\n",
    "    \n",
    "# df_supervise contient les données d'apprentissage + les données de tests + les séries anormales recopiées 4 fois\n",
    "# les séries recopiées ont pour indice leur indice de départ + k*offset pour k=1,..,4\n",
    "df_supervise.tail(50)"
   ]
  },
  {
   "cell_type": "code",
   "execution_count": 11,
   "metadata": {},
   "outputs": [],
   "source": [
    "def plot_anom_type(Type):\n",
    "    for num in df_supervise.index.values:\n",
    "        TS = df_supervise.loc[num]\n",
    "        loc = TS[\"loc\"]\n",
    "        serie = TS[\"valeurs\"]\n",
    "\n",
    "        if TS[\"type\"] == Type: \n",
    "            fig, ax = plt.subplots(figsize=(12, 7))\n",
    "            plt.title(\"Série numéro \" + str(num) + \", type \" + str(Type), size=20, color='r', fontweight='bold')\n",
    "\n",
    "            ax.plot(range(loc), serie[: loc], 'b')\n",
    "            ax.plot(range(loc - 1, loc + 56), serie[loc - 1 : loc + 56], 'r')\n",
    "            ax.plot(range(loc + 55, len(serie)), serie[loc + 55 :], 'b')\n",
    "\n",
    "        plt.show()"
   ]
  },
  {
   "cell_type": "code",
   "execution_count": 12,
   "metadata": {
    "scrolled": true
   },
   "outputs": [
    {
     "name": "stdout",
     "output_type": "stream",
     "text": [
      "Marche plus avec le nouveau DataFrame, à adapter si besoin.\n"
     ]
    }
   ],
   "source": [
    "try:\n",
    "    for T in range(1, 5):\n",
    "        plot_anom_type(T)\n",
    "except KeyError:\n",
    "    print(\"Marche plus avec le nouveau DataFrame, à adapter si besoin.\")"
   ]
  },
  {
   "cell_type": "markdown",
   "metadata": {},
   "source": [
    "## Méthodes de Classification"
   ]
  },
  {
   "cell_type": "markdown",
   "metadata": {},
   "source": [
    "## Random Forest\n",
    "\n",
    "### Calcul des features"
   ]
  },
  {
   "cell_type": "code",
   "execution_count": 13,
   "metadata": {},
   "outputs": [],
   "source": [
    "df_supervise[\"min\"] = list(map(min, df_supervise.valeurs))\n",
    "df_supervise[\"max\"] = list(map(max, df_supervise.valeurs))\n",
    "df_supervise[\"mean\"] = list(map(np.mean, df_supervise.valeurs))\n",
    "df_supervise[\"std\"] = list(map(np.std, df_supervise.valeurs))\n",
    "df_supervise[\"skew\"] = list(map(sps.skew, df_supervise.valeurs))\n",
    "df_supervise[\"kurt\"] = list(map(sps.kurtosis, df_supervise.valeurs))\n",
    "df_supervise[\"energy\"] = list(map(lambda x : sum(np.asarray(x)**2)/len(x), df_supervise.valeurs))\n",
    "df_supervise[\"average_cross\"] = list(map(lambda x : sum(1*(x > np.mean(x)))/len(x), df_supervise.valeurs))"
   ]
  },
  {
   "cell_type": "code",
   "execution_count": 14,
   "metadata": {},
   "outputs": [],
   "source": [
    "scaler = preprocessing.StandardScaler()\n",
    "names_features = [\"min\", \"max\", \"mean\", \"std\", \"skew\", \"kurt\", \"energy\", \"average_cross\"]\n",
    "for col in names_features:\n",
    "    df_supervise[col] = scaler.fit_transform(df_supervise[col].values.reshape(-1, 1))"
   ]
  },
  {
   "cell_type": "code",
   "execution_count": 15,
   "metadata": {},
   "outputs": [
    {
     "data": {
      "text/plain": [
       "(2483, 12)"
      ]
     },
     "execution_count": 15,
     "metadata": {},
     "output_type": "execute_result"
    }
   ],
   "source": [
    "df_supervise.shape"
   ]
  },
  {
   "cell_type": "code",
   "execution_count": 16,
   "metadata": {},
   "outputs": [],
   "source": [
    "taille_test = 2000\n",
    "X_train, X_test, Y_train, Y_test = train_test_split(df_supervise[names_features], df_supervise[\"anom\"], test_size=taille_test)"
   ]
  },
  {
   "cell_type": "code",
   "execution_count": 17,
   "metadata": {},
   "outputs": [
    {
     "name": "stdout",
     "output_type": "stream",
     "text": [
      "0.020703933747411973\n"
     ]
    }
   ],
   "source": [
    "# définition des paramètres\n",
    "forest = RandomForestClassifier(n_estimators=500, criterion='gini', max_depth=None, min_samples_split=2,\n",
    "                                min_samples_leaf=1, max_features='auto', max_leaf_nodes=None, bootstrap=True, oob_score=True)\n",
    "# apprentissage\n",
    "rfFit = forest.fit(X_train, Y_train)\n",
    "print(1 - rfFit.oob_score_)"
   ]
  },
  {
   "cell_type": "code",
   "execution_count": 18,
   "metadata": {},
   "outputs": [
    {
     "data": {
      "text/plain": [
       "0.011499999999999955"
      ]
     },
     "execution_count": 18,
     "metadata": {},
     "output_type": "execute_result"
    }
   ],
   "source": [
    "# erreur de prévision sur le test\n",
    "1 - rfFit.score(X_test, Y_test)"
   ]
  },
  {
   "cell_type": "code",
   "execution_count": 19,
   "metadata": {},
   "outputs": [
    {
     "name": "stdout",
     "output_type": "stream",
     "text": [
      "Meilleur score = 0.020704, Meilleur paramètre = {'max_features': 2}\n"
     ]
    }
   ],
   "source": [
    "param = [{\"max_features\" : list(range(2, len(names_features) + 1))}]\n",
    "rf = GridSearchCV(RandomForestClassifier(n_estimators=500), param, cv=5, n_jobs=-1)\n",
    "rfOpt = rf.fit(X_train, Y_train)\n",
    "# paramètre optimal\n",
    "print(\"Meilleur score = %f, Meilleur paramètre = %s\" % (1. - rfOpt.best_score_,rfOpt.best_params_))"
   ]
  },
  {
   "cell_type": "code",
   "execution_count": 20,
   "metadata": {},
   "outputs": [
    {
     "data": {
      "text/plain": [
       "0.01200000000000001"
      ]
     },
     "execution_count": 20,
     "metadata": {},
     "output_type": "execute_result"
    }
   ],
   "source": [
    "# erreur de prévision sur le test\n",
    "1 - rfOpt.score(X_test,Y_test)"
   ]
  },
  {
   "cell_type": "code",
   "execution_count": 21,
   "metadata": {},
   "outputs": [
    {
     "data": {
      "image/png": "[encoded data removed]",
      "text/plain": [
       "<Figure size 1152x360 with 4 Axes>"
      ]
     },
     "metadata": {},
     "output_type": "display_data"
    }
   ],
   "source": [
    "# prévision\n",
    "y_chap = rfOpt.predict(X_test)\n",
    "# matrice de confusion\n",
    "# Options pour normalize : all, index, column\n",
    "table_norm_index = pd.crosstab(y_chap, Y_test, rownames=[\"Prédiction\"], colnames=[\"Vraie valeur\"], normalize=\"index\") # margins=True, margins_name=\"Total\")\n",
    "table_norm_col = pd.crosstab(y_chap, Y_test, rownames=[\"Prédiction\"], colnames=[\"Vraie valeur\"], normalize=\"columns\")\n",
    "sns.set(font_scale=1.4)#for label size\n",
    "fig, ax = plt.subplots(nrows=1, ncols=2, figsize=(16, 5))\n",
    "sns.heatmap(table_norm_index, annot=True, cmap=\"Blues\", ax=ax[0], annot_kws={\"size\": 16}) # font size\n",
    "ax[0].set_title(\"Matrice de confusion normalisée \\n selon les lignes\")\n",
    "sns.heatmap(table_norm_col, annot=True, cmap=\"Blues\", ax=ax[1], annot_kws={\"size\": 16}) # font size\n",
    "ax[1].set_title(\"Matrice de confusion normalisée \\n selon les colonnes\")\n",
    "plt.show()"
   ]
  },
  {
   "cell_type": "markdown",
   "metadata": {},
   "source": [
    "Commentaire : 1,2% d'erreurs, c'est très faible mais si on regarde la matrice de confusion on voit que la prévision n'est en fait pas si efficace. En effet on observe beaucoup de faux négatifs, envion un tiers. On a pas contre quasi aucun faux positif.\n",
    "\n",
    "On teste la même chose mais sans dupliquer les anomalies."
   ]
  },
  {
   "cell_type": "code",
   "execution_count": 22,
   "metadata": {},
   "outputs": [],
   "source": [
    "data_fenetres[\"min\"] = list(map(min, data_fenetres.valeurs))\n",
    "data_fenetres[\"max\"] = list(map(max, data_fenetres.valeurs))\n",
    "data_fenetres[\"mean\"] = list(map(np.mean, data_fenetres.valeurs))\n",
    "data_fenetres[\"std\"] = list(map(np.std, data_fenetres.valeurs))\n",
    "data_fenetres[\"skew\"] = list(map(sps.skew, data_fenetres.valeurs))\n",
    "data_fenetres[\"kurt\"] = list(map(sps.kurtosis, data_fenetres.valeurs))\n",
    "data_fenetres[\"energy\"] = list(map(lambda x : sum(np.asarray(x)**2)/len(x), data_fenetres.valeurs))\n",
    "data_fenetres[\"average_cross\"] = list(map(lambda x : sum(1*(x > np.mean(x)))/len(x), data_fenetres.valeurs))"
   ]
  },
  {
   "cell_type": "code",
   "execution_count": 23,
   "metadata": {},
   "outputs": [],
   "source": [
    "scaler = preprocessing.StandardScaler()\n",
    "names_features = [\"min\", \"max\", \"mean\", \"std\", \"skew\", \"kurt\", \"energy\", \"average_cross\"]\n",
    "for col in names_features:\n",
    "    data_fenetres[col] = scaler.fit_transform(data_fenetres[col].values.reshape(-1, 1))"
   ]
  },
  {
   "cell_type": "code",
   "execution_count": 24,
   "metadata": {},
   "outputs": [
    {
     "data": {
      "text/plain": [
       "(2135, 12)"
      ]
     },
     "execution_count": 24,
     "metadata": {},
     "output_type": "execute_result"
    }
   ],
   "source": [
    "data_fenetres.shape"
   ]
  },
  {
   "cell_type": "code",
   "execution_count": 25,
   "metadata": {},
   "outputs": [],
   "source": [
    "X_train, X_test, Y_train, Y_test = train_test_split(data_fenetres[names_features], data_fenetres[\"anom\"], test_size=2000)"
   ]
  },
  {
   "cell_type": "code",
   "execution_count": 26,
   "metadata": {},
   "outputs": [
    {
     "name": "stdout",
     "output_type": "stream",
     "text": [
      "0.022222222222222254\n"
     ]
    }
   ],
   "source": [
    "# définition des paramètres\n",
    "forest = RandomForestClassifier(n_estimators=500, criterion='gini', max_depth=None, min_samples_split=2, min_samples_leaf=1,\n",
    "                                max_features='auto', max_leaf_nodes=None, bootstrap=True, oob_score=True)\n",
    "# apprentissage\n",
    "rfFit = forest.fit(X_train, Y_train)\n",
    "print(1 - rfFit.oob_score_)"
   ]
  },
  {
   "cell_type": "code",
   "execution_count": 27,
   "metadata": {},
   "outputs": [
    {
     "data": {
      "text/plain": [
       "0.009000000000000008"
      ]
     },
     "execution_count": 27,
     "metadata": {},
     "output_type": "execute_result"
    }
   ],
   "source": [
    "# erreur de prévision sur le test\n",
    "1 - rfFit.score(X_test, Y_test)"
   ]
  },
  {
   "cell_type": "code",
   "execution_count": 28,
   "metadata": {},
   "outputs": [
    {
     "name": "stderr",
     "output_type": "stream",
     "text": [
      "C:\\Users\\paul-\\Anaconda3\\lib\\site-packages\\sklearn\\model_selection\\_split.py:652: Warning: The least populated class in y has only 3 members, which is too few. The minimum number of members in any class cannot be less than n_splits=5.\n",
      "  % (min_groups, self.n_splits)), Warning)\n",
      "C:\\Users\\paul-\\Anaconda3\\lib\\site-packages\\sklearn\\model_selection\\_search.py:841: DeprecationWarning: The default of the `iid` parameter will change from True to False in version 0.22 and will be removed in 0.24. This will change numeric results when test-set sizes are unequal.\n",
      "  DeprecationWarning)\n"
     ]
    },
    {
     "name": "stdout",
     "output_type": "stream",
     "text": [
      "Meilleur score = 0.022222, Meilleur paramètre = {'max_features': 2}\n"
     ]
    }
   ],
   "source": [
    "param = [{\"max_features\" : list(range(2, len(names_features) + 1))}]\n",
    "rf = GridSearchCV(RandomForestClassifier(n_estimators=500), param, cv=5, n_jobs=-1)\n",
    "rfOpt = rf.fit(X_train, Y_train)\n",
    "# paramètre optimal\n",
    "print(\"Meilleur score = %f, Meilleur paramètre = %s\" % (1. - rfOpt.best_score_, rfOpt.best_params_))"
   ]
  },
  {
   "cell_type": "code",
   "execution_count": 29,
   "metadata": {},
   "outputs": [
    {
     "data": {
      "text/plain": [
       "0.009000000000000008"
      ]
     },
     "execution_count": 29,
     "metadata": {},
     "output_type": "execute_result"
    }
   ],
   "source": [
    "# erreur de prévision sur le test\n",
    "1 - rfOpt.score(X_test, Y_test)"
   ]
  },
  {
   "cell_type": "code",
   "execution_count": 30,
   "metadata": {},
   "outputs": [
    {
     "data": {
      "image/png": "[encoded data removed]",
      "text/plain": [
       "<Figure size 1152x360 with 4 Axes>"
      ]
     },
     "metadata": {},
     "output_type": "display_data"
    }
   ],
   "source": [
    "# prévision\n",
    "y_chap = rfFit.predict(X_test)\n",
    "# matrice de confusion\n",
    "# Options pour normalize : all, index, column\n",
    "table_norm_index = pd.crosstab(y_chap, Y_test, rownames=[\"Prédiction\"], colnames=[\"Vraie valeur\"], normalize=\"index\") # margins=True, margins_name=\"Total\")\n",
    "table_norm_col = pd.crosstab(y_chap, Y_test, rownames=[\"Prédiction\"], colnames=[\"Vraie valeur\"], normalize=\"columns\")\n",
    "sns.set(font_scale=1.4)#for label size\n",
    "fig, ax = plt.subplots(nrows=1, ncols=2, figsize=(16, 5))\n",
    "sns.heatmap(table_norm_index, annot=True, cmap=\"Blues\", ax=ax[0], annot_kws={\"size\": 16}) # font size\n",
    "ax[0].set_title(\"Matrice de confusion normalisée \\n selon les lignes\")\n",
    "sns.heatmap(table_norm_col, annot=True, cmap=\"Blues\", ax=ax[1], annot_kws={\"size\": 16}) # font size\n",
    "ax[1].set_title(\"Matrice de confusion normalisée \\n selon les colonnes\")\n",
    "plt.show()"
   ]
  },
  {
   "cell_type": "markdown",
   "metadata": {},
   "source": [
    "Commentaire : Le modèle répond quasi systématiquement Non, et donc se trompe très peu. C'est parfaitement inexploitable, il faut garder la version en dupliquant les anomalies ou trouver une autre idée."
   ]
  },
  {
   "cell_type": "markdown",
   "metadata": {},
   "source": [
    "### Coefficients de Fourier"
   ]
  },
  {
   "cell_type": "code",
   "execution_count": 31,
   "metadata": {},
   "outputs": [
    {
     "name": "stdout",
     "output_type": "stream",
     "text": [
      "(2483, 128)\n",
      "(2483, 12)\n"
     ]
    }
   ],
   "source": [
    "from scipy.fftpack import fft\n",
    "fftCoeff =[]\n",
    "for x in df_supervise[\"valeurs\"]:\n",
    "    mx = np.mean(x)\n",
    "    x_centre = x - mx\n",
    "    #Apply fast Fourier transform\n",
    "    coeffsfft = np.abs(fft(x_centre))\n",
    "    coeffsfft_flatten = np.hstack(coeffsfft)\n",
    "    fftCoeff.append(coeffsfft_flatten)\n",
    "    \n",
    "fftCoeff = np.array(fftCoeff)\n",
    "print(fftCoeff.shape)\n",
    "\n",
    "#Coefficients seuillés\n",
    "prop_a_garder = 0.1\n",
    "nb_coeffs = int(fftCoeff.shape[1] * prop_a_garder)\n",
    "somme = np.sum(fftCoeff**2, axis=0)\n",
    "fftCoeff_seuil = np.zeros((0, nb_coeffs))\n",
    "ind_grands = np.argsort(somme)[-nb_coeffs :]\n",
    "fftCoeff_seuil = fftCoeff[:, ind_grands]\n",
    "\n",
    "print(fftCoeff_seuil.shape)"
   ]
  },
  {
   "cell_type": "code",
   "execution_count": 32,
   "metadata": {},
   "outputs": [],
   "source": [
    "df_Fourier = pd.DataFrame(fftCoeff)\n",
    "df_Fourier_seuil = pd.DataFrame(fftCoeff_seuil)"
   ]
  },
  {
   "cell_type": "code",
   "execution_count": 33,
   "metadata": {},
   "outputs": [],
   "source": [
    "for col in df_Fourier.columns :\n",
    "    df_Fourier[col] = scaler.fit_transform(df_Fourier[col].values.reshape(-1, 1))\n",
    "for col in df_Fourier_seuil.columns :\n",
    "    df_Fourier_seuil[col] = scaler.fit_transform(df_Fourier_seuil[col].values.reshape(-1, 1))"
   ]
  },
  {
   "cell_type": "markdown",
   "metadata": {},
   "source": [
    "### Coefficients d'ondelettes"
   ]
  },
  {
   "cell_type": "code",
   "execution_count": 34,
   "metadata": {},
   "outputs": [
    {
     "name": "stdout",
     "output_type": "stream",
     "text": [
      "(2483, 128) (2483, 137)\n",
      "223357 338471\n"
     ]
    }
   ],
   "source": [
    "import pywt\n",
    "from pywt import wavedec\n",
    "from statsmodels.robust import mad\n",
    "\n",
    "wavelist=['haar', 'db2'] \n",
    "\n",
    "Coeff_ond_haar = []\n",
    "Coeff_ond_db2 = []\n",
    "\n",
    "for x in df_supervise[\"valeurs\"]:\n",
    "    #Apply wavelet decomposition\n",
    "    coeffs_haar = pywt.wavedec(x,wavelist[0],level=4) \n",
    "    coeffs_flatten_haar = np.hstack(coeffs_haar)\n",
    "    Coeff_ond_haar.append(coeffs_flatten_haar)\n",
    "    #Apply wavelet decomposition\n",
    "    coeffs_db2 = pywt.wavedec(x,wavelist[1],level=4) \n",
    "    coeffs_flatten_db2 = np.hstack(coeffs_db2)\n",
    "    Coeff_ond_db2.append(coeffs_flatten_db2)\n",
    "    \n",
    "    \n",
    "Coeff_ond_haar = np.array(Coeff_ond_haar)\n",
    "Coeff_ond_db2 = np.array(Coeff_ond_db2)\n",
    "print(Coeff_ond_haar.shape, Coeff_ond_db2.shape)"
   ]
  },
  {
   "cell_type": "code",
   "execution_count": 35,
   "metadata": {},
   "outputs": [],
   "source": [
    "df_ond_haar = pd.DataFrame(Coeff_ond_haar)\n",
    "df_ond_db2 = pd.DataFrame(Coeff_ond_db2)"
   ]
  },
  {
   "cell_type": "code",
   "execution_count": 36,
   "metadata": {},
   "outputs": [],
   "source": [
    "for col in df_ond_haar.columns :\n",
    "    df_ond_haar[col] = scaler.fit_transform(df_ond_haar[col].values.reshape(-1, 1))\n",
    "for col in df_ond_db2.columns :\n",
    "    df_ond_db2[col] = scaler.fit_transform(df_ond_db2[col].values.reshape(-1, 1))"
   ]
  },
  {
   "cell_type": "markdown",
   "metadata": {},
   "source": [
    "### Visualisation des résultats"
   ]
  },
  {
   "cell_type": "code",
   "execution_count": 37,
   "metadata": {},
   "outputs": [],
   "source": [
    "# Interactive display\n",
    "from ipywidgets import interact, widgets, interactive, fixed, interact_manual\n",
    "from IPython.display import display\n",
    "\n",
    "df_liste = [\"Features\",\n",
    "            \"Ondelettes_haar\",\n",
    "            \"Ondelettes_db2\",\n",
    "            \"Coefficients de Fourier\",\n",
    "            \"Coefficients de Fourier seuillés\"\n",
    "           ]\n",
    "\n",
    "dict_df = {\"Features\" : df_supervise[names_features],\n",
    "           \"Ondelettes_haar\" : df_ond_haar,\n",
    "           \"Ondelettes_db2\" : df_ond_db2,\n",
    "           \"Coefficients de Fourier\" : df_Fourier,\n",
    "           \"Coefficients de Fourier seuillés\" : df_Fourier_seuil\n",
    "          }\n",
    "\n",
    "taille_max = df_supervise[names_features].shape[0]"
   ]
  },
  {
   "cell_type": "code",
   "execution_count": 49,
   "metadata": {},
   "outputs": [
    {
     "data": {
      "application/vnd.jupyter.widget-view+json": {
       "model_id": "65b0a9d10aaf4ac0a3f525e26fee8d7f",
       "version_major": 2,
       "version_minor": 0
      },
      "text/plain": [
       "interactive(children=(Dropdown(description='Choix_df', options=('Features', 'Ondelettes_haar', 'Ondelettes_db2…"
      ]
     },
     "metadata": {},
     "output_type": "display_data"
    }
   ],
   "source": [
    "@interact(Choix_df=df_liste, taille_test=widgets.IntSlider(min=100, max=taille_max - 100, step=100, value=1600,\n",
    "                                                           continuous_update=False),\n",
    "          button=widgets.ToggleButton(description=\"Refresh\"))\n",
    "\n",
    "def RandomForest(Choix_df, taille_test, button):\n",
    "    df_coeff = dict_df[Choix_df]\n",
    "    print(\"Proportion de fenêtres utilisées pour l'apprentissage : \", 1 - taille_test / df_coeff.shape[0])\n",
    "    X_train, X_test, Y_train, Y_test = train_test_split(df_coeff, df_supervise[\"anom\"], test_size=taille_test)\n",
    "    \n",
    "    # définition des paramètres\n",
    "    forest = RandomForestClassifier(n_estimators=500, criterion='gini', max_depth=None, min_samples_split=2,\n",
    "                                    min_samples_leaf=1, max_features='auto', max_leaf_nodes=None, bootstrap=True,\n",
    "                                    oob_score=True)\n",
    "    # apprentissage\n",
    "    #rfFit = forest.fit(X_train, Y_train)\n",
    "    max_feat = 16\n",
    "    param = [{\"max_features\" : list(range(2, min(max_feat, df_coeff.shape[1]) + 1))}]\n",
    "    rf = GridSearchCV(RandomForestClassifier(n_estimators=500), param, cv=5, n_jobs=-1)\n",
    "    rfOpt = rf.fit(X_train, Y_train)\n",
    "    \n",
    "    #print(\"Erreur Out of bag : \", 1 - rfOpt.oob_score_)  # N'existe pas sur les objets GridSearchCV, hélas\n",
    "    # erreur de prévision sur le test\n",
    "    print(\"Erreur de prévision sur le test : \", 1 - rfOpt.score(X_test, Y_test))\n",
    "    # paramètre optimal\n",
    "    print(\"Meilleur score = %f, Meilleur paramètre = %s\" % (1. - rfOpt.best_score_, rfOpt.best_params_))\n",
    "        \n",
    "    # prévision\n",
    "    y_chap = rfOpt.predict(X_test)\n",
    "    # matrice de confusion\n",
    "    table = pd.crosstab(y_chap, Y_test, rownames=[\"Prédiction\"], colnames=[\"Vraie valeur\"], normalize=False) # margins=True, margins_name=\"Total\")\n",
    "    table_norm = pd.crosstab(y_chap, Y_test, rownames=[\"Prédiction\"], colnames=[\"Vraie valeur\"], normalize=\"all\")\n",
    "    table_norm_index = pd.crosstab(y_chap, Y_test, rownames=[\"Prédiction\"], colnames=[\"Vraie valeur\"], normalize=\"index\") # margins=True, margins_name=\"Total\")\n",
    "    table_norm_col = pd.crosstab(y_chap, Y_test, rownames=[\"Prédiction\"], colnames=[\"Vraie valeur\"], normalize=\"columns\")\n",
    "    sns.set(font_scale=1.4)  #for label size\n",
    "    fig, ax = plt.subplots(nrows=2, ncols=2, figsize=(16, 12))\n",
    "    sns.heatmap(table, annot=True, cmap=\"Blues\", ax=ax[0, 0], annot_kws={\"size\": 16})  # font size\n",
    "    ax[0, 0].set_title(\"Matrice de confusion brute\")\n",
    "    sns.heatmap(table_norm, annot=True, cmap=\"Blues\", ax=ax[0, 1], annot_kws={\"size\": 16}) # font size\n",
    "    ax[0, 1].set_title(\"Matrice de confusion normalisée\")\n",
    "    sns.heatmap(table_norm_index, annot=True, cmap=\"Blues\", ax=ax[1, 0], annot_kws={\"size\": 16}) # font size\n",
    "    ax[1, 0].set_title(\"Matrice de confusion normalisée selon les lignes\")\n",
    "    sns.heatmap(table_norm_col, annot=True, cmap=\"Blues\", ax=ax[1, 1], annot_kws={\"size\": 16}) # font size\n",
    "    ax[1, 1].set_title(\"Matrice de confusion normalisée selon les colonnes\")\n",
    "    plt.show()"
   ]
  },
  {
   "cell_type": "markdown",
   "metadata": {},
   "source": [
    "**Commentaires :**\n",
    "\n",
    "Très peu d'erreur avec les coefficients d'ondelettes (haar ou db2) et même parfois 0 erreur.\n",
    "\n",
    "Avec les coefficients de Fourier : résulats quasi identiques à ceux de Features, parfois meilleurs, parfois pires."
   ]
  },
  {
   "cell_type": "code",
   "execution_count": null,
   "metadata": {},
   "outputs": [],
   "source": []
  }
 ],
 "metadata": {
  "kernelspec": {
   "display_name": "Python 3",
   "language": "python",
   "name": "python3"
  },
  "language_info": {
   "codemirror_mode": {
    "name": "ipython",
    "version": 3
   },
   "file_extension": ".py",
   "mimetype": "text/x-python",
   "name": "python",
   "nbconvert_exporter": "python",
   "pygments_lexer": "ipython3",
   "version": "3.7.1"
  }
 },
 "nbformat": 4,
 "nbformat_minor": 2
}
