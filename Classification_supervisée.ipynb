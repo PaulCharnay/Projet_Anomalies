{
 "cells": [
  {
   "cell_type": "markdown",
   "metadata": {},
   "source": [
    "# Classification supervisée"
   ]
  },
  {
   "cell_type": "code",
   "execution_count": 158,
   "metadata": {},
   "outputs": [],
   "source": [
    "import pandas as pd\n",
    "import numpy as np\n",
    "import scipy.stats as sps\n",
    "\n",
    "# Plot et Display\n",
    "from IPython.display import display\n",
    "%matplotlib inline\n",
    "import matplotlib.pyplot as plt\n",
    "import seaborn as sns\n",
    "sns.set()\n",
    "sns.set_style(\"darkgrid\", {\"axes.facecolor\": \".9\"})\n",
    "\n",
    "# Scikit learn\n",
    "from sklearn import preprocessing\n",
    "from sklearn.model_selection import GridSearchCV\n",
    "from sklearn.model_selection import train_test_split  \n",
    "from sklearn.ensemble import RandomForestClassifier \n",
    "\n",
    "#Lecture des données \n",
    "import pickle"
   ]
  },
  {
   "cell_type": "code",
   "execution_count": 159,
   "metadata": {},
   "outputs": [],
   "source": [
    "#path_test = \"../../4A/Projet/Ensemble de test/\"\n",
    "path_test = \"../Donnees_projet/Ensemble_de_test/\""
   ]
  },
  {
   "cell_type": "code",
   "execution_count": 160,
   "metadata": {},
   "outputs": [],
   "source": [
    "with open('liste_propre', 'rb') as fichier:\n",
    "    mon_depickler = pickle.Unpickler(fichier)\n",
    "    liste_propre, ind_recupere = mon_depickler.load()"
   ]
  },
  {
   "cell_type": "code",
   "execution_count": 161,
   "metadata": {},
   "outputs": [],
   "source": [
    "n = len(liste_propre)\n",
    "liste_appr = list(np.asarray(liste_propre)[np.asarray(ind_recupere) <= 299])\n",
    "liste_test = list(np.asarray(liste_propre)[np.asarray(ind_recupere) > 299])\n",
    "n_appr = len(liste_appr)\n",
    "n_test = len(liste_test)"
   ]
  },
  {
   "cell_type": "code",
   "execution_count": 162,
   "metadata": {},
   "outputs": [],
   "source": [
    "anom = [False] * n_test\n",
    "type_anom = [-1] * n_test\n",
    "loc = [-1] * n_test\n",
    "\n",
    "anom[73] = True\n",
    "type_anom[73] = 1\n",
    "loc[73] = 200\n",
    "\n",
    "anom[96] = True\n",
    "type_anom[96] = 1\n",
    "loc[96] = 300\n",
    "\n",
    "anom[36] = True\n",
    "type_anom[36] = 1\n",
    "loc[36] = 400\n",
    "\n",
    "anom[32] = True\n",
    "type_anom[32] = 1\n",
    "loc[32] = 300\n",
    "\n",
    "anom[33] = True\n",
    "type_anom[33] = 1\n",
    "loc[33] = 200\n",
    "\n",
    "anom[107] = True\n",
    "type_anom[107] = 2\n",
    "loc[107] = 600\n",
    "\n",
    "anom[60] = True\n",
    "type_anom[60] = 2\n",
    "loc[60] = 400\n",
    "\n",
    "anom[113] = True\n",
    "type_anom[113] = 2\n",
    "loc[113] = 400\n",
    "\n",
    "anom[9] = True\n",
    "type_anom[9] = 2\n",
    "loc[9] = 200\n",
    "\n",
    "anom[11] = True\n",
    "type_anom[11] = 2\n",
    "loc[11] = 300\n",
    "\n",
    "anom[53] = True\n",
    "type_anom[53] = 3\n",
    "loc[53] = 400\n",
    "\n",
    "anom[114] = True\n",
    "type_anom[114] = 3\n",
    "loc[114] = 400\n",
    "\n",
    "anom[14] = True\n",
    "type_anom[14] = 3\n",
    "loc[14] = 500\n",
    "\n",
    "anom[79] = True\n",
    "type_anom[79] = 3\n",
    "loc[79] = 400\n",
    "\n",
    "anom[29] = True\n",
    "type_anom[29] = 3\n",
    "loc[29] = 300\n",
    "\n",
    "anom[27] = True\n",
    "type_anom[27] = 4\n",
    "loc[27] = 300\n",
    "\n",
    "anom[121] = True\n",
    "type_anom[121] = 4\n",
    "loc[121] = 300\n",
    "\n",
    "anom[5] = True\n",
    "type_anom[5] = 4\n",
    "loc[5] = 400\n",
    "\n",
    "anom[89] = True\n",
    "type_anom[89] = 4\n",
    "loc[89] = 200\n",
    "\n",
    "anom[99] = True\n",
    "type_anom[99] = 4\n",
    "loc[99] = 100  \n",
    "\n",
    "anom = [False] * n_appr + anom\n",
    "type_anom = [-1] * n_appr + type_anom\n",
    "loc = [-1] * n_appr + loc"
   ]
  },
  {
   "cell_type": "code",
   "execution_count": 163,
   "metadata": {},
   "outputs": [],
   "source": [
    "ind_anom = list(np.where(np.asarray(anom))[0]) # Indices des anomalies"
   ]
  },
  {
   "cell_type": "code",
   "execution_count": 164,
   "metadata": {},
   "outputs": [],
   "source": [
    "def df_fenetres(liste_comp, N, anom, loc):\n",
    "    serie = []\n",
    "    #origine = []\n",
    "    ind_debut = []\n",
    "    valeurs = []\n",
    "    anom_fen = []\n",
    "    for i, val, loc_i in zip(ind_recupere, liste_comp, loc):\n",
    "        # Liste des fenêtres de l'enregistrement\n",
    "        fenetres = [val[i * N:(i + 1) * N] for i in range((len(val) + N - 1) // N ) if len(val[i * N:(i + 1) * N]) == N]\n",
    "        nb_fen = len(fenetres)\n",
    "        valeurs += fenetres\n",
    "        anom_fen_i = [False] * nb_fen\n",
    "        pos_anom_deb_fen = loc_i // N\n",
    "        pos_anom_fin_fen = (loc_i + 55) // N\n",
    "        if loc_i > -1:\n",
    "            try:\n",
    "                for pos in range(pos_anom_deb_fen, pos_anom_fin_fen + 1):\n",
    "                    anom_fen_i[pos] = True\n",
    "\n",
    "            except IndexError:\n",
    "                pass\n",
    "                \"\"\"Cette erreur est levée lorsque l'anomalie se trouve en fin de série, dans une plage qui n'a pas été capturée \n",
    "                par une des fenêtres. On peut donc l'ignorer et continuer le traitement. Ce cas est de toute façon très rare\n",
    "                dans nos données.\"\"\"\n",
    "        anom_fen += anom_fen_i\n",
    "        ind_debut += list(range(0, nb_fen * N, N))\n",
    "        serie += [i] * nb_fen\n",
    "        \"\"\"if i < 300:\n",
    "            origine += [\"appr\"] * nb_fen\n",
    "        else:\n",
    "            origine += [\"test\"] * nb_fen\"\"\"\n",
    "        \n",
    "    \n",
    "    df = pd.DataFrame(data={\"id\" : list(range(len(serie))), \"serie\" : serie, \"ind_debut\" : ind_debut, \"valeurs\" : valeurs, \"anom\" : anom_fen})\n",
    "        \n",
    "    return df.set_index([\"id\"])"
   ]
  },
  {
   "cell_type": "code",
   "execution_count": 165,
   "metadata": {},
   "outputs": [],
   "source": [
    "N = 200\n",
    "data_fenetres = df_fenetres(liste_propre, N, anom, loc)"
   ]
  },
  {
   "cell_type": "code",
   "execution_count": 166,
   "metadata": {},
   "outputs": [],
   "source": [
    "ind_anom = list(data_fenetres[data_fenetres[\"anom\"]][\"serie\"].values)"
   ]
  },
  {
   "cell_type": "code",
   "execution_count": 167,
   "metadata": {
    "scrolled": true
   },
   "outputs": [
    {
     "data": {
      "text/html": [
       "<div>\n",
       "<style scoped>\n",
       "    .dataframe tbody tr th:only-of-type {\n",
       "        vertical-align: middle;\n",
       "    }\n",
       "\n",
       "    .dataframe tbody tr th {\n",
       "        vertical-align: top;\n",
       "    }\n",
       "\n",
       "    .dataframe thead th {\n",
       "        text-align: right;\n",
       "    }\n",
       "</style>\n",
       "<table border=\"1\" class=\"dataframe\">\n",
       "  <thead>\n",
       "    <tr style=\"text-align: right;\">\n",
       "      <th></th>\n",
       "      <th>serie</th>\n",
       "      <th>ind_debut</th>\n",
       "      <th>valeurs</th>\n",
       "      <th>anom</th>\n",
       "    </tr>\n",
       "    <tr>\n",
       "      <th>id</th>\n",
       "      <th></th>\n",
       "      <th></th>\n",
       "      <th></th>\n",
       "      <th></th>\n",
       "    </tr>\n",
       "  </thead>\n",
       "  <tbody>\n",
       "    <tr>\n",
       "      <th>31220</th>\n",
       "      <td>413</td>\n",
       "      <td>400</td>\n",
       "      <td>[1674.0, 1682.0, 1682.0, 1698.0, 1698.0, 1698....</td>\n",
       "      <td>True</td>\n",
       "    </tr>\n",
       "    <tr>\n",
       "      <th>31246</th>\n",
       "      <td>421</td>\n",
       "      <td>0</td>\n",
       "      <td>[1416.0, 1400.0, 1400.0, 1408.0, 1408.0, 1408....</td>\n",
       "      <td>False</td>\n",
       "    </tr>\n",
       "    <tr>\n",
       "      <th>31247</th>\n",
       "      <td>421</td>\n",
       "      <td>200</td>\n",
       "      <td>[1728.0, 1728.0, 1744.0, 1736.0, 1728.0, 1720....</td>\n",
       "      <td>True</td>\n",
       "    </tr>\n",
       "    <tr>\n",
       "      <th>40884</th>\n",
       "      <td>305</td>\n",
       "      <td>0</td>\n",
       "      <td>[1432.0, 1432.0, 1440.0, 1432.0, 1416.0, 1416....</td>\n",
       "      <td>False</td>\n",
       "    </tr>\n",
       "    <tr>\n",
       "      <th>40885</th>\n",
       "      <td>305</td>\n",
       "      <td>200</td>\n",
       "      <td>[2920.0, 2552.0, 2120.0, 1752.0, 1624.0, 1576....</td>\n",
       "      <td>False</td>\n",
       "    </tr>\n",
       "    <tr>\n",
       "      <th>40886</th>\n",
       "      <td>305</td>\n",
       "      <td>400</td>\n",
       "      <td>[1250.0, 1234.0, 1234.0, 1258.0, 1258.0, 1274....</td>\n",
       "      <td>True</td>\n",
       "    </tr>\n",
       "    <tr>\n",
       "      <th>40887</th>\n",
       "      <td>305</td>\n",
       "      <td>600</td>\n",
       "      <td>[1576.0, 1576.0, 1576.0, 1584.0, 1584.0, 1576....</td>\n",
       "      <td>False</td>\n",
       "    </tr>\n",
       "    <tr>\n",
       "      <th>40897</th>\n",
       "      <td>309</td>\n",
       "      <td>0</td>\n",
       "      <td>[1416.0, 1416.0, 1408.0, 1408.0, 1400.0, 1408....</td>\n",
       "      <td>False</td>\n",
       "    </tr>\n",
       "    <tr>\n",
       "      <th>40898</th>\n",
       "      <td>309</td>\n",
       "      <td>200</td>\n",
       "      <td>[1674.0, 1682.0, 1682.0, 1698.0, 1698.0, 1698....</td>\n",
       "      <td>True</td>\n",
       "    </tr>\n",
       "    <tr>\n",
       "      <th>40902</th>\n",
       "      <td>311</td>\n",
       "      <td>0</td>\n",
       "      <td>[1416.0, 1400.0, 1400.0, 1400.0, 1416.0, 1408....</td>\n",
       "      <td>False</td>\n",
       "    </tr>\n",
       "    <tr>\n",
       "      <th>40903</th>\n",
       "      <td>311</td>\n",
       "      <td>200</td>\n",
       "      <td>[1704.0, 1712.0, 1712.0, 1704.0, 1704.0, 1712....</td>\n",
       "      <td>True</td>\n",
       "    </tr>\n",
       "    <tr>\n",
       "      <th>40909</th>\n",
       "      <td>314</td>\n",
       "      <td>0</td>\n",
       "      <td>[1400.0, 1392.0, 1400.0, 1408.0, 1400.0, 1400....</td>\n",
       "      <td>False</td>\n",
       "    </tr>\n",
       "    <tr>\n",
       "      <th>40910</th>\n",
       "      <td>314</td>\n",
       "      <td>200</td>\n",
       "      <td>[1600.0, 1608.0, 1592.0, 1600.0, 1608.0, 1608....</td>\n",
       "      <td>False</td>\n",
       "    </tr>\n",
       "    <tr>\n",
       "      <th>40911</th>\n",
       "      <td>314</td>\n",
       "      <td>400</td>\n",
       "      <td>[1512.0, 1504.0, 1496.0, 1496.0, 1488.0, 1488....</td>\n",
       "      <td>True</td>\n",
       "    </tr>\n",
       "    <tr>\n",
       "      <th>40948</th>\n",
       "      <td>327</td>\n",
       "      <td>0</td>\n",
       "      <td>[1408.0, 1408.0, 1400.0, 1400.0, 1408.0, 1408....</td>\n",
       "      <td>False</td>\n",
       "    </tr>\n",
       "    <tr>\n",
       "      <th>40949</th>\n",
       "      <td>327</td>\n",
       "      <td>200</td>\n",
       "      <td>[1712.0, 1712.0, 1704.0, 1712.0, 1712.0, 1712....</td>\n",
       "      <td>True</td>\n",
       "    </tr>\n",
       "    <tr>\n",
       "      <th>40953</th>\n",
       "      <td>329</td>\n",
       "      <td>0</td>\n",
       "      <td>[1360.0, 1368.0, 1360.0, 1368.0, 1368.0, 1376....</td>\n",
       "      <td>False</td>\n",
       "    </tr>\n",
       "    <tr>\n",
       "      <th>40954</th>\n",
       "      <td>329</td>\n",
       "      <td>200</td>\n",
       "      <td>[1768.0, 1768.0, 1768.0, 1768.0, 1776.0, 1784....</td>\n",
       "      <td>True</td>\n",
       "    </tr>\n",
       "    <tr>\n",
       "      <th>40955</th>\n",
       "      <td>329</td>\n",
       "      <td>400</td>\n",
       "      <td>[1784.0, 1784.0, 1784.0, 1784.0, 1784.0, 1784....</td>\n",
       "      <td>False</td>\n",
       "    </tr>\n",
       "    <tr>\n",
       "      <th>40963</th>\n",
       "      <td>332</td>\n",
       "      <td>0</td>\n",
       "      <td>[1408.0, 1400.0, 1400.0, 1392.0, 1392.0, 1392....</td>\n",
       "      <td>False</td>\n",
       "    </tr>\n",
       "    <tr>\n",
       "      <th>40964</th>\n",
       "      <td>332</td>\n",
       "      <td>200</td>\n",
       "      <td>[1704.0, 1704.0, 1704.0, 1712.0, 1712.0, 1712....</td>\n",
       "      <td>True</td>\n",
       "    </tr>\n",
       "    <tr>\n",
       "      <th>40965</th>\n",
       "      <td>333</td>\n",
       "      <td>0</td>\n",
       "      <td>[1408.0, 1392.0, 1392.0, 1392.0, 1400.0, 1408....</td>\n",
       "      <td>False</td>\n",
       "    </tr>\n",
       "    <tr>\n",
       "      <th>40966</th>\n",
       "      <td>333</td>\n",
       "      <td>200</td>\n",
       "      <td>[1678.0, 1686.0, 1678.0, 1678.0, 1662.0, 1678....</td>\n",
       "      <td>True</td>\n",
       "    </tr>\n",
       "    <tr>\n",
       "      <th>40967</th>\n",
       "      <td>333</td>\n",
       "      <td>400</td>\n",
       "      <td>[2768.0, 2768.0, 2768.0, 2776.0, 2776.0, 2776....</td>\n",
       "      <td>False</td>\n",
       "    </tr>\n",
       "    <tr>\n",
       "      <th>40972</th>\n",
       "      <td>336</td>\n",
       "      <td>0</td>\n",
       "      <td>[1488.0, 1488.0, 1480.0, 1472.0, 1464.0, 1464....</td>\n",
       "      <td>False</td>\n",
       "    </tr>\n",
       "    <tr>\n",
       "      <th>40973</th>\n",
       "      <td>336</td>\n",
       "      <td>200</td>\n",
       "      <td>[1824.0, 1832.0, 1832.0, 1840.0, 1840.0, 1840....</td>\n",
       "      <td>False</td>\n",
       "    </tr>\n",
       "    <tr>\n",
       "      <th>40974</th>\n",
       "      <td>336</td>\n",
       "      <td>400</td>\n",
       "      <td>[1678.0, 1686.0, 1678.0, 1678.0, 1662.0, 1678....</td>\n",
       "      <td>True</td>\n",
       "    </tr>\n",
       "    <tr>\n",
       "      <th>41028</th>\n",
       "      <td>353</td>\n",
       "      <td>0</td>\n",
       "      <td>[1400.0, 1400.0, 1400.0, 1408.0, 1408.0, 1416....</td>\n",
       "      <td>False</td>\n",
       "    </tr>\n",
       "    <tr>\n",
       "      <th>41029</th>\n",
       "      <td>353</td>\n",
       "      <td>200</td>\n",
       "      <td>[1560.0, 1552.0, 1560.0, 1552.0, 1560.0, 1560....</td>\n",
       "      <td>False</td>\n",
       "    </tr>\n",
       "    <tr>\n",
       "      <th>41030</th>\n",
       "      <td>353</td>\n",
       "      <td>400</td>\n",
       "      <td>[1790.0, 1782.0, 1774.0, 1750.0, 1742.0, 1734....</td>\n",
       "      <td>True</td>\n",
       "    </tr>\n",
       "    <tr>\n",
       "      <th>41031</th>\n",
       "      <td>353</td>\n",
       "      <td>600</td>\n",
       "      <td>[1488.0, 1488.0, 1488.0, 1488.0, 1496.0, 1488....</td>\n",
       "      <td>False</td>\n",
       "    </tr>\n",
       "    <tr>\n",
       "      <th>41053</th>\n",
       "      <td>360</td>\n",
       "      <td>0</td>\n",
       "      <td>[1432.0, 1424.0, 1424.0, 1432.0, 1432.0, 1424....</td>\n",
       "      <td>False</td>\n",
       "    </tr>\n",
       "    <tr>\n",
       "      <th>41054</th>\n",
       "      <td>360</td>\n",
       "      <td>200</td>\n",
       "      <td>[1712.0, 1712.0, 1712.0, 1720.0, 1720.0, 1720....</td>\n",
       "      <td>False</td>\n",
       "    </tr>\n",
       "    <tr>\n",
       "      <th>41055</th>\n",
       "      <td>360</td>\n",
       "      <td>400</td>\n",
       "      <td>[1674.0, 1682.0, 1682.0, 1698.0, 1698.0, 1698....</td>\n",
       "      <td>True</td>\n",
       "    </tr>\n",
       "    <tr>\n",
       "      <th>41056</th>\n",
       "      <td>360</td>\n",
       "      <td>600</td>\n",
       "      <td>[1688.0, 1688.0, 1696.0, 1704.0, 1704.0, 1704....</td>\n",
       "      <td>False</td>\n",
       "    </tr>\n",
       "    <tr>\n",
       "      <th>41093</th>\n",
       "      <td>373</td>\n",
       "      <td>0</td>\n",
       "      <td>[1432.0, 1432.0, 1432.0, 1440.0, 1448.0, 1448....</td>\n",
       "      <td>False</td>\n",
       "    </tr>\n",
       "    <tr>\n",
       "      <th>41094</th>\n",
       "      <td>373</td>\n",
       "      <td>200</td>\n",
       "      <td>[1678.0, 1686.0, 1678.0, 1678.0, 1662.0, 1678....</td>\n",
       "      <td>True</td>\n",
       "    </tr>\n",
       "    <tr>\n",
       "      <th>41139</th>\n",
       "      <td>389</td>\n",
       "      <td>0</td>\n",
       "      <td>[1408.0, 1408.0, 1416.0, 1416.0, 1408.0, 1392....</td>\n",
       "      <td>False</td>\n",
       "    </tr>\n",
       "    <tr>\n",
       "      <th>41140</th>\n",
       "      <td>389</td>\n",
       "      <td>200</td>\n",
       "      <td>[1250.0, 1234.0, 1234.0, 1258.0, 1258.0, 1274....</td>\n",
       "      <td>True</td>\n",
       "    </tr>\n",
       "    <tr>\n",
       "      <th>41164</th>\n",
       "      <td>396</td>\n",
       "      <td>0</td>\n",
       "      <td>[1400.0, 1400.0, 1408.0, 1408.0, 1424.0, 1424....</td>\n",
       "      <td>False</td>\n",
       "    </tr>\n",
       "    <tr>\n",
       "      <th>41165</th>\n",
       "      <td>396</td>\n",
       "      <td>200</td>\n",
       "      <td>[1736.0, 1744.0, 1736.0, 1736.0, 1736.0, 1736....</td>\n",
       "      <td>True</td>\n",
       "    </tr>\n",
       "    <tr>\n",
       "      <th>41166</th>\n",
       "      <td>396</td>\n",
       "      <td>400</td>\n",
       "      <td>[1712.0, 1704.0, 1696.0, 1688.0, 1688.0, 1680....</td>\n",
       "      <td>False</td>\n",
       "    </tr>\n",
       "    <tr>\n",
       "      <th>41171</th>\n",
       "      <td>399</td>\n",
       "      <td>0</td>\n",
       "      <td>[1456.0, 1456.0, 1456.0, 1456.0, 1456.0, 1448....</td>\n",
       "      <td>True</td>\n",
       "    </tr>\n",
       "    <tr>\n",
       "      <th>41172</th>\n",
       "      <td>399</td>\n",
       "      <td>200</td>\n",
       "      <td>[1656.0, 1656.0, 1656.0, 1664.0, 1656.0, 1656....</td>\n",
       "      <td>False</td>\n",
       "    </tr>\n",
       "    <tr>\n",
       "      <th>41173</th>\n",
       "      <td>399</td>\n",
       "      <td>400</td>\n",
       "      <td>[1536.0, 1536.0, 1544.0, 1544.0, 1544.0, 1544....</td>\n",
       "      <td>False</td>\n",
       "    </tr>\n",
       "    <tr>\n",
       "      <th>41218</th>\n",
       "      <td>413</td>\n",
       "      <td>0</td>\n",
       "      <td>[1400.0, 1400.0, 1400.0, 1400.0, 1384.0, 1384....</td>\n",
       "      <td>False</td>\n",
       "    </tr>\n",
       "    <tr>\n",
       "      <th>41219</th>\n",
       "      <td>413</td>\n",
       "      <td>200</td>\n",
       "      <td>[1608.0, 1616.0, 1624.0, 1640.0, 1648.0, 1648....</td>\n",
       "      <td>False</td>\n",
       "    </tr>\n",
       "    <tr>\n",
       "      <th>41220</th>\n",
       "      <td>413</td>\n",
       "      <td>400</td>\n",
       "      <td>[1674.0, 1682.0, 1682.0, 1698.0, 1698.0, 1698....</td>\n",
       "      <td>True</td>\n",
       "    </tr>\n",
       "    <tr>\n",
       "      <th>41246</th>\n",
       "      <td>421</td>\n",
       "      <td>0</td>\n",
       "      <td>[1416.0, 1400.0, 1400.0, 1408.0, 1408.0, 1408....</td>\n",
       "      <td>False</td>\n",
       "    </tr>\n",
       "    <tr>\n",
       "      <th>41247</th>\n",
       "      <td>421</td>\n",
       "      <td>200</td>\n",
       "      <td>[1728.0, 1728.0, 1744.0, 1736.0, 1728.0, 1720....</td>\n",
       "      <td>True</td>\n",
       "    </tr>\n",
       "  </tbody>\n",
       "</table>\n",
       "</div>"
      ],
      "text/plain": [
       "       serie  ind_debut                                            valeurs  \\\n",
       "id                                                                           \n",
       "31220    413        400  [1674.0, 1682.0, 1682.0, 1698.0, 1698.0, 1698....   \n",
       "31246    421          0  [1416.0, 1400.0, 1400.0, 1408.0, 1408.0, 1408....   \n",
       "31247    421        200  [1728.0, 1728.0, 1744.0, 1736.0, 1728.0, 1720....   \n",
       "40884    305          0  [1432.0, 1432.0, 1440.0, 1432.0, 1416.0, 1416....   \n",
       "40885    305        200  [2920.0, 2552.0, 2120.0, 1752.0, 1624.0, 1576....   \n",
       "40886    305        400  [1250.0, 1234.0, 1234.0, 1258.0, 1258.0, 1274....   \n",
       "40887    305        600  [1576.0, 1576.0, 1576.0, 1584.0, 1584.0, 1576....   \n",
       "40897    309          0  [1416.0, 1416.0, 1408.0, 1408.0, 1400.0, 1408....   \n",
       "40898    309        200  [1674.0, 1682.0, 1682.0, 1698.0, 1698.0, 1698....   \n",
       "40902    311          0  [1416.0, 1400.0, 1400.0, 1400.0, 1416.0, 1408....   \n",
       "40903    311        200  [1704.0, 1712.0, 1712.0, 1704.0, 1704.0, 1712....   \n",
       "40909    314          0  [1400.0, 1392.0, 1400.0, 1408.0, 1400.0, 1400....   \n",
       "40910    314        200  [1600.0, 1608.0, 1592.0, 1600.0, 1608.0, 1608....   \n",
       "40911    314        400  [1512.0, 1504.0, 1496.0, 1496.0, 1488.0, 1488....   \n",
       "40948    327          0  [1408.0, 1408.0, 1400.0, 1400.0, 1408.0, 1408....   \n",
       "40949    327        200  [1712.0, 1712.0, 1704.0, 1712.0, 1712.0, 1712....   \n",
       "40953    329          0  [1360.0, 1368.0, 1360.0, 1368.0, 1368.0, 1376....   \n",
       "40954    329        200  [1768.0, 1768.0, 1768.0, 1768.0, 1776.0, 1784....   \n",
       "40955    329        400  [1784.0, 1784.0, 1784.0, 1784.0, 1784.0, 1784....   \n",
       "40963    332          0  [1408.0, 1400.0, 1400.0, 1392.0, 1392.0, 1392....   \n",
       "40964    332        200  [1704.0, 1704.0, 1704.0, 1712.0, 1712.0, 1712....   \n",
       "40965    333          0  [1408.0, 1392.0, 1392.0, 1392.0, 1400.0, 1408....   \n",
       "40966    333        200  [1678.0, 1686.0, 1678.0, 1678.0, 1662.0, 1678....   \n",
       "40967    333        400  [2768.0, 2768.0, 2768.0, 2776.0, 2776.0, 2776....   \n",
       "40972    336          0  [1488.0, 1488.0, 1480.0, 1472.0, 1464.0, 1464....   \n",
       "40973    336        200  [1824.0, 1832.0, 1832.0, 1840.0, 1840.0, 1840....   \n",
       "40974    336        400  [1678.0, 1686.0, 1678.0, 1678.0, 1662.0, 1678....   \n",
       "41028    353          0  [1400.0, 1400.0, 1400.0, 1408.0, 1408.0, 1416....   \n",
       "41029    353        200  [1560.0, 1552.0, 1560.0, 1552.0, 1560.0, 1560....   \n",
       "41030    353        400  [1790.0, 1782.0, 1774.0, 1750.0, 1742.0, 1734....   \n",
       "41031    353        600  [1488.0, 1488.0, 1488.0, 1488.0, 1496.0, 1488....   \n",
       "41053    360          0  [1432.0, 1424.0, 1424.0, 1432.0, 1432.0, 1424....   \n",
       "41054    360        200  [1712.0, 1712.0, 1712.0, 1720.0, 1720.0, 1720....   \n",
       "41055    360        400  [1674.0, 1682.0, 1682.0, 1698.0, 1698.0, 1698....   \n",
       "41056    360        600  [1688.0, 1688.0, 1696.0, 1704.0, 1704.0, 1704....   \n",
       "41093    373          0  [1432.0, 1432.0, 1432.0, 1440.0, 1448.0, 1448....   \n",
       "41094    373        200  [1678.0, 1686.0, 1678.0, 1678.0, 1662.0, 1678....   \n",
       "41139    389          0  [1408.0, 1408.0, 1416.0, 1416.0, 1408.0, 1392....   \n",
       "41140    389        200  [1250.0, 1234.0, 1234.0, 1258.0, 1258.0, 1274....   \n",
       "41164    396          0  [1400.0, 1400.0, 1408.0, 1408.0, 1424.0, 1424....   \n",
       "41165    396        200  [1736.0, 1744.0, 1736.0, 1736.0, 1736.0, 1736....   \n",
       "41166    396        400  [1712.0, 1704.0, 1696.0, 1688.0, 1688.0, 1680....   \n",
       "41171    399          0  [1456.0, 1456.0, 1456.0, 1456.0, 1456.0, 1448....   \n",
       "41172    399        200  [1656.0, 1656.0, 1656.0, 1664.0, 1656.0, 1656....   \n",
       "41173    399        400  [1536.0, 1536.0, 1544.0, 1544.0, 1544.0, 1544....   \n",
       "41218    413          0  [1400.0, 1400.0, 1400.0, 1400.0, 1384.0, 1384....   \n",
       "41219    413        200  [1608.0, 1616.0, 1624.0, 1640.0, 1648.0, 1648....   \n",
       "41220    413        400  [1674.0, 1682.0, 1682.0, 1698.0, 1698.0, 1698....   \n",
       "41246    421          0  [1416.0, 1400.0, 1400.0, 1408.0, 1408.0, 1408....   \n",
       "41247    421        200  [1728.0, 1728.0, 1744.0, 1736.0, 1728.0, 1720....   \n",
       "\n",
       "        anom  \n",
       "id            \n",
       "31220   True  \n",
       "31246  False  \n",
       "31247   True  \n",
       "40884  False  \n",
       "40885  False  \n",
       "40886   True  \n",
       "40887  False  \n",
       "40897  False  \n",
       "40898   True  \n",
       "40902  False  \n",
       "40903   True  \n",
       "40909  False  \n",
       "40910  False  \n",
       "40911   True  \n",
       "40948  False  \n",
       "40949   True  \n",
       "40953  False  \n",
       "40954   True  \n",
       "40955  False  \n",
       "40963  False  \n",
       "40964   True  \n",
       "40965  False  \n",
       "40966   True  \n",
       "40967  False  \n",
       "40972  False  \n",
       "40973  False  \n",
       "40974   True  \n",
       "41028  False  \n",
       "41029  False  \n",
       "41030   True  \n",
       "41031  False  \n",
       "41053  False  \n",
       "41054  False  \n",
       "41055   True  \n",
       "41056  False  \n",
       "41093  False  \n",
       "41094   True  \n",
       "41139  False  \n",
       "41140   True  \n",
       "41164  False  \n",
       "41165   True  \n",
       "41166  False  \n",
       "41171   True  \n",
       "41172  False  \n",
       "41173  False  \n",
       "41218  False  \n",
       "41219  False  \n",
       "41220   True  \n",
       "41246  False  \n",
       "41247   True  "
      ]
     },
     "execution_count": 167,
     "metadata": {},
     "output_type": "execute_result"
    }
   ],
   "source": [
    "# Toutes les fenetres des séries contenant une anomalie\n",
    "data_ajout_anom = data_fenetres.loc[data_fenetres[\"serie\"].isin(ind_anom)] \n",
    "# On met un indice d'une grande puisance de 10 pour identifier plus facilement les fenetres ajoutees\n",
    "offset = 10 ** (int(np.log10(data_fenetres.index.values[-1])) + 1)\n",
    "\n",
    "df_supervise = data_fenetres\n",
    "for i in range(1,5):\n",
    "    data_ajout_anom.index += offset\n",
    "    df_supervise = pd.concat([df_supervise, data_ajout_anom])\n",
    "    \n",
    "# df_supervise contient les données d'apprentissage + les données de tests + les séries anormales recopiées 4 fois\n",
    "# les séries recopiées ont pour indice leur indice de départ + k*offset pour k=1,..,4\n",
    "df_supervise.tail(50)"
   ]
  },
  {
   "cell_type": "code",
   "execution_count": 168,
   "metadata": {},
   "outputs": [],
   "source": [
    "def plot_anom_type(Type):\n",
    "    for num in df_supervise.index.values:\n",
    "        TS = df_supervise.loc[num]\n",
    "        loc = TS[\"loc\"]\n",
    "        serie = TS[\"valeurs\"]\n",
    "\n",
    "        if TS[\"type\"] == Type: \n",
    "            fig, ax = plt.subplots(figsize=(12, 7))\n",
    "            plt.title(\"Série numéro \" + str(num) + \", type \" + str(Type), size=20, color='r', fontweight='bold')\n",
    "\n",
    "            ax.plot(range(loc), serie[: loc], 'b')\n",
    "            ax.plot(range(loc - 1, loc + 56), serie[loc - 1 : loc + 56], 'r')\n",
    "            ax.plot(range(loc + 55, len(serie)), serie[loc + 55 :], 'b')\n",
    "\n",
    "        plt.show()"
   ]
  },
  {
   "cell_type": "code",
   "execution_count": 169,
   "metadata": {
    "scrolled": true
   },
   "outputs": [
    {
     "name": "stdout",
     "output_type": "stream",
     "text": [
      "Marche plus avec le nouveau DataFrame, à adapter si besoin.\n"
     ]
    }
   ],
   "source": [
    "try:\n",
    "    for T in range(1, 5):\n",
    "        plot_anom_type(T)\n",
    "except KeyError:\n",
    "    print(\"Marche plus avec le nouveau DataFrame, à adapter si besoin.\")"
   ]
  },
  {
   "cell_type": "markdown",
   "metadata": {},
   "source": [
    "## Méthodes de Classification"
   ]
  },
  {
   "cell_type": "markdown",
   "metadata": {},
   "source": [
    "## Random Forest\n",
    "\n",
    "### Calcul des features"
   ]
  },
  {
   "cell_type": "code",
   "execution_count": 170,
   "metadata": {},
   "outputs": [],
   "source": [
    "df_supervise[\"min\"] = list(map(min, df_supervise.valeurs))\n",
    "df_supervise[\"max\"] = list(map(max, df_supervise.valeurs))\n",
    "df_supervise[\"mean\"] = list(map(np.mean, df_supervise.valeurs))\n",
    "df_supervise[\"std\"] = list(map(np.std, df_supervise.valeurs))\n",
    "df_supervise[\"skew\"] = list(map(sps.skew, df_supervise.valeurs))\n",
    "df_supervise[\"kurt\"] = list(map(sps.kurtosis, df_supervise.valeurs))\n",
    "df_supervise[\"energy\"] = list(map(lambda x : sum(np.asarray(x)**2)/len(x), df_supervise.valeurs))\n",
    "df_supervise[\"average_cross\"] = list(map(lambda x : sum(1*(x > np.mean(x)))/len(x), df_supervise.valeurs))"
   ]
  },
  {
   "cell_type": "code",
   "execution_count": 171,
   "metadata": {},
   "outputs": [],
   "source": [
    "scaler = preprocessing.StandardScaler()\n",
    "names_features = [\"min\", \"max\", \"mean\", \"std\", \"skew\", \"kurt\", \"energy\", \"average_cross\"]\n",
    "for col in names_features:\n",
    "    df_supervise[col] = scaler.fit_transform(df_supervise[col].values.reshape(-1, 1))"
   ]
  },
  {
   "cell_type": "code",
   "execution_count": 172,
   "metadata": {},
   "outputs": [
    {
     "data": {
      "text/plain": [
       "(1453, 12)"
      ]
     },
     "execution_count": 172,
     "metadata": {},
     "output_type": "execute_result"
    }
   ],
   "source": [
    "df_supervise.shape"
   ]
  },
  {
   "cell_type": "code",
   "execution_count": 189,
   "metadata": {},
   "outputs": [],
   "source": [
    "taille_test = df_supervise.shape[0] // 3\n",
    "X_train, X_test, Y_train, Y_test = train_test_split(df_supervise[names_features], df_supervise[\"anom\"], test_size=taille_test)"
   ]
  },
  {
   "cell_type": "code",
   "execution_count": 190,
   "metadata": {},
   "outputs": [
    {
     "name": "stdout",
     "output_type": "stream",
     "text": [
      "0.0020639834881320818\n"
     ]
    }
   ],
   "source": [
    "# définition des paramètres\n",
    "forest = RandomForestClassifier(n_estimators=500, criterion='gini', max_depth=None, min_samples_split=2,\n",
    "                                min_samples_leaf=1, max_features='auto', max_leaf_nodes=None, bootstrap=True, oob_score=True)\n",
    "# apprentissage\n",
    "rfFit = forest.fit(X_train, Y_train)\n",
    "print(1 - rfFit.oob_score_)"
   ]
  },
  {
   "cell_type": "code",
   "execution_count": 191,
   "metadata": {},
   "outputs": [
    {
     "data": {
      "text/plain": [
       "0.004132231404958664"
      ]
     },
     "execution_count": 191,
     "metadata": {},
     "output_type": "execute_result"
    }
   ],
   "source": [
    "# erreur de prévision sur le test\n",
    "1 - rfFit.score(X_test, Y_test)"
   ]
  },
  {
   "cell_type": "code",
   "execution_count": 192,
   "metadata": {},
   "outputs": [
    {
     "name": "stdout",
     "output_type": "stream",
     "text": [
      "Meilleur score = 0.002064, Meilleur paramètre = {'max_features': 2}\n"
     ]
    }
   ],
   "source": [
    "param = [{\"max_features\" : list(range(2, len(names_features) + 1))}]\n",
    "rf = GridSearchCV(RandomForestClassifier(n_estimators=500), param, cv=5, n_jobs=-1)\n",
    "rfOpt = rf.fit(X_train, Y_train)\n",
    "# paramètre optimal\n",
    "print(\"Meilleur score = %f, Meilleur paramètre = %s\" % (1. - rfOpt.best_score_,rfOpt.best_params_))"
   ]
  },
  {
   "cell_type": "code",
   "execution_count": 193,
   "metadata": {},
   "outputs": [
    {
     "data": {
      "text/plain": [
       "0.006198347107438051"
      ]
     },
     "execution_count": 193,
     "metadata": {},
     "output_type": "execute_result"
    }
   ],
   "source": [
    "# erreur de prévision sur le test\n",
    "1 - rfOpt.score(X_test,Y_test)"
   ]
  },
  {
   "cell_type": "code",
   "execution_count": 194,
   "metadata": {},
   "outputs": [
    {
     "data": {
      "image/png": "[encoded data removed]",
      "text/plain": [
       "<Figure size 1152x360 with 4 Axes>"
      ]
     },
     "metadata": {},
     "output_type": "display_data"
    }
   ],
   "source": [
    "# prévision\n",
    "y_chap = rfOpt.predict(X_test)\n",
    "# matrice de confusion\n",
    "# Options pour normalize : all, index, column\n",
    "table_norm_index = pd.crosstab(y_chap, Y_test, rownames=[\"Prédiction\"], colnames=[\"Vraie valeur\"], normalize=\"index\") # margins=True, margins_name=\"Total\")\n",
    "table_norm_col = pd.crosstab(y_chap, Y_test, rownames=[\"Prédiction\"], colnames=[\"Vraie valeur\"], normalize=\"columns\")\n",
    "sns.set(font_scale=1.4)#for label size\n",
    "fig, ax = plt.subplots(nrows=1, ncols=2, figsize=(16, 5))\n",
    "sns.heatmap(table_norm_index, annot=True, cmap=\"Blues\", ax=ax[0], annot_kws={\"size\": 16}) # font size\n",
    "ax[0].set_title(\"Matrice de confusion normalisée \\n selon les lignes\")\n",
    "sns.heatmap(table_norm_col, annot=True, cmap=\"Blues\", ax=ax[1], annot_kws={\"size\": 16}) # font size\n",
    "ax[1].set_title(\"Matrice de confusion normalisée \\n selon les colonnes\")\n",
    "plt.show()"
   ]
  },
  {
   "cell_type": "markdown",
   "metadata": {},
   "source": [
    "Commentaire : 1,2% d'erreurs, c'est très faible mais si on regarde la matrice de confusion on voit que la prévision n'est en fait pas si efficace. En effet on observe beaucoup de faux négatifs, envion un tiers. On a pas contre quasi aucun faux positif.\n",
    "\n",
    "On teste la même chose mais sans dupliquer les anomalies."
   ]
  },
  {
   "cell_type": "code",
   "execution_count": 179,
   "metadata": {},
   "outputs": [],
   "source": [
    "data_fenetres[\"min\"] = list(map(min, data_fenetres.valeurs))\n",
    "data_fenetres[\"max\"] = list(map(max, data_fenetres.valeurs))\n",
    "data_fenetres[\"mean\"] = list(map(np.mean, data_fenetres.valeurs))\n",
    "data_fenetres[\"std\"] = list(map(np.std, data_fenetres.valeurs))\n",
    "data_fenetres[\"skew\"] = list(map(sps.skew, data_fenetres.valeurs))\n",
    "data_fenetres[\"kurt\"] = list(map(sps.kurtosis, data_fenetres.valeurs))\n",
    "data_fenetres[\"energy\"] = list(map(lambda x : sum(np.asarray(x)**2)/len(x), data_fenetres.valeurs))\n",
    "data_fenetres[\"average_cross\"] = list(map(lambda x : sum(1*(x > np.mean(x)))/len(x), data_fenetres.valeurs))"
   ]
  },
  {
   "cell_type": "code",
   "execution_count": 180,
   "metadata": {},
   "outputs": [],
   "source": [
    "scaler = preprocessing.StandardScaler()\n",
    "names_features = [\"min\", \"max\", \"mean\", \"std\", \"skew\", \"kurt\", \"energy\", \"average_cross\"]\n",
    "for col in names_features:\n",
    "    data_fenetres[col] = scaler.fit_transform(data_fenetres[col].values.reshape(-1, 1))"
   ]
  },
  {
   "cell_type": "code",
   "execution_count": 181,
   "metadata": {},
   "outputs": [
    {
     "data": {
      "text/plain": [
       "(1265, 12)"
      ]
     },
     "execution_count": 181,
     "metadata": {},
     "output_type": "execute_result"
    }
   ],
   "source": [
    "data_fenetres.shape"
   ]
  },
  {
   "cell_type": "code",
   "execution_count": 196,
   "metadata": {
    "scrolled": true
   },
   "outputs": [],
   "source": [
    "taille_test = data_fenetres.shape[0] // 3\n",
    "X_train, X_test, Y_train, Y_test = train_test_split(data_fenetres[names_features], data_fenetres[\"anom\"], test_size=taille_test)"
   ]
  },
  {
   "cell_type": "code",
   "execution_count": 197,
   "metadata": {},
   "outputs": [
    {
     "name": "stdout",
     "output_type": "stream",
     "text": [
      "0.011848341232227444\n"
     ]
    }
   ],
   "source": [
    "# définition des paramètres\n",
    "forest = RandomForestClassifier(n_estimators=500, criterion='gini', max_depth=None, min_samples_split=2, min_samples_leaf=1,\n",
    "                                max_features='auto', max_leaf_nodes=None, bootstrap=True, oob_score=True)\n",
    "# apprentissage\n",
    "rfFit = forest.fit(X_train, Y_train)\n",
    "print(1 - rfFit.oob_score_)"
   ]
  },
  {
   "cell_type": "code",
   "execution_count": 199,
   "metadata": {},
   "outputs": [
    {
     "data": {
      "text/plain": [
       "0.014251781472684133"
      ]
     },
     "execution_count": 199,
     "metadata": {},
     "output_type": "execute_result"
    }
   ],
   "source": [
    "# erreur de prévision sur le test\n",
    "1 - rfFit.score(X_test, Y_test)"
   ]
  },
  {
   "cell_type": "code",
   "execution_count": 200,
   "metadata": {},
   "outputs": [
    {
     "name": "stdout",
     "output_type": "stream",
     "text": [
      "Meilleur score = 0.009479, Meilleur paramètre = {'max_features': 3}\n"
     ]
    }
   ],
   "source": [
    "param = [{\"max_features\" : list(range(2, len(names_features) + 1))}]\n",
    "rf = GridSearchCV(RandomForestClassifier(n_estimators=500), param, cv=5, n_jobs=-1)\n",
    "rfOpt = rf.fit(X_train, Y_train)\n",
    "# paramètre optimal\n",
    "print(\"Meilleur score = %f, Meilleur paramètre = %s\" % (1. - rfOpt.best_score_, rfOpt.best_params_))"
   ]
  },
  {
   "cell_type": "code",
   "execution_count": 201,
   "metadata": {},
   "outputs": [
    {
     "data": {
      "text/plain": [
       "0.014251781472684133"
      ]
     },
     "execution_count": 201,
     "metadata": {},
     "output_type": "execute_result"
    }
   ],
   "source": [
    "# erreur de prévision sur le test\n",
    "1 - rfOpt.score(X_test, Y_test)"
   ]
  },
  {
   "cell_type": "code",
   "execution_count": 202,
   "metadata": {},
   "outputs": [
    {
     "data": {
      "image/png": "[encoded data removed]",
      "text/plain": [
       "<Figure size 1152x360 with 4 Axes>"
      ]
     },
     "metadata": {},
     "output_type": "display_data"
    }
   ],
   "source": [
    "# prévision\n",
    "y_chap = rfFit.predict(X_test)\n",
    "# matrice de confusion\n",
    "# Options pour normalize : all, index, column\n",
    "table_norm_index = pd.crosstab(y_chap, Y_test, rownames=[\"Prédiction\"], colnames=[\"Vraie valeur\"], normalize=\"index\") # margins=True, margins_name=\"Total\")\n",
    "table_norm_col = pd.crosstab(y_chap, Y_test, rownames=[\"Prédiction\"], colnames=[\"Vraie valeur\"], normalize=\"columns\")\n",
    "sns.set(font_scale=1.4)#for label size\n",
    "fig, ax = plt.subplots(nrows=1, ncols=2, figsize=(16, 5))\n",
    "sns.heatmap(table_norm_index, annot=True, cmap=\"Blues\", ax=ax[0], annot_kws={\"size\": 16}) # font size\n",
    "ax[0].set_title(\"Matrice de confusion normalisée \\n selon les lignes\")\n",
    "sns.heatmap(table_norm_col, annot=True, cmap=\"Blues\", ax=ax[1], annot_kws={\"size\": 16}) # font size\n",
    "ax[1].set_title(\"Matrice de confusion normalisée \\n selon les colonnes\")\n",
    "plt.show()"
   ]
  },
  {
   "cell_type": "markdown",
   "metadata": {},
   "source": [
    "Commentaire : Le modèle répond quasi systématiquement Non, et donc se trompe très peu. C'est parfaitement inexploitable, il faut garder la version en dupliquant les anomalies ou trouver une autre idée."
   ]
  },
  {
   "cell_type": "markdown",
   "metadata": {},
   "source": [
    "### Coefficients de Fourier"
   ]
  },
  {
   "cell_type": "code",
   "execution_count": 203,
   "metadata": {},
   "outputs": [
    {
     "name": "stdout",
     "output_type": "stream",
     "text": [
      "(1453, 200)\n",
      "(1453, 20)\n"
     ]
    }
   ],
   "source": [
    "from scipy.fftpack import fft\n",
    "fftCoeff =[]\n",
    "for x in df_supervise[\"valeurs\"]:\n",
    "    mx = np.mean(x)\n",
    "    x_centre = x - mx\n",
    "    #Apply fast Fourier transform\n",
    "    coeffsfft = np.abs(fft(x_centre))\n",
    "    coeffsfft_flatten = np.hstack(coeffsfft)\n",
    "    fftCoeff.append(coeffsfft_flatten)\n",
    "    \n",
    "fftCoeff = np.array(fftCoeff)\n",
    "print(fftCoeff.shape)\n",
    "\n",
    "#Coefficients seuillés\n",
    "prop_a_garder = 0.1\n",
    "nb_coeffs = int(fftCoeff.shape[1] * prop_a_garder)\n",
    "somme = np.sum(fftCoeff**2, axis=0)\n",
    "fftCoeff_seuil = np.zeros((0, nb_coeffs))\n",
    "ind_grands = np.argsort(somme)[-nb_coeffs :]\n",
    "fftCoeff_seuil = fftCoeff[:, ind_grands]\n",
    "\n",
    "print(fftCoeff_seuil.shape)"
   ]
  },
  {
   "cell_type": "code",
   "execution_count": 204,
   "metadata": {},
   "outputs": [],
   "source": [
    "df_Fourier = pd.DataFrame(fftCoeff)\n",
    "df_Fourier_seuil = pd.DataFrame(fftCoeff_seuil)"
   ]
  },
  {
   "cell_type": "code",
   "execution_count": 205,
   "metadata": {},
   "outputs": [],
   "source": [
    "for col in df_Fourier.columns :\n",
    "    df_Fourier[col] = scaler.fit_transform(df_Fourier[col].values.reshape(-1, 1))\n",
    "for col in df_Fourier_seuil.columns :\n",
    "    df_Fourier_seuil[col] = scaler.fit_transform(df_Fourier_seuil[col].values.reshape(-1, 1))"
   ]
  },
  {
   "cell_type": "markdown",
   "metadata": {},
   "source": [
    "### Coefficients d'ondelettes"
   ]
  },
  {
   "cell_type": "code",
   "execution_count": 206,
   "metadata": {},
   "outputs": [
    {
     "name": "stderr",
     "output_type": "stream",
     "text": [
      "/usr/local/insa/anaconda/lib/python3.6/site-packages/pywt/_multilevel.py:664: FutureWarning: Using a non-tuple sequence for multidimensional indexing is deprecated; use `arr[tuple(seq)]` instead of `arr[seq]`. In the future this will be interpreted as an array index, `arr[np.array(seq)]`, which will result either in an error or a different result.\n",
      "  coeff_arr[a_slices] = a_coeffs\n",
      "/usr/local/insa/anaconda/lib/python3.6/site-packages/pywt/_multilevel.py:690: FutureWarning: Using a non-tuple sequence for multidimensional indexing is deprecated; use `arr[tuple(seq)]` instead of `arr[seq]`. In the future this will be interpreted as an array index, `arr[np.array(seq)]`, which will result either in an error or a different result.\n",
      "  coeff_arr[slice_array] = d\n"
     ]
    },
    {
     "name": "stdout",
     "output_type": "stream",
     "text": [
      "(1453, 201) (1453, 210)\n"
     ]
    }
   ],
   "source": [
    "import pywt\n",
    "from pywt import wavedec\n",
    "from statsmodels.robust import mad\n",
    "\n",
    "wavelist=['haar', 'db2']\n",
    "\n",
    "wavelist=['haar', 'db2'] \n",
    "\n",
    "Coeff_ond_haar = []\n",
    "Coeff_ond_db2 = []\n",
    "\n",
    "for x in df_supervise[\"valeurs\"]:\n",
    "    #Apply wavelet decomposition\n",
    "    coeffs_haar = pywt.wavedec(x,wavelist[0],level=4) \n",
    "    coeffs_flatten_haar, coeff_slices_haar = pywt.coeffs_to_array(coeffs_haar)\n",
    "    Coeff_ond_haar.append(coeffs_flatten_haar)\n",
    "    #Apply wavelet decomposition\n",
    "    coeffs_db2 = pywt.wavedec(x,wavelist[1],level=4) \n",
    "    coeffs_flatten_db2, coeff_slices_db2 = pywt.coeffs_to_array(coeffs_db2)\n",
    "    Coeff_ond_db2.append(coeffs_flatten_db2)\n",
    "    \n",
    "    \n",
    "Coeff_ond_haar = np.array(Coeff_ond_haar)\n",
    "Coeff_ond_db2 = np.array(Coeff_ond_db2)\n",
    "print(Coeff_ond_haar.shape, Coeff_ond_db2.shape)"
   ]
  },
  {
   "cell_type": "code",
   "execution_count": 207,
   "metadata": {},
   "outputs": [],
   "source": [
    "df_ond_haar = pd.DataFrame(Coeff_ond_haar)\n",
    "df_ond_db2 = pd.DataFrame(Coeff_ond_db2)"
   ]
  },
  {
   "cell_type": "code",
   "execution_count": 209,
   "metadata": {},
   "outputs": [],
   "source": [
    "#for col in df_ond_haar.columns :\n",
    "#    df_ond_haar[col] = scaler.fit_transform(df_ond_haar[col].values.reshape(-1, 1))\n",
    "#for col in df_ond_db2.columns :\n",
    "#    df_ond_db2[col] = scaler.fit_transform(df_ond_db2[col].values.reshape(-1, 1))"
   ]
  },
  {
   "cell_type": "markdown",
   "metadata": {},
   "source": [
    "### Visualisation des résultats"
   ]
  },
  {
   "cell_type": "code",
   "execution_count": 221,
   "metadata": {},
   "outputs": [],
   "source": [
    "# Interactive display\n",
    "from ipywidgets import interact, widgets, interactive, fixed, interact_manual\n",
    "from IPython.display import display\n",
    "\n",
    "df_liste = [\"Features\",\n",
    "            \"Ondelettes_haar\",\n",
    "            \"Ondelettes_db2\",\n",
    "            \"Coefficients de Fourier\",\n",
    "            \"Coefficients de Fourier seuillés\"\n",
    "           ]\n",
    "\n",
    "dict_df = {\"Features\" : df_supervise[names_features],\n",
    "           \"Ondelettes_haar\" : df_ond_haar,\n",
    "           \"Ondelettes_db2\" : df_ond_db2,\n",
    "           \"Coefficients de Fourier\" : df_Fourier,\n",
    "           \"Coefficients de Fourier seuillés\" : df_Fourier_seuil\n",
    "          }\n",
    "\n",
    "taille_max = df_supervise.shape[0]"
   ]
  },
  {
   "cell_type": "code",
   "execution_count": 222,
   "metadata": {},
   "outputs": [
    {
     "data": {
      "application/vnd.jupyter.widget-view+json": {
       "model_id": "0852061e3db941229504a27f8280c1e7",
       "version_major": 2,
       "version_minor": 0
      },
      "text/plain": [
       "interactive(children=(Dropdown(description='Choix_df', options=('Features', 'Ondelettes_haar', 'Ondelettes_db2…"
      ]
     },
     "metadata": {},
     "output_type": "display_data"
    }
   ],
   "source": [
    "@interact(Choix_df=df_liste, taille_test=widgets.IntSlider(min=100, max=taille_max - 100, step=100, \n",
    "                                                           value=taille_max//3, continuous_update=False), \n",
    "          button=widgets.ToggleButton(description=\"Refresh\"))\n",
    "\n",
    "def RandomForest(Choix_df, taille_test, button):\n",
    "    df_coeff = dict_df[Choix_df]\n",
    "    print(\"Proportion de fenêtres utilisées pour l'apprentissage : \", 1 - taille_test / df_coeff.shape[0])\n",
    "    X_train, X_test, Y_train, Y_test = train_test_split(df_coeff, df_supervise[\"anom\"], test_size=taille_test)\n",
    "    \n",
    "    # définition des paramètres\n",
    "    \n",
    "    # apprentissage\n",
    "    \n",
    "    max_feat = 16\n",
    "    param = [{\"max_features\" : list(range(2, min(max_feat, df_coeff.shape[1]) + 1))}]\n",
    "    rf = GridSearchCV(RandomForestClassifier(n_estimators=500), param, cv=5, n_jobs=-1)\n",
    "\n",
    "    rfOpt = rf.fit(X_train, Y_train)\n",
    "    \n",
    "    #print(\"Erreur Out of bag : \", 1 - rfOpt.oob_score_)  # N'existe pas sur les objets GridSearchCV, hélas\n",
    "    # erreur de prévision sur le test\n",
    "    print(\"Erreur de prévision sur le test : \", 1 - rfOpt.score(X_test, Y_test))\n",
    "    # paramètre optimal\n",
    "    print(\"Meilleur score = %f, Meilleur paramètre = %s\" % (1. - rfOpt.best_score_, rfOpt.best_params_))\n",
    "    \n",
    "    forest = RandomForestClassifier(n_estimators=500, criterion='gini', max_depth=None, min_samples_split=2,\n",
    "                                    min_samples_leaf=1, max_features=rfOpt.best_params_['max_features'], \n",
    "                                    max_leaf_nodes=None, bootstrap=True, oob_score=True)\n",
    "    rfFit = forest.fit(X_train, Y_train)\n",
    "    \n",
    "    # prévision\n",
    "    y_chap = rfOpt.predict(X_test)\n",
    "    # matrice de confusion\n",
    "    table = pd.crosstab(y_chap, Y_test, rownames=[\"Prédiction\"], colnames=[\"Vraie valeur\"], normalize=False) # margins=True, margins_name=\"Total\")\n",
    "    table_norm = pd.crosstab(y_chap, Y_test, rownames=[\"Prédiction\"], colnames=[\"Vraie valeur\"], normalize=\"all\")\n",
    "    table_norm_index = pd.crosstab(y_chap, Y_test, rownames=[\"Prédiction\"], colnames=[\"Vraie valeur\"], normalize=\"index\") # margins=True, margins_name=\"Total\")\n",
    "    table_norm_col = pd.crosstab(y_chap, Y_test, rownames=[\"Prédiction\"], colnames=[\"Vraie valeur\"], normalize=\"columns\")\n",
    "    sns.set(font_scale=1.4)  #for label size\n",
    "    fig, ax = plt.subplots(nrows=2, ncols=2, figsize=(16, 12))\n",
    "    sns.heatmap(table, annot=True, cmap=\"Blues\", ax=ax[0, 0], annot_kws={\"size\": 16})  # font size\n",
    "    ax[0, 0].set_title(\"Matrice de confusion brute\")\n",
    "    sns.heatmap(table_norm, annot=True, cmap=\"Blues\", ax=ax[0, 1], annot_kws={\"size\": 16}) # font size\n",
    "    ax[0, 1].set_title(\"Matrice de confusion normalisée\")\n",
    "    sns.heatmap(table_norm_index, annot=True, cmap=\"Blues\", ax=ax[1, 0], annot_kws={\"size\": 16}) # font size\n",
    "    ax[1, 0].set_title(\"Matrice de confusion normalisée selon les lignes\")\n",
    "    sns.heatmap(table_norm_col, annot=True, cmap=\"Blues\", ax=ax[1, 1], annot_kws={\"size\": 16}) # font size\n",
    "    ax[1, 1].set_title(\"Matrice de confusion normalisée selon les colonnes\")\n",
    "    plt.show()"
   ]
  },
  {
   "cell_type": "markdown",
   "metadata": {},
   "source": [
    "**Commentaires :**\n",
    "\n",
    "Très peu d'erreur avec les coefficients d'ondelettes (haar ou db2) et même parfois 0 erreur.\n",
    "\n",
    "Avec les coefficients de Fourier : résulats quasi identiques à ceux de Features, parfois meilleurs, parfois pires."
   ]
  },
  {
   "cell_type": "markdown",
   "metadata": {},
   "source": [
    "### A FINIR"
   ]
  },
  {
   "cell_type": "code",
   "execution_count": 225,
   "metadata": {
    "scrolled": true
   },
   "outputs": [
    {
     "name": "stdout",
     "output_type": "stream",
     "text": [
      "Erreur de prévision sur le test :  0.0\n",
      "Meilleur score = 0.000000, Meilleur paramètre = {'max_features': 2}\n"
     ]
    }
   ],
   "source": [
    "# RandomForest sur coefficients d'ondelettes db2\n",
    "\n",
    "X_train, X_test, Y_train, Y_test = train_test_split(Coeff_ond_db2, df_supervise[\"anom\"],\n",
    "                                                    test_size=Coeff_ond_db2.shape[1] // 3)\n",
    "\n",
    "max_feat = 16\n",
    "param = [{\"max_features\" : list(range(2, min(max_feat, Coeff_ond_db2.shape[1]) + 1))}]\n",
    "rf = GridSearchCV(RandomForestClassifier(n_estimators=500), param, cv=5, n_jobs=-1)\n",
    "rfOpt = rf.fit(X_train, Y_train)\n",
    "\n",
    "# erreur de prévision sur le test\n",
    "print(\"Erreur de prévision sur le test : \", 1 - rfOpt.score(X_test, Y_test))\n",
    "# paramètre optimal\n",
    "print(\"Meilleur score = %f, Meilleur paramètre = %s\" % (1. - rfOpt.best_score_, rfOpt.best_params_))\n",
    "\n",
    "# forest optimal\n",
    "forest = RandomForestClassifier(n_estimators=500, criterion='gini', max_depth=None, min_samples_split=2,\n",
    "                                min_samples_leaf=1, max_features=2, max_leaf_nodes=None, bootstrap=True,\n",
    "                                oob_score=True)\n",
    "rfFit = forest.fit(X_train, Y_train)"
   ]
  },
  {
   "cell_type": "code",
   "execution_count": 233,
   "metadata": {},
   "outputs": [
    {
     "name": "stdout",
     "output_type": "stream",
     "text": [
      "Importance de chaque coefficient :  [0.00597548 0.00767178 0.00666999 0.00586374 0.00606846 0.00735334\n",
      " 0.00317973 0.00385766 0.00891802 0.01196325 0.01039841 0.00395548\n",
      " 0.0036462  0.00324075 0.00325953 0.00440324 0.00518453 0.00421271\n",
      " 0.00519012 0.00411065 0.00321428 0.00358954 0.00525248 0.00507993\n",
      " 0.00346851 0.00750018 0.0060337  0.00282471 0.00307009 0.00237688\n",
      " 0.00288696 0.00402172 0.00430879 0.00466001 0.01467463 0.00894199\n",
      " 0.00521311 0.00663589 0.00523584 0.00320174 0.00268379 0.00210298\n",
      " 0.00437862 0.00424539 0.00627823 0.00634636 0.00441128 0.00445158\n",
      " 0.00419254 0.00713615 0.00698318 0.00343657 0.00377664 0.00319332\n",
      " 0.00260092 0.00222374 0.00251173 0.00336679 0.00279296 0.00472086\n",
      " 0.00269034 0.0053522  0.00517014 0.01087091 0.00464368 0.00600103\n",
      " 0.00712352 0.00452027 0.00429198 0.00737231 0.01091874 0.0055599\n",
      " 0.00389517 0.00326701 0.00424578 0.00230693 0.00299155 0.00368114\n",
      " 0.00274331 0.0034667  0.00371316 0.00373672 0.01001973 0.00491362\n",
      " 0.00447567 0.006479   0.00459873 0.00360886 0.00954104 0.00419268\n",
      " 0.00435345 0.00471081 0.00381896 0.00401696 0.00548745 0.00604259\n",
      " 0.00627896 0.00618551 0.00371218 0.00402799 0.00277575 0.00323921\n",
      " 0.00508737 0.00269805 0.00322637 0.00160922 0.00179475 0.00223474\n",
      " 0.0028222  0.00231865 0.00482218 0.00556946 0.00523564 0.0102205\n",
      " 0.0057957  0.00404682 0.00896414 0.00988395 0.00750156 0.00595913\n",
      " 0.00553134 0.00570087 0.00490841 0.00686898 0.0031275  0.00755288\n",
      " 0.00486849 0.00802733 0.00879731 0.00692164 0.00510633 0.00503694\n",
      " 0.00445954 0.00471155 0.00434567 0.00566359 0.01627825 0.0108108\n",
      " 0.00377116 0.00281288 0.00359259 0.00449725 0.00380666 0.00391554\n",
      " 0.00303607 0.00262385 0.00287325 0.00171617 0.00188182 0.00200186\n",
      " 0.00319633 0.0025105  0.00180893 0.00184299 0.00271154 0.00396782\n",
      " 0.00342007 0.00353629 0.00470189 0.00770624 0.00479705 0.00452527\n",
      " 0.00520379 0.00525132 0.00343336 0.0049219  0.00796621 0.00731079\n",
      " 0.00680331 0.00884817 0.00697423 0.00321748 0.00396909 0.00572803\n",
      " 0.00364639 0.00452317 0.00307058 0.0031922  0.00431198 0.00313937\n",
      " 0.00609498 0.00524153 0.00495911 0.00544406 0.00442199 0.0037473\n",
      " 0.01096748 0.00608753 0.00340622 0.003773   0.00295428 0.0021687\n",
      " 0.0032738  0.00217883 0.00265082 0.0022182  0.00477465 0.00321507\n",
      " 0.00358809 0.00284572 0.00370888 0.00228927 0.00184525 0.00227649\n",
      " 0.00307228 0.00320299 0.00231247 0.00238368 0.00213064 0.00130419]\n"
     ]
    }
   ],
   "source": [
    "print(\"Importance de chaque coefficient : \", rfFit.feature_importances_)"
   ]
  },
  {
   "cell_type": "code",
   "execution_count": 227,
   "metadata": {},
   "outputs": [
    {
     "data": {
      "text/plain": [
       "array([False, False, False, False, False, False, False, False, False,\n",
       "       False, False, False,  True, False, False, False, False, False,\n",
       "       False, False, False, False, False, False, False, False, False,\n",
       "       False, False, False, False, False, False, False, False, False,\n",
       "       False, False, False, False, False, False, False, False, False,\n",
       "       False, False, False, False, False, False, False, False, False,\n",
       "       False, False, False, False, False, False, False, False, False,\n",
       "       False, False,  True, False,  True,  True, False])"
      ]
     },
     "execution_count": 227,
     "metadata": {},
     "output_type": "execute_result"
    }
   ],
   "source": [
    "y_chap = rfOpt.predict(X_test)\n",
    "y_chap"
   ]
  },
  {
   "cell_type": "code",
   "execution_count": 228,
   "metadata": {},
   "outputs": [],
   "source": [
    "importance = rfFit.feature_importances_"
   ]
  },
  {
   "cell_type": "code",
   "execution_count": 235,
   "metadata": {},
   "outputs": [
    {
     "data": {
      "text/plain": [
       "array([136,  34,   9, 186,  70,  63, 137,  10, 113,  82, 117,  88, 116,\n",
       "        35,   8, 169, 128, 127, 166, 159,   1, 125, 118,  25,  69,   5,\n",
       "       167,  49,  66,  50, 170, 129, 123, 168,   2,  37,  85,  45,  96,\n",
       "        44,  97, 180, 187,   4,  95,  26,  65,   0, 119,   3, 114, 173,\n",
       "       121, 135, 111,  71, 120,  94, 183,  61,  22, 163, 181,  38, 112,\n",
       "        36, 162,  18,  16,  62, 130, 102,  23, 131, 182, 165,  83, 122,\n",
       "       126, 110, 160, 196,  59, 133,  91, 158,  33,  64,  86, 161, 175,\n",
       "        67, 141,  84, 132,  47, 184,  46,  15,  42,  90, 134, 178,  32,\n",
       "        68,  74,  43,  17,  89,  48,  19, 115,  99,  31,  93, 172, 155,\n",
       "        11, 143,  72,   7,  92, 142,  52, 189, 138, 185,  81,  80,  98,\n",
       "       200,  77, 174,  12,  87, 140,  21, 198, 157,  24,  79,  51, 164,\n",
       "       156, 188,  57, 192,  73,  14,  13, 101, 104, 171, 197,  20, 205,\n",
       "        39, 150,  53, 177,   6, 179, 124, 204, 176,  28, 144,  76, 190,\n",
       "        30, 146, 199,  27, 108, 139,  58, 100,  78, 154, 103,  60,  40,\n",
       "       194, 145,  54,  56, 151, 207,  29, 109, 206,  75, 201, 203, 107,\n",
       "        55, 195, 193, 191, 208,  41, 149, 148, 202, 153, 152, 106, 147,\n",
       "       105, 209])"
      ]
     },
     "execution_count": 235,
     "metadata": {},
     "output_type": "execute_result"
    }
   ],
   "source": [
    "# coefficients triés par ordre d'importance\n",
    "np.argsort(rfFit.feature_importances_)[::-1] #dans l'ordre"
   ]
  },
  {
   "cell_type": "code",
   "execution_count": 236,
   "metadata": {
    "scrolled": true
   },
   "outputs": [
    {
     "data": {
      "text/plain": [
       "array([ 0.00000000e+00,  0.00000000e+00,  0.00000000e+00,  0.00000000e+00,\n",
       "        0.00000000e+00,  0.00000000e+00,  0.00000000e+00,  0.00000000e+00,\n",
       "        0.00000000e+00,  6.70267064e+03,  6.70127003e+03,  0.00000000e+00,\n",
       "        0.00000000e+00,  0.00000000e+00,  0.00000000e+00,  0.00000000e+00,\n",
       "        0.00000000e+00,  0.00000000e+00,  0.00000000e+00,  0.00000000e+00,\n",
       "        0.00000000e+00,  0.00000000e+00,  0.00000000e+00,  0.00000000e+00,\n",
       "        0.00000000e+00,  0.00000000e+00,  0.00000000e+00,  0.00000000e+00,\n",
       "        0.00000000e+00,  0.00000000e+00,  0.00000000e+00,  0.00000000e+00,\n",
       "        0.00000000e+00,  0.00000000e+00,  2.76156634e-01,  0.00000000e+00,\n",
       "        0.00000000e+00,  0.00000000e+00,  0.00000000e+00,  0.00000000e+00,\n",
       "        0.00000000e+00,  0.00000000e+00,  0.00000000e+00,  0.00000000e+00,\n",
       "        0.00000000e+00,  0.00000000e+00,  0.00000000e+00,  0.00000000e+00,\n",
       "        0.00000000e+00,  0.00000000e+00,  0.00000000e+00,  0.00000000e+00,\n",
       "        0.00000000e+00,  0.00000000e+00,  0.00000000e+00,  0.00000000e+00,\n",
       "        0.00000000e+00,  0.00000000e+00,  0.00000000e+00,  0.00000000e+00,\n",
       "        0.00000000e+00,  0.00000000e+00,  0.00000000e+00, -1.37224319e+01,\n",
       "        0.00000000e+00,  0.00000000e+00,  0.00000000e+00,  0.00000000e+00,\n",
       "        0.00000000e+00,  0.00000000e+00,  3.66025404e-01,  0.00000000e+00,\n",
       "        0.00000000e+00,  0.00000000e+00,  0.00000000e+00,  0.00000000e+00,\n",
       "        0.00000000e+00,  0.00000000e+00,  0.00000000e+00,  0.00000000e+00,\n",
       "        0.00000000e+00,  0.00000000e+00,  8.33012702e+00,  0.00000000e+00,\n",
       "        0.00000000e+00,  0.00000000e+00,  0.00000000e+00,  0.00000000e+00,\n",
       "        0.00000000e+00,  0.00000000e+00,  0.00000000e+00,  0.00000000e+00,\n",
       "        0.00000000e+00,  0.00000000e+00,  0.00000000e+00,  0.00000000e+00,\n",
       "        0.00000000e+00,  0.00000000e+00,  0.00000000e+00,  0.00000000e+00,\n",
       "        0.00000000e+00,  0.00000000e+00,  0.00000000e+00,  0.00000000e+00,\n",
       "        0.00000000e+00,  0.00000000e+00,  0.00000000e+00,  0.00000000e+00,\n",
       "        0.00000000e+00,  0.00000000e+00,  0.00000000e+00,  0.00000000e+00,\n",
       "        0.00000000e+00,  1.70530257e-13,  0.00000000e+00,  0.00000000e+00,\n",
       "        0.00000000e+00,  0.00000000e+00,  0.00000000e+00,  0.00000000e+00,\n",
       "        0.00000000e+00,  0.00000000e+00,  0.00000000e+00,  0.00000000e+00,\n",
       "        0.00000000e+00,  0.00000000e+00,  0.00000000e+00,  0.00000000e+00,\n",
       "        0.00000000e+00,  0.00000000e+00,  0.00000000e+00,  0.00000000e+00,\n",
       "        0.00000000e+00,  0.00000000e+00,  0.00000000e+00,  0.00000000e+00,\n",
       "        1.03527618e+00, -1.03527618e+00,  0.00000000e+00,  0.00000000e+00,\n",
       "        0.00000000e+00,  0.00000000e+00,  0.00000000e+00,  0.00000000e+00,\n",
       "        0.00000000e+00,  0.00000000e+00,  0.00000000e+00,  0.00000000e+00,\n",
       "        0.00000000e+00,  0.00000000e+00,  0.00000000e+00,  0.00000000e+00,\n",
       "        0.00000000e+00,  0.00000000e+00,  0.00000000e+00,  0.00000000e+00,\n",
       "        0.00000000e+00,  0.00000000e+00,  0.00000000e+00,  0.00000000e+00,\n",
       "        0.00000000e+00,  0.00000000e+00,  0.00000000e+00,  0.00000000e+00,\n",
       "        0.00000000e+00,  0.00000000e+00,  0.00000000e+00,  0.00000000e+00,\n",
       "        0.00000000e+00,  0.00000000e+00,  0.00000000e+00,  0.00000000e+00,\n",
       "        0.00000000e+00,  0.00000000e+00,  0.00000000e+00,  0.00000000e+00,\n",
       "        0.00000000e+00,  0.00000000e+00,  0.00000000e+00,  0.00000000e+00,\n",
       "        0.00000000e+00,  0.00000000e+00,  0.00000000e+00,  0.00000000e+00,\n",
       "        0.00000000e+00,  0.00000000e+00, -4.89897949e+00,  0.00000000e+00,\n",
       "        0.00000000e+00,  0.00000000e+00,  0.00000000e+00,  0.00000000e+00,\n",
       "        0.00000000e+00,  0.00000000e+00,  0.00000000e+00,  0.00000000e+00,\n",
       "        0.00000000e+00,  0.00000000e+00,  0.00000000e+00,  0.00000000e+00,\n",
       "        0.00000000e+00,  0.00000000e+00,  0.00000000e+00,  0.00000000e+00,\n",
       "        0.00000000e+00,  0.00000000e+00,  0.00000000e+00,  0.00000000e+00,\n",
       "        0.00000000e+00,  0.00000000e+00])"
      ]
     },
     "execution_count": 236,
     "metadata": {},
     "output_type": "execute_result"
    }
   ],
   "source": [
    "# on ne garde que les 10 coefficients les plus importants pour reconstruire un signal avec anomalie\n",
    "seuil = np.sort(importance)[-10]\n",
    "valeurs = df_ond_db2.loc[6, :].values\n",
    "valeurs_seuil = np.array([v if imp >= seuil else 0 for imp, v in zip(importance, valeurs)])\n",
    "valeurs_seuil"
   ]
  },
  {
   "cell_type": "code",
   "execution_count": 237,
   "metadata": {},
   "outputs": [
    {
     "name": "stderr",
     "output_type": "stream",
     "text": [
      "/usr/local/insa/anaconda/lib/python3.6/site-packages/pywt/_multilevel.py:763: FutureWarning: Using a non-tuple sequence for multidimensional indexing is deprecated; use `arr[tuple(seq)]` instead of `arr[seq]`. In the future this will be interpreted as an array index, `arr[np.array(seq)]`, which will result either in an error or a different result.\n",
      "  coeffs.append(arr[coeff_slices[0]])\n",
      "/usr/local/insa/anaconda/lib/python3.6/site-packages/pywt/_multilevel.py:776: FutureWarning: Using a non-tuple sequence for multidimensional indexing is deprecated; use `arr[tuple(seq)]` instead of `arr[seq]`. In the future this will be interpreted as an array index, `arr[np.array(seq)]`, which will result either in an error or a different result.\n",
      "  d[k] = arr[v]\n",
      "/usr/local/insa/anaconda/lib/python3.6/site-packages/pywt/_multilevel.py:408: FutureWarning: Using a non-tuple sequence for multidimensional indexing is deprecated; use `arr[tuple(seq)]` instead of `arr[seq]`. In the future this will be interpreted as an array index, `arr[np.array(seq)]`, which will result either in an error or a different result.\n",
      "  return a_coeff[[slice(s) for s in d_coeff.shape]]\n"
     ]
    },
    {
     "data": {
      "text/plain": [
       "[<matplotlib.lines.Line2D at 0x7f96282a0d68>]"
      ]
     },
     "execution_count": 237,
     "metadata": {},
     "output_type": "execute_result"
    },
    {
     "data": {
      "image/png": "[encoded data removed]",
      "text/plain": [
       "<Figure size 432x288 with 1 Axes>"
      ]
     },
     "metadata": {},
     "output_type": "display_data"
    }
   ],
   "source": [
    "plt.plot(pywt.waverecn(pywt.array_to_coeffs(valeurs_seuil, coeff_slices), 'db2'))"
   ]
  },
  {
   "cell_type": "code",
   "execution_count": 238,
   "metadata": {},
   "outputs": [
    {
     "data": {
      "text/plain": [
       "[<matplotlib.lines.Line2D at 0x7f9614380ac8>]"
      ]
     },
     "execution_count": 238,
     "metadata": {},
     "output_type": "execute_result"
    },
    {
     "data": {
      "image/png": "[encoded data removed]",
      "text/plain": [
       "<Figure size 432x288 with 1 Axes>"
      ]
     },
     "metadata": {},
     "output_type": "display_data"
    }
   ],
   "source": [
    "#le signal d'origine\n",
    "plt.plot(np.array(df_supervise.loc[6, \"valeurs\"]))"
   ]
  },
  {
   "cell_type": "code",
   "execution_count": null,
   "metadata": {},
   "outputs": [],
   "source": []
  },
  {
   "cell_type": "markdown",
   "metadata": {},
   "source": [
    "Tester regression logistique\n",
    "Pouvoir visualiser l'anomalie\n",
    "Tester lissage spline ou supprimer les niveaux de détails les plus fins en ondelettes\n"
   ]
  },
  {
   "cell_type": "code",
   "execution_count": null,
   "metadata": {},
   "outputs": [],
   "source": []
  }
 ],
 "metadata": {
  "kernelspec": {
   "display_name": "Python 3",
   "language": "python",
   "name": "python3"
  },
  "language_info": {
   "codemirror_mode": {
    "name": "ipython",
    "version": 3
   },
   "file_extension": ".py",
   "mimetype": "text/x-python",
   "name": "python",
   "nbconvert_exporter": "python",
   "pygments_lexer": "ipython3",
   "version": "3.6.5"
  }
 },
 "nbformat": 4,
 "nbformat_minor": 2
}
