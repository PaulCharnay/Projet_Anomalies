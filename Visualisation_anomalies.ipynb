{
 "cells": [
  {
   "cell_type": "markdown",
   "metadata": {},
   "source": [
    "# Visualisation des anomalies"
   ]
  },
  {
   "cell_type": "code",
   "execution_count": 1,
   "metadata": {},
   "outputs": [],
   "source": [
    "import pandas as pd\n",
    "import numpy as np\n",
    "import scipy.stats as sps\n",
    "\n",
    "# Plot et Display\n",
    "from IPython.display import display\n",
    "%matplotlib inline\n",
    "import matplotlib.pyplot as plt\n",
    "import seaborn as sns\n",
    "sns.set()\n",
    "sns.set_style(\"darkgrid\", {\"axes.facecolor\": \".9\"})\n",
    "\n",
    "# Scikit learn\n",
    "from sklearn import preprocessing\n",
    "from sklearn.model_selection import GridSearchCV\n",
    "from sklearn.model_selection import train_test_split  \n",
    "from sklearn.ensemble import RandomForestClassifier \n",
    "\n",
    "#Lecture des données \n",
    "import pickle"
   ]
  },
  {
   "cell_type": "code",
   "execution_count": 2,
   "metadata": {},
   "outputs": [],
   "source": [
    "#path_test = \"../../4A/Projet/Ensemble de test/\"\n",
    "path_test = \"../Donnees_projet/Ensemble_de_test/\""
   ]
  },
  {
   "cell_type": "code",
   "execution_count": 3,
   "metadata": {},
   "outputs": [],
   "source": [
    "with open('liste_propre', 'rb') as fichier:\n",
    "    mon_depickler = pickle.Unpickler(fichier)\n",
    "    liste_propre, ind_recupere = mon_depickler.load()"
   ]
  },
  {
   "cell_type": "code",
   "execution_count": 4,
   "metadata": {},
   "outputs": [],
   "source": [
    "n = len(liste_propre)\n",
    "liste_appr = list(np.asarray(liste_propre)[np.asarray(ind_recupere) <= 299])\n",
    "liste_test = list(np.asarray(liste_propre)[np.asarray(ind_recupere) > 299])\n",
    "n_appr = len(liste_appr)\n",
    "n_test = len(liste_test)"
   ]
  },
  {
   "cell_type": "code",
   "execution_count": 5,
   "metadata": {},
   "outputs": [],
   "source": [
    "anom = [False] * n_test\n",
    "type_anom = [-1] * n_test\n",
    "loc = [-1] * n_test\n",
    "\n",
    "anom[73] = True\n",
    "type_anom[73] = 1\n",
    "loc[73] = 200\n",
    "\n",
    "anom[96] = True\n",
    "type_anom[96] = 1\n",
    "loc[96] = 300\n",
    "\n",
    "anom[36] = True\n",
    "type_anom[36] = 1\n",
    "loc[36] = 400\n",
    "\n",
    "anom[32] = True\n",
    "type_anom[32] = 1\n",
    "loc[32] = 300\n",
    "\n",
    "anom[33] = True\n",
    "type_anom[33] = 1\n",
    "loc[33] = 200\n",
    "\n",
    "anom[107] = True\n",
    "type_anom[107] = 2\n",
    "loc[107] = 600\n",
    "\n",
    "anom[60] = True\n",
    "type_anom[60] = 2\n",
    "loc[60] = 400\n",
    "\n",
    "anom[113] = True\n",
    "type_anom[113] = 2\n",
    "loc[113] = 400\n",
    "\n",
    "anom[9] = True\n",
    "type_anom[9] = 2\n",
    "loc[9] = 200\n",
    "\n",
    "anom[11] = True\n",
    "type_anom[11] = 2\n",
    "loc[11] = 300\n",
    "\n",
    "anom[53] = True\n",
    "type_anom[53] = 3\n",
    "loc[53] = 400\n",
    "\n",
    "anom[114] = True\n",
    "type_anom[114] = 3\n",
    "loc[114] = 400\n",
    "\n",
    "anom[14] = True\n",
    "type_anom[14] = 3\n",
    "loc[14] = 500\n",
    "\n",
    "anom[79] = True\n",
    "type_anom[79] = 3\n",
    "loc[79] = 400\n",
    "\n",
    "anom[29] = True\n",
    "type_anom[29] = 3\n",
    "loc[29] = 300\n",
    "\n",
    "anom[27] = True\n",
    "type_anom[27] = 4\n",
    "loc[27] = 300\n",
    "\n",
    "anom[121] = True\n",
    "type_anom[121] = 4\n",
    "loc[121] = 300\n",
    "\n",
    "anom[5] = True\n",
    "type_anom[5] = 4\n",
    "loc[5] = 400\n",
    "\n",
    "anom[89] = True\n",
    "type_anom[89] = 4\n",
    "loc[89] = 200\n",
    "\n",
    "anom[99] = True\n",
    "type_anom[99] = 4\n",
    "loc[99] = 100  \n",
    "\n",
    "anom = [False] * n_appr + anom\n",
    "type_anom = [-1] * n_appr + type_anom\n",
    "loc = [-1] * n_appr + loc"
   ]
  },
  {
   "cell_type": "code",
   "execution_count": 6,
   "metadata": {},
   "outputs": [],
   "source": [
    "ind_anom = list(np.where(np.asarray(anom))[0]) # Indices des anomalies"
   ]
  },
  {
   "cell_type": "code",
   "execution_count": 7,
   "metadata": {},
   "outputs": [],
   "source": [
    "def df_fenetres(liste_comp, N, anom, loc):\n",
    "    serie = []\n",
    "    #origine = []\n",
    "    ind_debut = []\n",
    "    valeurs = []\n",
    "    anom_fen = []\n",
    "    for i, val, loc_i in zip(ind_recupere, liste_comp, loc):\n",
    "        # Liste des fenêtres de l'enregistrement\n",
    "        fenetres = [val[i * N:(i + 1) * N] for i in range((len(val) + N - 1) // N ) if len(val[i * N:(i + 1) * N]) == N]\n",
    "        nb_fen = len(fenetres)\n",
    "        valeurs += fenetres\n",
    "        anom_fen_i = [False] * nb_fen\n",
    "        pos_anom_deb_fen = loc_i // N\n",
    "        pos_anom_fin_fen = (loc_i + 55) // N\n",
    "        if loc_i > -1:\n",
    "            try:\n",
    "                for pos in range(pos_anom_deb_fen, pos_anom_fin_fen + 1):\n",
    "                    anom_fen_i[pos] = True\n",
    "\n",
    "            except IndexError:\n",
    "                pass\n",
    "                \"\"\"Cette erreur est levée lorsque l'anomalie se trouve en fin de série, dans une plage qui n'a pas été capturée \n",
    "                par une des fenêtres. On peut donc l'ignorer et continuer le traitement. Ce cas est de toute façon très rare\n",
    "                dans nos données.\"\"\"\n",
    "        anom_fen += anom_fen_i\n",
    "        ind_debut += list(range(0, nb_fen * N, N))\n",
    "        serie += [i] * nb_fen\n",
    "        \"\"\"if i < 300:\n",
    "            origine += [\"appr\"] * nb_fen\n",
    "        else:\n",
    "            origine += [\"test\"] * nb_fen\"\"\"\n",
    "        \n",
    "    \n",
    "    df = pd.DataFrame(data={\"id\" : list(range(len(serie))), \"serie\" : serie, \"ind_debut\" : ind_debut, \"valeurs\" : valeurs, \"anom\" : anom_fen})\n",
    "        \n",
    "    return df.set_index([\"id\"])"
   ]
  },
  {
   "cell_type": "code",
   "execution_count": 8,
   "metadata": {},
   "outputs": [],
   "source": [
    "N = 100\n",
    "data_fenetres = df_fenetres(liste_propre, N, anom, loc)"
   ]
  },
  {
   "cell_type": "code",
   "execution_count": 9,
   "metadata": {},
   "outputs": [],
   "source": [
    "ind_anom = list(data_fenetres[data_fenetres[\"anom\"]][\"serie\"].values)"
   ]
  },
  {
   "cell_type": "code",
   "execution_count": 10,
   "metadata": {
    "scrolled": true
   },
   "outputs": [
    {
     "data": {
      "text/html": [
       "<div>\n",
       "<style scoped>\n",
       "    .dataframe tbody tr th:only-of-type {\n",
       "        vertical-align: middle;\n",
       "    }\n",
       "\n",
       "    .dataframe tbody tr th {\n",
       "        vertical-align: top;\n",
       "    }\n",
       "\n",
       "    .dataframe thead th {\n",
       "        text-align: right;\n",
       "    }\n",
       "</style>\n",
       "<table border=\"1\" class=\"dataframe\">\n",
       "  <thead>\n",
       "    <tr style=\"text-align: right;\">\n",
       "      <th></th>\n",
       "      <th>anom</th>\n",
       "      <th>ind_debut</th>\n",
       "      <th>serie</th>\n",
       "      <th>valeurs</th>\n",
       "    </tr>\n",
       "  </thead>\n",
       "  <tbody>\n",
       "    <tr>\n",
       "      <th>42402</th>\n",
       "      <td>False</td>\n",
       "      <td>0</td>\n",
       "      <td>373</td>\n",
       "      <td>[1432.0, 1432.0, 1432.0, 1440.0, 1448.0, 1448....</td>\n",
       "    </tr>\n",
       "    <tr>\n",
       "      <th>42403</th>\n",
       "      <td>False</td>\n",
       "      <td>100</td>\n",
       "      <td>373</td>\n",
       "      <td>[1664.0, 1680.0, 1680.0, 1680.0, 1680.0, 1680....</td>\n",
       "    </tr>\n",
       "    <tr>\n",
       "      <th>42404</th>\n",
       "      <td>True</td>\n",
       "      <td>200</td>\n",
       "      <td>373</td>\n",
       "      <td>[1678.0, 1686.0, 1678.0, 1678.0, 1662.0, 1678....</td>\n",
       "    </tr>\n",
       "    <tr>\n",
       "      <th>42405</th>\n",
       "      <td>False</td>\n",
       "      <td>300</td>\n",
       "      <td>373</td>\n",
       "      <td>[1728.0, 1736.0, 1744.0, 1744.0, 1744.0, 1736....</td>\n",
       "    </tr>\n",
       "    <tr>\n",
       "      <th>42406</th>\n",
       "      <td>False</td>\n",
       "      <td>400</td>\n",
       "      <td>373</td>\n",
       "      <td>[1400.0, 1400.0, 1400.0, 1400.0, 1400.0, 1408....</td>\n",
       "    </tr>\n",
       "    <tr>\n",
       "      <th>42452</th>\n",
       "      <td>False</td>\n",
       "      <td>0</td>\n",
       "      <td>379</td>\n",
       "      <td>[1408.0, 1408.0, 1408.0, 1416.0, 1408.0, 1400....</td>\n",
       "    </tr>\n",
       "    <tr>\n",
       "      <th>42453</th>\n",
       "      <td>False</td>\n",
       "      <td>100</td>\n",
       "      <td>379</td>\n",
       "      <td>[1696.0, 1696.0, 1704.0, 1704.0, 1704.0, 1696....</td>\n",
       "    </tr>\n",
       "    <tr>\n",
       "      <th>42454</th>\n",
       "      <td>False</td>\n",
       "      <td>200</td>\n",
       "      <td>379</td>\n",
       "      <td>[1744.0, 1744.0, 1736.0, 1736.0, 1736.0, 1744....</td>\n",
       "    </tr>\n",
       "    <tr>\n",
       "      <th>42455</th>\n",
       "      <td>False</td>\n",
       "      <td>300</td>\n",
       "      <td>379</td>\n",
       "      <td>[1736.0, 1736.0, 1736.0, 1736.0, 1736.0, 1744....</td>\n",
       "    </tr>\n",
       "    <tr>\n",
       "      <th>42456</th>\n",
       "      <td>True</td>\n",
       "      <td>400</td>\n",
       "      <td>379</td>\n",
       "      <td>[1790.0, 1782.0, 1774.0, 1750.0, 1742.0, 1734....</td>\n",
       "    </tr>\n",
       "    <tr>\n",
       "      <th>42507</th>\n",
       "      <td>False</td>\n",
       "      <td>0</td>\n",
       "      <td>389</td>\n",
       "      <td>[1408.0, 1408.0, 1416.0, 1416.0, 1408.0, 1392....</td>\n",
       "    </tr>\n",
       "    <tr>\n",
       "      <th>42508</th>\n",
       "      <td>False</td>\n",
       "      <td>100</td>\n",
       "      <td>389</td>\n",
       "      <td>[1736.0, 1736.0, 1744.0, 1744.0, 1744.0, 1736....</td>\n",
       "    </tr>\n",
       "    <tr>\n",
       "      <th>42509</th>\n",
       "      <td>True</td>\n",
       "      <td>200</td>\n",
       "      <td>389</td>\n",
       "      <td>[1250.0, 1234.0, 1234.0, 1258.0, 1258.0, 1274....</td>\n",
       "    </tr>\n",
       "    <tr>\n",
       "      <th>42510</th>\n",
       "      <td>False</td>\n",
       "      <td>300</td>\n",
       "      <td>389</td>\n",
       "      <td>[3040.0, 2848.0, 2848.0, 2832.0, 2808.0, 2784....</td>\n",
       "    </tr>\n",
       "    <tr>\n",
       "      <th>42511</th>\n",
       "      <td>False</td>\n",
       "      <td>400</td>\n",
       "      <td>389</td>\n",
       "      <td>[1728.0, 1720.0, 1720.0, 1720.0, 1720.0, 1712....</td>\n",
       "    </tr>\n",
       "    <tr>\n",
       "      <th>42561</th>\n",
       "      <td>False</td>\n",
       "      <td>0</td>\n",
       "      <td>396</td>\n",
       "      <td>[1400.0, 1400.0, 1408.0, 1408.0, 1424.0, 1424....</td>\n",
       "    </tr>\n",
       "    <tr>\n",
       "      <th>42562</th>\n",
       "      <td>False</td>\n",
       "      <td>100</td>\n",
       "      <td>396</td>\n",
       "      <td>[1720.0, 1720.0, 1736.0, 1736.0, 1736.0, 1728....</td>\n",
       "    </tr>\n",
       "    <tr>\n",
       "      <th>42563</th>\n",
       "      <td>False</td>\n",
       "      <td>200</td>\n",
       "      <td>396</td>\n",
       "      <td>[1736.0, 1744.0, 1736.0, 1736.0, 1736.0, 1736....</td>\n",
       "    </tr>\n",
       "    <tr>\n",
       "      <th>42564</th>\n",
       "      <td>True</td>\n",
       "      <td>300</td>\n",
       "      <td>396</td>\n",
       "      <td>[1678.0, 1686.0, 1678.0, 1678.0, 1662.0, 1678....</td>\n",
       "    </tr>\n",
       "    <tr>\n",
       "      <th>42565</th>\n",
       "      <td>False</td>\n",
       "      <td>400</td>\n",
       "      <td>396</td>\n",
       "      <td>[1712.0, 1704.0, 1696.0, 1688.0, 1688.0, 1680....</td>\n",
       "    </tr>\n",
       "    <tr>\n",
       "      <th>42566</th>\n",
       "      <td>False</td>\n",
       "      <td>500</td>\n",
       "      <td>396</td>\n",
       "      <td>[1400.0, 1400.0, 1400.0, 1400.0, 1400.0, 1392....</td>\n",
       "    </tr>\n",
       "    <tr>\n",
       "      <th>42575</th>\n",
       "      <td>False</td>\n",
       "      <td>0</td>\n",
       "      <td>399</td>\n",
       "      <td>[1456.0, 1456.0, 1456.0, 1456.0, 1456.0, 1448....</td>\n",
       "    </tr>\n",
       "    <tr>\n",
       "      <th>42576</th>\n",
       "      <td>True</td>\n",
       "      <td>100</td>\n",
       "      <td>399</td>\n",
       "      <td>[1250.0, 1234.0, 1234.0, 1258.0, 1258.0, 1274....</td>\n",
       "    </tr>\n",
       "    <tr>\n",
       "      <th>42577</th>\n",
       "      <td>False</td>\n",
       "      <td>200</td>\n",
       "      <td>399</td>\n",
       "      <td>[1656.0, 1656.0, 1656.0, 1664.0, 1656.0, 1656....</td>\n",
       "    </tr>\n",
       "    <tr>\n",
       "      <th>42578</th>\n",
       "      <td>False</td>\n",
       "      <td>300</td>\n",
       "      <td>399</td>\n",
       "      <td>[2728.0, 2816.0, 2824.0, 2800.0, 2784.0, 2760....</td>\n",
       "    </tr>\n",
       "    <tr>\n",
       "      <th>42579</th>\n",
       "      <td>False</td>\n",
       "      <td>400</td>\n",
       "      <td>399</td>\n",
       "      <td>[1536.0, 1536.0, 1544.0, 1544.0, 1544.0, 1544....</td>\n",
       "    </tr>\n",
       "    <tr>\n",
       "      <th>42580</th>\n",
       "      <td>False</td>\n",
       "      <td>500</td>\n",
       "      <td>399</td>\n",
       "      <td>[1536.0, 1544.0, 1552.0, 1544.0, 1544.0, 1552....</td>\n",
       "    </tr>\n",
       "    <tr>\n",
       "      <th>42642</th>\n",
       "      <td>False</td>\n",
       "      <td>0</td>\n",
       "      <td>407</td>\n",
       "      <td>[1464.0, 1464.0, 1456.0, 1456.0, 1456.0, 1456....</td>\n",
       "    </tr>\n",
       "    <tr>\n",
       "      <th>42643</th>\n",
       "      <td>False</td>\n",
       "      <td>100</td>\n",
       "      <td>407</td>\n",
       "      <td>[1680.0, 1680.0, 1680.0, 1672.0, 1672.0, 1672....</td>\n",
       "    </tr>\n",
       "    <tr>\n",
       "      <th>42644</th>\n",
       "      <td>False</td>\n",
       "      <td>200</td>\n",
       "      <td>407</td>\n",
       "      <td>[1616.0, 1624.0, 1632.0, 1624.0, 1624.0, 1632....</td>\n",
       "    </tr>\n",
       "    <tr>\n",
       "      <th>42645</th>\n",
       "      <td>False</td>\n",
       "      <td>300</td>\n",
       "      <td>407</td>\n",
       "      <td>[1784.0, 1784.0, 1784.0, 1784.0, 1784.0, 1792....</td>\n",
       "    </tr>\n",
       "    <tr>\n",
       "      <th>42646</th>\n",
       "      <td>False</td>\n",
       "      <td>400</td>\n",
       "      <td>407</td>\n",
       "      <td>[1616.0, 1616.0, 1616.0, 1616.0, 1616.0, 1624....</td>\n",
       "    </tr>\n",
       "    <tr>\n",
       "      <th>42647</th>\n",
       "      <td>False</td>\n",
       "      <td>500</td>\n",
       "      <td>407</td>\n",
       "      <td>[1568.0, 1576.0, 1576.0, 1568.0, 1568.0, 1568....</td>\n",
       "    </tr>\n",
       "    <tr>\n",
       "      <th>42648</th>\n",
       "      <td>True</td>\n",
       "      <td>600</td>\n",
       "      <td>407</td>\n",
       "      <td>[1512.0, 1512.0, 1520.0, 1536.0, 1536.0, 1544....</td>\n",
       "    </tr>\n",
       "    <tr>\n",
       "      <th>42677</th>\n",
       "      <td>False</td>\n",
       "      <td>0</td>\n",
       "      <td>413</td>\n",
       "      <td>[1400.0, 1400.0, 1400.0, 1400.0, 1384.0, 1384....</td>\n",
       "    </tr>\n",
       "    <tr>\n",
       "      <th>42678</th>\n",
       "      <td>False</td>\n",
       "      <td>100</td>\n",
       "      <td>413</td>\n",
       "      <td>[1608.0, 1600.0, 1600.0, 1592.0, 1600.0, 1608....</td>\n",
       "    </tr>\n",
       "    <tr>\n",
       "      <th>42679</th>\n",
       "      <td>False</td>\n",
       "      <td>200</td>\n",
       "      <td>413</td>\n",
       "      <td>[1608.0, 1616.0, 1624.0, 1640.0, 1648.0, 1648....</td>\n",
       "    </tr>\n",
       "    <tr>\n",
       "      <th>42680</th>\n",
       "      <td>False</td>\n",
       "      <td>300</td>\n",
       "      <td>413</td>\n",
       "      <td>[1520.0, 1528.0, 1536.0, 1552.0, 1568.0, 1600....</td>\n",
       "    </tr>\n",
       "    <tr>\n",
       "      <th>42681</th>\n",
       "      <td>True</td>\n",
       "      <td>400</td>\n",
       "      <td>413</td>\n",
       "      <td>[1674.0, 1682.0, 1682.0, 1698.0, 1698.0, 1698....</td>\n",
       "    </tr>\n",
       "    <tr>\n",
       "      <th>42682</th>\n",
       "      <td>False</td>\n",
       "      <td>500</td>\n",
       "      <td>413</td>\n",
       "      <td>[1712.0, 1712.0, 1720.0, 1712.0, 1712.0, 1712....</td>\n",
       "    </tr>\n",
       "    <tr>\n",
       "      <th>42683</th>\n",
       "      <td>False</td>\n",
       "      <td>0</td>\n",
       "      <td>414</td>\n",
       "      <td>[1400.0, 1400.0, 1392.0, 1392.0, 1392.0, 1400....</td>\n",
       "    </tr>\n",
       "    <tr>\n",
       "      <th>42684</th>\n",
       "      <td>False</td>\n",
       "      <td>100</td>\n",
       "      <td>414</td>\n",
       "      <td>[1824.0, 1824.0, 1816.0, 1816.0, 1808.0, 1800....</td>\n",
       "    </tr>\n",
       "    <tr>\n",
       "      <th>42685</th>\n",
       "      <td>False</td>\n",
       "      <td>200</td>\n",
       "      <td>414</td>\n",
       "      <td>[1784.0, 1776.0, 1776.0, 1784.0, 1792.0, 1792....</td>\n",
       "    </tr>\n",
       "    <tr>\n",
       "      <th>42686</th>\n",
       "      <td>False</td>\n",
       "      <td>300</td>\n",
       "      <td>414</td>\n",
       "      <td>[1800.0, 1792.0, 1792.0, 1784.0, 1792.0, 1792....</td>\n",
       "    </tr>\n",
       "    <tr>\n",
       "      <th>42687</th>\n",
       "      <td>True</td>\n",
       "      <td>400</td>\n",
       "      <td>414</td>\n",
       "      <td>[1790.0, 1782.0, 1774.0, 1750.0, 1742.0, 1734....</td>\n",
       "    </tr>\n",
       "    <tr>\n",
       "      <th>42736</th>\n",
       "      <td>False</td>\n",
       "      <td>0</td>\n",
       "      <td>421</td>\n",
       "      <td>[1416.0, 1400.0, 1400.0, 1408.0, 1408.0, 1408....</td>\n",
       "    </tr>\n",
       "    <tr>\n",
       "      <th>42737</th>\n",
       "      <td>False</td>\n",
       "      <td>100</td>\n",
       "      <td>421</td>\n",
       "      <td>[1608.0, 1608.0, 1616.0, 1608.0, 1608.0, 1608....</td>\n",
       "    </tr>\n",
       "    <tr>\n",
       "      <th>42738</th>\n",
       "      <td>False</td>\n",
       "      <td>200</td>\n",
       "      <td>421</td>\n",
       "      <td>[1728.0, 1728.0, 1744.0, 1736.0, 1728.0, 1720....</td>\n",
       "    </tr>\n",
       "    <tr>\n",
       "      <th>42739</th>\n",
       "      <td>True</td>\n",
       "      <td>300</td>\n",
       "      <td>421</td>\n",
       "      <td>[1250.0, 1234.0, 1234.0, 1258.0, 1258.0, 1274....</td>\n",
       "    </tr>\n",
       "    <tr>\n",
       "      <th>42740</th>\n",
       "      <td>False</td>\n",
       "      <td>400</td>\n",
       "      <td>421</td>\n",
       "      <td>[1728.0, 1728.0, 1728.0, 1728.0, 1728.0, 1728....</td>\n",
       "    </tr>\n",
       "  </tbody>\n",
       "</table>\n",
       "</div>"
      ],
      "text/plain": [
       "        anom  ind_debut  serie  \\\n",
       "42402  False          0    373   \n",
       "42403  False        100    373   \n",
       "42404   True        200    373   \n",
       "42405  False        300    373   \n",
       "42406  False        400    373   \n",
       "42452  False          0    379   \n",
       "42453  False        100    379   \n",
       "42454  False        200    379   \n",
       "42455  False        300    379   \n",
       "42456   True        400    379   \n",
       "42507  False          0    389   \n",
       "42508  False        100    389   \n",
       "42509   True        200    389   \n",
       "42510  False        300    389   \n",
       "42511  False        400    389   \n",
       "42561  False          0    396   \n",
       "42562  False        100    396   \n",
       "42563  False        200    396   \n",
       "42564   True        300    396   \n",
       "42565  False        400    396   \n",
       "42566  False        500    396   \n",
       "42575  False          0    399   \n",
       "42576   True        100    399   \n",
       "42577  False        200    399   \n",
       "42578  False        300    399   \n",
       "42579  False        400    399   \n",
       "42580  False        500    399   \n",
       "42642  False          0    407   \n",
       "42643  False        100    407   \n",
       "42644  False        200    407   \n",
       "42645  False        300    407   \n",
       "42646  False        400    407   \n",
       "42647  False        500    407   \n",
       "42648   True        600    407   \n",
       "42677  False          0    413   \n",
       "42678  False        100    413   \n",
       "42679  False        200    413   \n",
       "42680  False        300    413   \n",
       "42681   True        400    413   \n",
       "42682  False        500    413   \n",
       "42683  False          0    414   \n",
       "42684  False        100    414   \n",
       "42685  False        200    414   \n",
       "42686  False        300    414   \n",
       "42687   True        400    414   \n",
       "42736  False          0    421   \n",
       "42737  False        100    421   \n",
       "42738  False        200    421   \n",
       "42739   True        300    421   \n",
       "42740  False        400    421   \n",
       "\n",
       "                                                 valeurs  \n",
       "42402  [1432.0, 1432.0, 1432.0, 1440.0, 1448.0, 1448....  \n",
       "42403  [1664.0, 1680.0, 1680.0, 1680.0, 1680.0, 1680....  \n",
       "42404  [1678.0, 1686.0, 1678.0, 1678.0, 1662.0, 1678....  \n",
       "42405  [1728.0, 1736.0, 1744.0, 1744.0, 1744.0, 1736....  \n",
       "42406  [1400.0, 1400.0, 1400.0, 1400.0, 1400.0, 1408....  \n",
       "42452  [1408.0, 1408.0, 1408.0, 1416.0, 1408.0, 1400....  \n",
       "42453  [1696.0, 1696.0, 1704.0, 1704.0, 1704.0, 1696....  \n",
       "42454  [1744.0, 1744.0, 1736.0, 1736.0, 1736.0, 1744....  \n",
       "42455  [1736.0, 1736.0, 1736.0, 1736.0, 1736.0, 1744....  \n",
       "42456  [1790.0, 1782.0, 1774.0, 1750.0, 1742.0, 1734....  \n",
       "42507  [1408.0, 1408.0, 1416.0, 1416.0, 1408.0, 1392....  \n",
       "42508  [1736.0, 1736.0, 1744.0, 1744.0, 1744.0, 1736....  \n",
       "42509  [1250.0, 1234.0, 1234.0, 1258.0, 1258.0, 1274....  \n",
       "42510  [3040.0, 2848.0, 2848.0, 2832.0, 2808.0, 2784....  \n",
       "42511  [1728.0, 1720.0, 1720.0, 1720.0, 1720.0, 1712....  \n",
       "42561  [1400.0, 1400.0, 1408.0, 1408.0, 1424.0, 1424....  \n",
       "42562  [1720.0, 1720.0, 1736.0, 1736.0, 1736.0, 1728....  \n",
       "42563  [1736.0, 1744.0, 1736.0, 1736.0, 1736.0, 1736....  \n",
       "42564  [1678.0, 1686.0, 1678.0, 1678.0, 1662.0, 1678....  \n",
       "42565  [1712.0, 1704.0, 1696.0, 1688.0, 1688.0, 1680....  \n",
       "42566  [1400.0, 1400.0, 1400.0, 1400.0, 1400.0, 1392....  \n",
       "42575  [1456.0, 1456.0, 1456.0, 1456.0, 1456.0, 1448....  \n",
       "42576  [1250.0, 1234.0, 1234.0, 1258.0, 1258.0, 1274....  \n",
       "42577  [1656.0, 1656.0, 1656.0, 1664.0, 1656.0, 1656....  \n",
       "42578  [2728.0, 2816.0, 2824.0, 2800.0, 2784.0, 2760....  \n",
       "42579  [1536.0, 1536.0, 1544.0, 1544.0, 1544.0, 1544....  \n",
       "42580  [1536.0, 1544.0, 1552.0, 1544.0, 1544.0, 1552....  \n",
       "42642  [1464.0, 1464.0, 1456.0, 1456.0, 1456.0, 1456....  \n",
       "42643  [1680.0, 1680.0, 1680.0, 1672.0, 1672.0, 1672....  \n",
       "42644  [1616.0, 1624.0, 1632.0, 1624.0, 1624.0, 1632....  \n",
       "42645  [1784.0, 1784.0, 1784.0, 1784.0, 1784.0, 1792....  \n",
       "42646  [1616.0, 1616.0, 1616.0, 1616.0, 1616.0, 1624....  \n",
       "42647  [1568.0, 1576.0, 1576.0, 1568.0, 1568.0, 1568....  \n",
       "42648  [1512.0, 1512.0, 1520.0, 1536.0, 1536.0, 1544....  \n",
       "42677  [1400.0, 1400.0, 1400.0, 1400.0, 1384.0, 1384....  \n",
       "42678  [1608.0, 1600.0, 1600.0, 1592.0, 1600.0, 1608....  \n",
       "42679  [1608.0, 1616.0, 1624.0, 1640.0, 1648.0, 1648....  \n",
       "42680  [1520.0, 1528.0, 1536.0, 1552.0, 1568.0, 1600....  \n",
       "42681  [1674.0, 1682.0, 1682.0, 1698.0, 1698.0, 1698....  \n",
       "42682  [1712.0, 1712.0, 1720.0, 1712.0, 1712.0, 1712....  \n",
       "42683  [1400.0, 1400.0, 1392.0, 1392.0, 1392.0, 1400....  \n",
       "42684  [1824.0, 1824.0, 1816.0, 1816.0, 1808.0, 1800....  \n",
       "42685  [1784.0, 1776.0, 1776.0, 1784.0, 1792.0, 1792....  \n",
       "42686  [1800.0, 1792.0, 1792.0, 1784.0, 1792.0, 1792....  \n",
       "42687  [1790.0, 1782.0, 1774.0, 1750.0, 1742.0, 1734....  \n",
       "42736  [1416.0, 1400.0, 1400.0, 1408.0, 1408.0, 1408....  \n",
       "42737  [1608.0, 1608.0, 1616.0, 1608.0, 1608.0, 1608....  \n",
       "42738  [1728.0, 1728.0, 1744.0, 1736.0, 1728.0, 1720....  \n",
       "42739  [1250.0, 1234.0, 1234.0, 1258.0, 1258.0, 1274....  \n",
       "42740  [1728.0, 1728.0, 1728.0, 1728.0, 1728.0, 1728....  "
      ]
     },
     "execution_count": 10,
     "metadata": {},
     "output_type": "execute_result"
    }
   ],
   "source": [
    "# Toutes les fenetres des séries contenant une anomalie\n",
    "data_ajout_anom = data_fenetres.loc[data_fenetres[\"serie\"].isin(ind_anom)] \n",
    "# On met un indice d'une grande puisance de 10 pour identifier plus facilement les fenetres ajoutees\n",
    "offset = 10 ** (int(np.log10(data_fenetres.index.values[-1])) + 1)\n",
    "\n",
    "df_supervise = data_fenetres\n",
    "for i in range(1,5):\n",
    "    data_ajout_anom.index += offset\n",
    "    df_supervise = pd.concat([df_supervise, data_ajout_anom])\n",
    "    \n",
    "# df_supervise contient les données d'apprentissage + les données de tests + les séries anormales recopiées 4 fois\n",
    "# les séries recopiées ont pour indice leur indice de départ + k*offset pour k=1,..,4\n",
    "df_supervise.tail(50)"
   ]
  },
  {
   "cell_type": "code",
   "execution_count": 11,
   "metadata": {},
   "outputs": [],
   "source": [
    "def plot_anom_type(Type):\n",
    "    for num in df_supervise.index.values:\n",
    "        TS = df_supervise.loc[num]\n",
    "        loc = TS[\"loc\"]\n",
    "        serie = TS[\"valeurs\"]\n",
    "\n",
    "        if TS[\"type\"] == Type: \n",
    "            fig, ax = plt.subplots(figsize=(12, 7))\n",
    "            plt.title(\"Série numéro \" + str(num) + \", type \" + str(Type), size=20, color='r', fontweight='bold')\n",
    "\n",
    "            ax.plot(range(loc), serie[: loc], 'b')\n",
    "            ax.plot(range(loc - 1, loc + 56), serie[loc - 1 : loc + 56], 'r')\n",
    "            ax.plot(range(loc + 55, len(serie)), serie[loc + 55 :], 'b')\n",
    "\n",
    "        plt.show()"
   ]
  },
  {
   "cell_type": "code",
   "execution_count": 12,
   "metadata": {
    "scrolled": true
   },
   "outputs": [
    {
     "name": "stdout",
     "output_type": "stream",
     "text": [
      "Marche plus avec le nouveau DataFrame, à adapter si besoin.\n"
     ]
    }
   ],
   "source": [
    "try:\n",
    "    for T in range(1, 5):\n",
    "        plot_anom_type(T)\n",
    "except KeyError:\n",
    "    print(\"Marche plus avec le nouveau DataFrame, à adapter si besoin.\")"
   ]
  },
  {
   "cell_type": "markdown",
   "metadata": {},
   "source": [
    "## Méthodes de Classification"
   ]
  },
  {
   "cell_type": "markdown",
   "metadata": {},
   "source": [
    "## Random Forest\n",
    "\n",
    "### Calcul des features"
   ]
  },
  {
   "cell_type": "code",
   "execution_count": 13,
   "metadata": {},
   "outputs": [],
   "source": [
    "df_supervise[\"min\"] = list(map(min, df_supervise.valeurs))\n",
    "df_supervise[\"max\"] = list(map(max, df_supervise.valeurs))\n",
    "df_supervise[\"mean\"] = list(map(np.mean, df_supervise.valeurs))\n",
    "df_supervise[\"std\"] = list(map(np.std, df_supervise.valeurs))\n",
    "df_supervise[\"skew\"] = list(map(sps.skew, df_supervise.valeurs))\n",
    "df_supervise[\"kurt\"] = list(map(sps.kurtosis, df_supervise.valeurs))\n",
    "df_supervise[\"energy\"] = list(map(lambda x : sum(np.asarray(x)**2)/len(x), df_supervise.valeurs))\n",
    "df_supervise[\"average_cross\"] = list(map(lambda x : sum(1*(x > np.mean(x)))/len(x), df_supervise.valeurs))"
   ]
  },
  {
   "cell_type": "code",
   "execution_count": 14,
   "metadata": {},
   "outputs": [],
   "source": [
    "scaler = preprocessing.StandardScaler()\n",
    "names_features = [\"min\", \"max\", \"mean\", \"std\", \"skew\", \"kurt\", \"energy\", \"average_cross\"]\n",
    "for col in names_features:\n",
    "    df_supervise[col] = scaler.fit_transform(df_supervise[col].values.reshape(-1, 1))"
   ]
  },
  {
   "cell_type": "code",
   "execution_count": 15,
   "metadata": {},
   "outputs": [
    {
     "data": {
      "text/plain": [
       "(3254, 12)"
      ]
     },
     "execution_count": 15,
     "metadata": {},
     "output_type": "execute_result"
    }
   ],
   "source": [
    "df_supervise.shape"
   ]
  },
  {
   "cell_type": "code",
   "execution_count": 16,
   "metadata": {},
   "outputs": [],
   "source": [
    "X_train, X_test, Y_train, Y_test = train_test_split(df_supervise[names_features], df_supervise[\"anom\"], test_size=2500)"
   ]
  },
  {
   "cell_type": "code",
   "execution_count": 17,
   "metadata": {},
   "outputs": [
    {
     "name": "stdout",
     "output_type": "stream",
     "text": [
      "0.01326259946949604\n"
     ]
    }
   ],
   "source": [
    "# définition des paramètres\n",
    "forest = RandomForestClassifier(n_estimators=500, criterion='gini', max_depth=None, min_samples_split=2, min_samples_leaf=1, max_features='auto', max_leaf_nodes=None, bootstrap=True, oob_score=True)\n",
    "# apprentissage\n",
    "rfFit = forest.fit(X_train,Y_train)\n",
    "print(1-rfFit.oob_score_)\n"
   ]
  },
  {
   "cell_type": "code",
   "execution_count": 18,
   "metadata": {},
   "outputs": [
    {
     "data": {
      "text/plain": [
       "0.010399999999999965"
      ]
     },
     "execution_count": 18,
     "metadata": {},
     "output_type": "execute_result"
    }
   ],
   "source": [
    "# erreur de prévision sur le test\n",
    "1-rfFit.score(X_test,Y_test)"
   ]
  },
  {
   "cell_type": "code",
   "execution_count": 19,
   "metadata": {},
   "outputs": [
    {
     "name": "stdout",
     "output_type": "stream",
     "text": [
      "Meilleur score = 0.013263, Meilleur paramètre = {'max_features': 2}\n"
     ]
    }
   ],
   "source": [
    "param = [{\"max_features\" : list(range(2, len(names_features) + 1))}]\n",
    "rf = GridSearchCV(RandomForestClassifier(n_estimators=500), param, cv=5, n_jobs=-1)\n",
    "rfOpt = rf.fit(X_train, Y_train)\n",
    "# paramètre optimal\n",
    "print(\"Meilleur score = %f, Meilleur paramètre = %s\" % (1. - rfOpt.best_score_,rfOpt.best_params_))"
   ]
  },
  {
   "cell_type": "code",
   "execution_count": 20,
   "metadata": {},
   "outputs": [
    {
     "data": {
      "text/plain": [
       "0.008399999999999963"
      ]
     },
     "execution_count": 20,
     "metadata": {},
     "output_type": "execute_result"
    }
   ],
   "source": [
    "# erreur de prévision sur le test\n",
    "1 - rfOpt.score(X_test,Y_test)"
   ]
  },
  {
   "cell_type": "code",
   "execution_count": 21,
   "metadata": {},
   "outputs": [
    {
     "data": {
      "image/png": "[encoded data removed]",
      "text/plain": [
       "<Figure size 1152x360 with 4 Axes>"
      ]
     },
     "metadata": {},
     "output_type": "display_data"
    }
   ],
   "source": [
    "# prévision\n",
    "y_chap = rfFit.predict(X_test)\n",
    "# matrice de confusion\n",
    "# Options pour normalize : all, index, column\n",
    "table_norm_index = pd.crosstab(y_chap, Y_test, rownames=[\"Prédiction\"], colnames=[\"Vraie valeur\"], normalize=\"index\") # margins=True, margins_name=\"Total\")\n",
    "table_norm_col = pd.crosstab(y_chap, Y_test, rownames=[\"Prédiction\"], colnames=[\"Vraie valeur\"], normalize=\"columns\")\n",
    "sns.set(font_scale=1.4)#for label size\n",
    "fig, ax = plt.subplots(nrows=1, ncols=2, figsize=(16, 5))\n",
    "sns.heatmap(table_norm_index, annot=True, cmap=\"Blues\", ax=ax[0], annot_kws={\"size\": 16}) # font size\n",
    "ax[0].set_title(\"Matrice de confusion normalisée \\n selon les lignes\")\n",
    "sns.heatmap(table_norm_col, annot=True, cmap=\"Blues\", ax=ax[1], annot_kws={\"size\": 16}) # font size\n",
    "ax[1].set_title(\"Matrice de confusion normalisée \\n selon les colonnes\")\n",
    "plt.show()"
   ]
  },
  {
   "cell_type": "markdown",
   "metadata": {},
   "source": [
    "Commentaire : 1,2% d'erreurs, c'est très faible mais si on regarde la matrice de confusion on voit que la prévision n'est en fait pas si efficace. En effet on observe beaucoup de faux négatifs, envion un tiers. On a pas contre quasi aucun faux positif.\n",
    "\n",
    "On teste la même chose mais sans dupliquer les anomalies."
   ]
  },
  {
   "cell_type": "code",
   "execution_count": 22,
   "metadata": {},
   "outputs": [],
   "source": [
    "data_fenetres[\"min\"] = list(map(min, data_fenetres.valeurs))\n",
    "data_fenetres[\"max\"] = list(map(max, data_fenetres.valeurs))\n",
    "data_fenetres[\"mean\"] = list(map(np.mean, data_fenetres.valeurs))\n",
    "data_fenetres[\"std\"] = list(map(np.std, data_fenetres.valeurs))\n",
    "data_fenetres[\"skew\"] = list(map(sps.skew, data_fenetres.valeurs))\n",
    "data_fenetres[\"kurt\"] = list(map(sps.kurtosis, data_fenetres.valeurs))\n",
    "data_fenetres[\"energy\"] = list(map(lambda x : sum(np.asarray(x)**2)/len(x), data_fenetres.valeurs))\n",
    "data_fenetres[\"average_cross\"] = list(map(lambda x : sum(1*(x > np.mean(x)))/len(x), data_fenetres.valeurs))"
   ]
  },
  {
   "cell_type": "code",
   "execution_count": 23,
   "metadata": {},
   "outputs": [],
   "source": [
    "scaler = preprocessing.StandardScaler()\n",
    "names_features = [\"min\", \"max\", \"mean\", \"std\", \"skew\", \"kurt\", \"energy\", \"average_cross\"]\n",
    "for col in names_features:\n",
    "    data_fenetres[col] = scaler.fit_transform(data_fenetres[col].values.reshape(-1, 1))"
   ]
  },
  {
   "cell_type": "code",
   "execution_count": 24,
   "metadata": {},
   "outputs": [
    {
     "data": {
      "text/plain": [
       "(2778, 12)"
      ]
     },
     "execution_count": 24,
     "metadata": {},
     "output_type": "execute_result"
    }
   ],
   "source": [
    "data_fenetres.shape"
   ]
  },
  {
   "cell_type": "code",
   "execution_count": 25,
   "metadata": {},
   "outputs": [],
   "source": [
    "X_train, X_test, Y_train, Y_test = train_test_split(data_fenetres[names_features], data_fenetres[\"anom\"], test_size=500)"
   ]
  },
  {
   "cell_type": "code",
   "execution_count": 26,
   "metadata": {},
   "outputs": [
    {
     "name": "stdout",
     "output_type": "stream",
     "text": [
      "0.004389815627743654\n"
     ]
    }
   ],
   "source": [
    "# définition des paramètres\n",
    "forest = RandomForestClassifier(n_estimators=500, criterion='gini', max_depth=None, min_samples_split=2, min_samples_leaf=1, max_features='auto', max_leaf_nodes=None, bootstrap=True, oob_score=True)\n",
    "# apprentissage\n",
    "rfFit = forest.fit(X_train,Y_train)\n",
    "print(1-rfFit.oob_score_)"
   ]
  },
  {
   "cell_type": "code",
   "execution_count": 27,
   "metadata": {},
   "outputs": [
    {
     "data": {
      "text/plain": [
       "0.014000000000000012"
      ]
     },
     "execution_count": 27,
     "metadata": {},
     "output_type": "execute_result"
    }
   ],
   "source": [
    "# erreur de prévision sur le test\n",
    "1-rfFit.score(X_test,Y_test)"
   ]
  },
  {
   "cell_type": "code",
   "execution_count": 28,
   "metadata": {},
   "outputs": [
    {
     "name": "stdout",
     "output_type": "stream",
     "text": [
      "Meilleur score = 0.004829, Meilleur paramètre = {'max_features': 2}\n"
     ]
    }
   ],
   "source": [
    "param = [{\"max_features\" : list(range(2, len(names_features) + 1))}]\n",
    "rf = GridSearchCV(RandomForestClassifier(n_estimators=500), param, cv=5, n_jobs=-1)\n",
    "rfOpt = rf.fit(X_train, Y_train)\n",
    "# paramètre optimal\n",
    "print(\"Meilleur score = %f, Meilleur paramètre = %s\" % (1. - rfOpt.best_score_,rfOpt.best_params_))"
   ]
  },
  {
   "cell_type": "code",
   "execution_count": 29,
   "metadata": {},
   "outputs": [
    {
     "data": {
      "text/plain": [
       "0.016000000000000014"
      ]
     },
     "execution_count": 29,
     "metadata": {},
     "output_type": "execute_result"
    }
   ],
   "source": [
    "# erreur de prévision sur le test\n",
    "1 - rfOpt.score(X_test,Y_test)"
   ]
  },
  {
   "cell_type": "code",
   "execution_count": 30,
   "metadata": {},
   "outputs": [
    {
     "data": {
      "image/png": "[encoded data removed]",
      "text/plain": [
       "<Figure size 1152x360 with 4 Axes>"
      ]
     },
     "metadata": {},
     "output_type": "display_data"
    }
   ],
   "source": [
    "# prévision\n",
    "y_chap = rfFit.predict(X_test)\n",
    "# matrice de confusion\n",
    "# Options pour normalize : all, index, column\n",
    "table_norm_index = pd.crosstab(y_chap, Y_test, rownames=[\"Prédiction\"], colnames=[\"Vraie valeur\"], normalize=\"index\") # margins=True, margins_name=\"Total\")\n",
    "table_norm_col = pd.crosstab(y_chap, Y_test, rownames=[\"Prédiction\"], colnames=[\"Vraie valeur\"], normalize=\"columns\")\n",
    "sns.set(font_scale=1.4)#for label size\n",
    "fig, ax = plt.subplots(nrows=1, ncols=2, figsize=(16, 5))\n",
    "sns.heatmap(table_norm_index, annot=True, cmap=\"Blues\", ax=ax[0], annot_kws={\"size\": 16}) # font size\n",
    "ax[0].set_title(\"Matrice de confusion normalisée \\n selon les lignes\")\n",
    "sns.heatmap(table_norm_col, annot=True, cmap=\"Blues\", ax=ax[1], annot_kws={\"size\": 16}) # font size\n",
    "ax[1].set_title(\"Matrice de confusion normalisée \\n selon les colonnes\")\n",
    "plt.show()"
   ]
  },
  {
   "cell_type": "markdown",
   "metadata": {},
   "source": [
    "Commentaire : Le modèle répond quasi systématiquement Non, et donc se trompe très peu. C'est parfaitement inexploitable, il faut garder la version en dupliquant les anomalies ou trouver une autre idée.\n",
    "\n",
    "(Et oui, il est tard mais j'ai pas pu m'empêcher de faire un joli plot qui sert pas à grand-chose)"
   ]
  },
  {
   "cell_type": "markdown",
   "metadata": {},
   "source": [
    "### Coefficients de Fourier"
   ]
  },
  {
   "cell_type": "code",
   "execution_count": 31,
   "metadata": {},
   "outputs": [
    {
     "name": "stdout",
     "output_type": "stream",
     "text": [
      "(3254, 100)\n",
      "(3254, 10)\n"
     ]
    }
   ],
   "source": [
    "from scipy.fftpack import fft\n",
    "fftCoeff =[]\n",
    "for x in df_supervise[\"valeurs\"]:\n",
    "    mx = np.mean(x)\n",
    "    x_centre = x - mx\n",
    "    #Apply fast Fourier transform\n",
    "    coeffsfft = np.abs(fft(x_centre))\n",
    "    coeffsfft_flatten = np.hstack(coeffsfft)\n",
    "    fftCoeff.append(coeffsfft_flatten)\n",
    "    \n",
    "fftCoeff = np.array(fftCoeff)\n",
    "print(fftCoeff.shape)\n",
    "\n",
    "#Coefficients seuillés\n",
    "prop_a_garder = 0.1\n",
    "nb_coeffs = int(fftCoeff.shape[1] * prop_a_garder)\n",
    "somme = np.sum(fftCoeff**2, axis=0)\n",
    "fftCoeff_seuil = np.zeros((0, nb_coeffs))\n",
    "ind_grands = np.argsort(somme)[-nb_coeffs :]\n",
    "fftCoeff_seuil = fftCoeff[:, ind_grands]\n",
    "\n",
    "print(fftCoeff_seuil.shape)"
   ]
  },
  {
   "cell_type": "code",
   "execution_count": 32,
   "metadata": {},
   "outputs": [],
   "source": [
    "df_Fourier = pd.DataFrame(fftCoeff)\n",
    "df_Fourier_seuil = pd.DataFrame(fftCoeff_seuil)"
   ]
  },
  {
   "cell_type": "code",
   "execution_count": 33,
   "metadata": {},
   "outputs": [],
   "source": [
    "for col in df_Fourier.columns :\n",
    "    df_Fourier[col] = scaler.fit_transform(df_Fourier[col].values.reshape(-1, 1))\n",
    "for col in df_Fourier_seuil.columns :\n",
    "    df_Fourier_seuil[col] = scaler.fit_transform(df_Fourier_seuil[col].values.reshape(-1, 1))"
   ]
  },
  {
   "cell_type": "markdown",
   "metadata": {},
   "source": [
    "### Coefficients d'ondelettes"
   ]
  },
  {
   "cell_type": "code",
   "execution_count": 34,
   "metadata": {},
   "outputs": [
    {
     "name": "stdout",
     "output_type": "stream",
     "text": [
      "(3254, 102) (3254, 111)\n",
      "228966 359438\n"
     ]
    }
   ],
   "source": [
    "import pywt\n",
    "from pywt import wavedec\n",
    "from statsmodels.robust import mad\n",
    "\n",
    "wavelist=['haar','db2'] \n",
    "\n",
    "Coeff_ond_haar = []\n",
    "Coeff_ond_db2 = []\n",
    "\n",
    "for x in df_supervise[\"valeurs\"]:\n",
    "    #Apply wavelet decomposition\n",
    "    coeffs_haar = pywt.wavedec(x,wavelist[0],level=4) \n",
    "    coeffs_flatten_haar = np.hstack(coeffs_haar)\n",
    "    Coeff_ond_haar.append(coeffs_flatten_haar)\n",
    "    #Apply wavelet decomposition\n",
    "    coeffs_db2 = pywt.wavedec(x,wavelist[1],level=4) \n",
    "    coeffs_flatten_db2 = np.hstack(coeffs_db2)\n",
    "    Coeff_ond_db2.append(coeffs_flatten_db2)\n",
    "    \n",
    "    \n",
    "Coeff_ond_haar = np.array(Coeff_ond_haar)\n",
    "Coeff_ond_db2 = np.array(Coeff_ond_db2)\n",
    "print(Coeff_ond_haar.shape, Coeff_ond_db2.shape)\n",
    "print(np.sum(Coeff_ond_haar!=0), np.sum(Coeff_ond_db2!=0))"
   ]
  },
  {
   "cell_type": "code",
   "execution_count": 35,
   "metadata": {},
   "outputs": [],
   "source": [
    "df_ond_haar = pd.DataFrame(Coeff_ond_haar)\n",
    "df_ond_db2 = pd.DataFrame(Coeff_ond_db2)"
   ]
  },
  {
   "cell_type": "code",
   "execution_count": 36,
   "metadata": {},
   "outputs": [],
   "source": [
    "for col in df_ond_haar.columns :\n",
    "    df_ond_haar[col] = scaler.fit_transform(df_ond_haar[col].values.reshape(-1, 1))\n",
    "for col in df_ond_db2.columns :\n",
    "    df_ond_db2[col] = scaler.fit_transform(df_ond_db2[col].values.reshape(-1, 1))"
   ]
  },
  {
   "cell_type": "markdown",
   "metadata": {},
   "source": [
    "### Visualisation des résultats"
   ]
  },
  {
   "cell_type": "code",
   "execution_count": 37,
   "metadata": {},
   "outputs": [],
   "source": [
    "# Interactive display\n",
    "from ipywidgets import interact, widgets, interactive, fixed, interact_manual\n",
    "from IPython.display import display\n",
    "\n",
    "df_liste = [\"Features\",\n",
    "            \"Ondelettes_haar\",\n",
    "            \"Ondelettes_db2\",\n",
    "            \"Coefficients de Fourier\",\n",
    "            \"Coefficients de Fourier seuillés\"\n",
    "           ]\n",
    "\n",
    "dict_df = {\"Features\" : df_supervise[names_features],\n",
    "           \"Ondelettes_haar\" : df_ond_haar,\n",
    "           \"Ondelettes_db2\" : df_ond_db2,\n",
    "           \"Coefficients de Fourier\" : df_Fourier,\n",
    "           \"Coefficients de Fourier seuillés\" : df_Fourier_seuil\n",
    "          }"
   ]
  },
  {
   "cell_type": "code",
   "execution_count": 38,
   "metadata": {},
   "outputs": [
    {
     "data": {
      "application/vnd.jupyter.widget-view+json": {
       "model_id": "a93d60a842a84393847b2c3deba3c3d0",
       "version_major": 2,
       "version_minor": 0
      },
      "text/html": [
       "<p>Failed to display Jupyter Widget of type <code>interactive</code>.</p>\n",
       "<p>\n",
       "  If you're reading this message in the Jupyter Notebook or JupyterLab Notebook, it may mean\n",
       "  that the widgets JavaScript is still loading. If this message persists, it\n",
       "  likely means that the widgets JavaScript library is either not installed or\n",
       "  not enabled. See the <a href=\"https://ipywidgets.readthedocs.io/en/stable/user_install.html\">Jupyter\n",
       "  Widgets Documentation</a> for setup instructions.\n",
       "</p>\n",
       "<p>\n",
       "  If you're reading this message in another frontend (for example, a static\n",
       "  rendering on GitHub or <a href=\"https://nbviewer.jupyter.org/\">NBViewer</a>),\n",
       "  it may mean that your frontend doesn't currently support widgets.\n",
       "</p>\n"
      ],
      "text/plain": [
       "interactive(children=(Dropdown(description='Choix_df', options=('Features', 'Ondelettes_haar', 'Ondelettes_db2', 'Coefficients de Fourier', 'Coefficients de Fourier seuillés'), value='Features'), Output()), _dom_classes=('widget-interact',))"
      ]
     },
     "metadata": {},
     "output_type": "display_data"
    }
   ],
   "source": [
    "@interact(Choix_df = df_liste)\n",
    "def RandomForest(Choix_df):\n",
    "    df_coeff=dict_df[Choix_df]\n",
    "    X_train, X_test, Y_train, Y_test = train_test_split(df_coeff, df_supervise[\"anom\"], test_size=2500)\n",
    "    \n",
    "    # définition des paramètres\n",
    "    forest = RandomForestClassifier(n_estimators=500, criterion='gini', max_depth=None, min_samples_split=2, min_samples_leaf=1, max_features='auto', max_leaf_nodes=None, bootstrap=True, oob_score=True)\n",
    "    # apprentissage\n",
    "    rfFit = forest.fit(X_train,Y_train)\n",
    "    print(1-rfFit.oob_score_)\n",
    "    # erreur de prévision sur le test\n",
    "    print(\"erreur de prevision sur le test : \", 1-rfFit.score(X_test,Y_test))\n",
    "    \n",
    "    # prévision\n",
    "    y_chap = rfFit.predict(X_test)\n",
    "    # matrice de confusion\n",
    "    # Options pour normalize : all, index, column\n",
    "    table_norm_index = pd.crosstab(y_chap, Y_test, rownames=[\"Prédiction\"], colnames=[\"Vraie valeur\"], normalize=\"index\") # margins=True, margins_name=\"Total\")\n",
    "    table_norm_col = pd.crosstab(y_chap, Y_test, rownames=[\"Prédiction\"], colnames=[\"Vraie valeur\"], normalize=\"columns\")\n",
    "    sns.set(font_scale=1.4)#for label size\n",
    "    fig, ax = plt.subplots(nrows=1, ncols=2, figsize=(16, 5))\n",
    "    sns.heatmap(table_norm_index, annot=True, cmap=\"Blues\", ax=ax[0], annot_kws={\"size\": 16}) # font size\n",
    "    ax[0].set_title(\"Matrice de confusion normalisée \\n selon les lignes\")\n",
    "    sns.heatmap(table_norm_col, annot=True, cmap=\"Blues\", ax=ax[1], annot_kws={\"size\": 16}) # font size\n",
    "    ax[1].set_title(\"Matrice de confusion normalisée \\n selon les colonnes\")\n",
    "    plt.show()"
   ]
  },
  {
   "cell_type": "markdown",
   "metadata": {},
   "source": [
    "**Commentaires :**\n",
    "\n",
    "Très peu d'erreur avec les coefficients d'ondelettes (haar ou db2) et même parfois 0 erreur (peut-être louche ?)\n",
    "\n",
    "Avec les coefficients de Fourier : résulats quasi identiques à ceux de Features, parfois meilleur, parfois pire"
   ]
  }
 ],
 "metadata": {
  "kernelspec": {
   "display_name": "Python 3",
   "language": "python",
   "name": "python3"
  },
  "language_info": {
   "codemirror_mode": {
    "name": "ipython",
    "version": 3
   },
   "file_extension": ".py",
   "mimetype": "text/x-python",
   "name": "python",
   "nbconvert_exporter": "python",
   "pygments_lexer": "ipython3",
   "version": "3.6.4"
  }
 },
 "nbformat": 4,
 "nbformat_minor": 2
}
