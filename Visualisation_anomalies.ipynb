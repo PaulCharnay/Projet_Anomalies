{
 "cells": [
  {
   "cell_type": "markdown",
   "metadata": {},
   "source": [
    "# Visualisation des anomalies"
   ]
  },
  {
   "cell_type": "code",
   "execution_count": 194,
   "metadata": {},
   "outputs": [],
   "source": [
    "import pandas as pd\n",
    "import numpy as np\n",
    "import scipy.stats as sps\n",
    "\n",
    "# Plot et Display\n",
    "from IPython.display import display\n",
    "%matplotlib inline\n",
    "import matplotlib.pyplot as plt\n",
    "import seaborn as sns\n",
    "sns.set()\n",
    "sns.set_style(\"darkgrid\", {\"axes.facecolor\": \".9\"})\n",
    "\n",
    "# Scikit learn\n",
    "from sklearn import preprocessing\n",
    "from sklearn.model_selection import GridSearchCV\n",
    "from sklearn.model_selection import train_test_split  \n",
    "from sklearn.ensemble import RandomForestClassifier \n",
    "\n",
    "#Lecture des données \n",
    "import pickle"
   ]
  },
  {
   "cell_type": "code",
   "execution_count": 2,
   "metadata": {},
   "outputs": [],
   "source": [
    "#path_test = \"../../4A/Projet/Ensemble de test/\"\n",
    "path_test = \"../Donnees_projet/Ensemble_de_test/\""
   ]
  },
  {
   "cell_type": "code",
   "execution_count": 3,
   "metadata": {},
   "outputs": [],
   "source": [
    "with open('liste_propre', 'rb') as fichier:\n",
    "    mon_depickler = pickle.Unpickler(fichier)\n",
    "    liste_propre, ind_recupere = mon_depickler.load()"
   ]
  },
  {
   "cell_type": "code",
   "execution_count": 4,
   "metadata": {},
   "outputs": [],
   "source": [
    "def enlever_pic(serie, seuil=10, pts_moy=2, plot=False) :\n",
    "    \"\"\"Retire le pic final, le seuil est le plus petit accroissement considéré comme appartenant\n",
    "    encore au pic. Les accroissements sont moyennés sur plusieurs points pour ne pas être sensibles \n",
    "    aux possibles irrégularités dans le pic.\n",
    "    L'option plot=True permet de vérifier graphiquement le résultat.\n",
    "    Retourne la liste tronquée\"\"\"\n",
    "    serie = np.array(serie)\n",
    "    if plot :\n",
    "        plt.plot(serie)\n",
    "        \n",
    "    accr = abs(serie[1:] - serie[:-1])\n",
    "    moy_accr = [np.mean(accr[i : i + pts_moy]) for i in range(len(accr) - pts_moy)]\n",
    "\n",
    "    for ind, val in enumerate(moy_accr[::-1]) :\n",
    "        if val < seuil and ind >= 1 :\n",
    "            if plot :\n",
    "                plt.plot(serie[:-ind], color=\"red\")\n",
    "                plt.show()\n",
    "                \n",
    "            return list(serie[:-ind])\n",
    "            break\n",
    "    else : \n",
    "        return serie"
   ]
  },
  {
   "cell_type": "code",
   "execution_count": 5,
   "metadata": {},
   "outputs": [],
   "source": [
    "n = len(liste_propre)\n",
    "liste_appr = list(np.asarray(liste_propre)[np.asarray(ind_recupere) <= 299])\n",
    "liste_test = list(np.asarray(liste_propre)[np.asarray(ind_recupere) > 299])\n",
    "n_appr = len(liste_appr)\n",
    "n_test = len(liste_test)"
   ]
  },
  {
   "cell_type": "code",
   "execution_count": 6,
   "metadata": {},
   "outputs": [],
   "source": [
    "anom = [False] * n_test\n",
    "type_anom = [-1] * n_test\n",
    "loc = [-1] * n_test\n",
    "\n",
    "anom[73] = True\n",
    "type_anom[73] = 1\n",
    "loc[73] = 200\n",
    "\n",
    "anom[96] = True\n",
    "type_anom[96] = 1\n",
    "loc[96] = 300\n",
    "\n",
    "anom[36] = True\n",
    "type_anom[36] = 1\n",
    "loc[36] = 400\n",
    "\n",
    "anom[32] = True\n",
    "type_anom[32] = 1\n",
    "loc[32] = 300\n",
    "\n",
    "anom[33] = True\n",
    "type_anom[33] = 1\n",
    "loc[33] = 200\n",
    "\n",
    "anom[107] = True\n",
    "type_anom[107] = 2\n",
    "loc[107] = 600\n",
    "\n",
    "anom[60] = True\n",
    "type_anom[60] = 2\n",
    "loc[60] = 400\n",
    "\n",
    "anom[113] = True\n",
    "type_anom[113] = 2\n",
    "loc[113] = 400\n",
    "\n",
    "anom[9] = True\n",
    "type_anom[9] = 2\n",
    "loc[9] = 200\n",
    "\n",
    "anom[11] = True\n",
    "type_anom[11] = 2\n",
    "loc[11] = 300\n",
    "\n",
    "anom[53] = True\n",
    "type_anom[53] = 3\n",
    "loc[53] = 400\n",
    "\n",
    "anom[114] = True\n",
    "type_anom[114] = 3\n",
    "loc[114] = 400\n",
    "\n",
    "anom[14] = True\n",
    "type_anom[14] = 3\n",
    "loc[14] = 500\n",
    "\n",
    "anom[79] = True\n",
    "type_anom[79] = 3\n",
    "loc[79] = 400\n",
    "\n",
    "anom[29] = True\n",
    "type_anom[29] = 3\n",
    "loc[29] = 300\n",
    "\n",
    "anom[27] = True\n",
    "type_anom[27] = 4\n",
    "loc[27] = 300\n",
    "\n",
    "anom[121] = True\n",
    "type_anom[121] = 4\n",
    "loc[121] = 300\n",
    "\n",
    "anom[5] = True\n",
    "type_anom[5] = 4\n",
    "loc[5] = 400\n",
    "\n",
    "anom[89] = True\n",
    "type_anom[89] = 4\n",
    "loc[89] = 200\n",
    "\n",
    "anom[99] = True\n",
    "type_anom[99] = 4\n",
    "loc[99] = 100  \n",
    "\n",
    "anom = [False] * n_appr + anom\n",
    "type_anom = [-1] * n_appr + type_anom\n",
    "loc = [-1] * n_appr + loc"
   ]
  },
  {
   "cell_type": "code",
   "execution_count": 18,
   "metadata": {},
   "outputs": [],
   "source": [
    "ind_anom = list(np.where(np.asarray(anom))[0]) # Indices des anomalies"
   ]
  },
  {
   "cell_type": "code",
   "execution_count": 9,
   "metadata": {},
   "outputs": [],
   "source": [
    "def df_fenetres(liste_comp, N, anom, loc):\n",
    "    serie = []\n",
    "    #origine = []\n",
    "    ind_debut = []\n",
    "    valeurs = []\n",
    "    anom_fen = []\n",
    "    for i, val, loc_i in zip(ind_recupere, liste_comp, loc):\n",
    "        # Liste des fenêtres de l'enregistrement\n",
    "        fenetres = [val[i * N:(i + 1) * N] for i in range((len(val) + N - 1) // N ) if len(val[i * N:(i + 1) * N]) == N]\n",
    "        nb_fen = len(fenetres)\n",
    "        valeurs += fenetres\n",
    "        anom_fen_i = [False] * nb_fen\n",
    "        pos_anom_deb_fen = loc_i // N\n",
    "        pos_anom_fin_fen = (loc_i + 55) // N\n",
    "        if loc_i > -1:\n",
    "            try:\n",
    "                for pos in range(pos_anom_deb_fen, pos_anom_fin_fen + 1):\n",
    "                    anom_fen_i[pos] = True\n",
    "\n",
    "            except IndexError:\n",
    "                pass\n",
    "                \"\"\"Cette erreur est levée lorsque l'anomalie se trouve en fin de série, dans une plage qui n'a pas été capturée \n",
    "                par une des fenêtres. On peut donc l'ignorer et continuer le traitement. Ce cas est de toute façon très rare\n",
    "                dans nos données.\"\"\"\n",
    "        anom_fen += anom_fen_i\n",
    "        ind_debut += list(range(0, nb_fen * N, N))\n",
    "        serie += [i] * nb_fen\n",
    "        \"\"\"if i < 300:\n",
    "            origine += [\"appr\"] * nb_fen\n",
    "        else:\n",
    "            origine += [\"test\"] * nb_fen\"\"\"\n",
    "        \n",
    "    \n",
    "    df = pd.DataFrame(data={\"id\" : list(range(len(serie))), \"serie\" : serie, \"ind_debut\" : ind_debut, \"valeurs\" : valeurs, \"anom\" : anom_fen})\n",
    "        \n",
    "    return df.set_index([\"id\"])"
   ]
  },
  {
   "cell_type": "code",
   "execution_count": 69,
   "metadata": {},
   "outputs": [],
   "source": [
    "N = 100\n",
    "data_fenetres = df_fenetres(liste_propre, N, anom, loc)"
   ]
  },
  {
   "cell_type": "code",
   "execution_count": 70,
   "metadata": {},
   "outputs": [],
   "source": [
    "ind_anom = list(data_fenetres[data_fenetres[\"anom\"]][\"serie\"].values)"
   ]
  },
  {
   "cell_type": "code",
   "execution_count": 73,
   "metadata": {
    "scrolled": true
   },
   "outputs": [
    {
     "data": {
      "text/html": [
       "<div>\n",
       "<style scoped>\n",
       "    .dataframe tbody tr th:only-of-type {\n",
       "        vertical-align: middle;\n",
       "    }\n",
       "\n",
       "    .dataframe tbody tr th {\n",
       "        vertical-align: top;\n",
       "    }\n",
       "\n",
       "    .dataframe thead th {\n",
       "        text-align: right;\n",
       "    }\n",
       "</style>\n",
       "<table border=\"1\" class=\"dataframe\">\n",
       "  <thead>\n",
       "    <tr style=\"text-align: right;\">\n",
       "      <th></th>\n",
       "      <th>serie</th>\n",
       "      <th>ind_debut</th>\n",
       "      <th>valeurs</th>\n",
       "      <th>anom</th>\n",
       "    </tr>\n",
       "    <tr>\n",
       "      <th>id</th>\n",
       "      <th></th>\n",
       "      <th></th>\n",
       "      <th></th>\n",
       "      <th></th>\n",
       "    </tr>\n",
       "  </thead>\n",
       "  <tbody>\n",
       "    <tr>\n",
       "      <th>42402</th>\n",
       "      <td>373</td>\n",
       "      <td>0</td>\n",
       "      <td>[1432.0, 1432.0, 1432.0, 1440.0, 1448.0, 1448....</td>\n",
       "      <td>False</td>\n",
       "    </tr>\n",
       "    <tr>\n",
       "      <th>42403</th>\n",
       "      <td>373</td>\n",
       "      <td>100</td>\n",
       "      <td>[1664.0, 1680.0, 1680.0, 1680.0, 1680.0, 1680....</td>\n",
       "      <td>False</td>\n",
       "    </tr>\n",
       "    <tr>\n",
       "      <th>42404</th>\n",
       "      <td>373</td>\n",
       "      <td>200</td>\n",
       "      <td>[1678.0, 1686.0, 1678.0, 1678.0, 1662.0, 1678....</td>\n",
       "      <td>True</td>\n",
       "    </tr>\n",
       "    <tr>\n",
       "      <th>42405</th>\n",
       "      <td>373</td>\n",
       "      <td>300</td>\n",
       "      <td>[1728.0, 1736.0, 1744.0, 1744.0, 1744.0, 1736....</td>\n",
       "      <td>False</td>\n",
       "    </tr>\n",
       "    <tr>\n",
       "      <th>42406</th>\n",
       "      <td>373</td>\n",
       "      <td>400</td>\n",
       "      <td>[1400.0, 1400.0, 1400.0, 1400.0, 1400.0, 1408....</td>\n",
       "      <td>False</td>\n",
       "    </tr>\n",
       "    <tr>\n",
       "      <th>42452</th>\n",
       "      <td>379</td>\n",
       "      <td>0</td>\n",
       "      <td>[1408.0, 1408.0, 1408.0, 1416.0, 1408.0, 1400....</td>\n",
       "      <td>False</td>\n",
       "    </tr>\n",
       "    <tr>\n",
       "      <th>42453</th>\n",
       "      <td>379</td>\n",
       "      <td>100</td>\n",
       "      <td>[1696.0, 1696.0, 1704.0, 1704.0, 1704.0, 1696....</td>\n",
       "      <td>False</td>\n",
       "    </tr>\n",
       "    <tr>\n",
       "      <th>42454</th>\n",
       "      <td>379</td>\n",
       "      <td>200</td>\n",
       "      <td>[1744.0, 1744.0, 1736.0, 1736.0, 1736.0, 1744....</td>\n",
       "      <td>False</td>\n",
       "    </tr>\n",
       "    <tr>\n",
       "      <th>42455</th>\n",
       "      <td>379</td>\n",
       "      <td>300</td>\n",
       "      <td>[1736.0, 1736.0, 1736.0, 1736.0, 1736.0, 1744....</td>\n",
       "      <td>False</td>\n",
       "    </tr>\n",
       "    <tr>\n",
       "      <th>42456</th>\n",
       "      <td>379</td>\n",
       "      <td>400</td>\n",
       "      <td>[1790.0, 1782.0, 1774.0, 1750.0, 1742.0, 1734....</td>\n",
       "      <td>True</td>\n",
       "    </tr>\n",
       "    <tr>\n",
       "      <th>42507</th>\n",
       "      <td>389</td>\n",
       "      <td>0</td>\n",
       "      <td>[1408.0, 1408.0, 1416.0, 1416.0, 1408.0, 1392....</td>\n",
       "      <td>False</td>\n",
       "    </tr>\n",
       "    <tr>\n",
       "      <th>42508</th>\n",
       "      <td>389</td>\n",
       "      <td>100</td>\n",
       "      <td>[1736.0, 1736.0, 1744.0, 1744.0, 1744.0, 1736....</td>\n",
       "      <td>False</td>\n",
       "    </tr>\n",
       "    <tr>\n",
       "      <th>42509</th>\n",
       "      <td>389</td>\n",
       "      <td>200</td>\n",
       "      <td>[1250.0, 1234.0, 1234.0, 1258.0, 1258.0, 1274....</td>\n",
       "      <td>True</td>\n",
       "    </tr>\n",
       "    <tr>\n",
       "      <th>42510</th>\n",
       "      <td>389</td>\n",
       "      <td>300</td>\n",
       "      <td>[3040.0, 2848.0, 2848.0, 2832.0, 2808.0, 2784....</td>\n",
       "      <td>False</td>\n",
       "    </tr>\n",
       "    <tr>\n",
       "      <th>42511</th>\n",
       "      <td>389</td>\n",
       "      <td>400</td>\n",
       "      <td>[1728.0, 1720.0, 1720.0, 1720.0, 1720.0, 1712....</td>\n",
       "      <td>False</td>\n",
       "    </tr>\n",
       "    <tr>\n",
       "      <th>42561</th>\n",
       "      <td>396</td>\n",
       "      <td>0</td>\n",
       "      <td>[1400.0, 1400.0, 1408.0, 1408.0, 1424.0, 1424....</td>\n",
       "      <td>False</td>\n",
       "    </tr>\n",
       "    <tr>\n",
       "      <th>42562</th>\n",
       "      <td>396</td>\n",
       "      <td>100</td>\n",
       "      <td>[1720.0, 1720.0, 1736.0, 1736.0, 1736.0, 1728....</td>\n",
       "      <td>False</td>\n",
       "    </tr>\n",
       "    <tr>\n",
       "      <th>42563</th>\n",
       "      <td>396</td>\n",
       "      <td>200</td>\n",
       "      <td>[1736.0, 1744.0, 1736.0, 1736.0, 1736.0, 1736....</td>\n",
       "      <td>False</td>\n",
       "    </tr>\n",
       "    <tr>\n",
       "      <th>42564</th>\n",
       "      <td>396</td>\n",
       "      <td>300</td>\n",
       "      <td>[1678.0, 1686.0, 1678.0, 1678.0, 1662.0, 1678....</td>\n",
       "      <td>True</td>\n",
       "    </tr>\n",
       "    <tr>\n",
       "      <th>42565</th>\n",
       "      <td>396</td>\n",
       "      <td>400</td>\n",
       "      <td>[1712.0, 1704.0, 1696.0, 1688.0, 1688.0, 1680....</td>\n",
       "      <td>False</td>\n",
       "    </tr>\n",
       "    <tr>\n",
       "      <th>42566</th>\n",
       "      <td>396</td>\n",
       "      <td>500</td>\n",
       "      <td>[1400.0, 1400.0, 1400.0, 1400.0, 1400.0, 1392....</td>\n",
       "      <td>False</td>\n",
       "    </tr>\n",
       "    <tr>\n",
       "      <th>42575</th>\n",
       "      <td>399</td>\n",
       "      <td>0</td>\n",
       "      <td>[1456.0, 1456.0, 1456.0, 1456.0, 1456.0, 1448....</td>\n",
       "      <td>False</td>\n",
       "    </tr>\n",
       "    <tr>\n",
       "      <th>42576</th>\n",
       "      <td>399</td>\n",
       "      <td>100</td>\n",
       "      <td>[1250.0, 1234.0, 1234.0, 1258.0, 1258.0, 1274....</td>\n",
       "      <td>True</td>\n",
       "    </tr>\n",
       "    <tr>\n",
       "      <th>42577</th>\n",
       "      <td>399</td>\n",
       "      <td>200</td>\n",
       "      <td>[1656.0, 1656.0, 1656.0, 1664.0, 1656.0, 1656....</td>\n",
       "      <td>False</td>\n",
       "    </tr>\n",
       "    <tr>\n",
       "      <th>42578</th>\n",
       "      <td>399</td>\n",
       "      <td>300</td>\n",
       "      <td>[2728.0, 2816.0, 2824.0, 2800.0, 2784.0, 2760....</td>\n",
       "      <td>False</td>\n",
       "    </tr>\n",
       "    <tr>\n",
       "      <th>42579</th>\n",
       "      <td>399</td>\n",
       "      <td>400</td>\n",
       "      <td>[1536.0, 1536.0, 1544.0, 1544.0, 1544.0, 1544....</td>\n",
       "      <td>False</td>\n",
       "    </tr>\n",
       "    <tr>\n",
       "      <th>42580</th>\n",
       "      <td>399</td>\n",
       "      <td>500</td>\n",
       "      <td>[1536.0, 1544.0, 1552.0, 1544.0, 1544.0, 1552....</td>\n",
       "      <td>False</td>\n",
       "    </tr>\n",
       "    <tr>\n",
       "      <th>42642</th>\n",
       "      <td>407</td>\n",
       "      <td>0</td>\n",
       "      <td>[1464.0, 1464.0, 1456.0, 1456.0, 1456.0, 1456....</td>\n",
       "      <td>False</td>\n",
       "    </tr>\n",
       "    <tr>\n",
       "      <th>42643</th>\n",
       "      <td>407</td>\n",
       "      <td>100</td>\n",
       "      <td>[1680.0, 1680.0, 1680.0, 1672.0, 1672.0, 1672....</td>\n",
       "      <td>False</td>\n",
       "    </tr>\n",
       "    <tr>\n",
       "      <th>42644</th>\n",
       "      <td>407</td>\n",
       "      <td>200</td>\n",
       "      <td>[1616.0, 1624.0, 1632.0, 1624.0, 1624.0, 1632....</td>\n",
       "      <td>False</td>\n",
       "    </tr>\n",
       "    <tr>\n",
       "      <th>42645</th>\n",
       "      <td>407</td>\n",
       "      <td>300</td>\n",
       "      <td>[1784.0, 1784.0, 1784.0, 1784.0, 1784.0, 1792....</td>\n",
       "      <td>False</td>\n",
       "    </tr>\n",
       "    <tr>\n",
       "      <th>42646</th>\n",
       "      <td>407</td>\n",
       "      <td>400</td>\n",
       "      <td>[1616.0, 1616.0, 1616.0, 1616.0, 1616.0, 1624....</td>\n",
       "      <td>False</td>\n",
       "    </tr>\n",
       "    <tr>\n",
       "      <th>42647</th>\n",
       "      <td>407</td>\n",
       "      <td>500</td>\n",
       "      <td>[1568.0, 1576.0, 1576.0, 1568.0, 1568.0, 1568....</td>\n",
       "      <td>False</td>\n",
       "    </tr>\n",
       "    <tr>\n",
       "      <th>42648</th>\n",
       "      <td>407</td>\n",
       "      <td>600</td>\n",
       "      <td>[1512.0, 1512.0, 1520.0, 1536.0, 1536.0, 1544....</td>\n",
       "      <td>True</td>\n",
       "    </tr>\n",
       "    <tr>\n",
       "      <th>42677</th>\n",
       "      <td>413</td>\n",
       "      <td>0</td>\n",
       "      <td>[1400.0, 1400.0, 1400.0, 1400.0, 1384.0, 1384....</td>\n",
       "      <td>False</td>\n",
       "    </tr>\n",
       "    <tr>\n",
       "      <th>42678</th>\n",
       "      <td>413</td>\n",
       "      <td>100</td>\n",
       "      <td>[1608.0, 1600.0, 1600.0, 1592.0, 1600.0, 1608....</td>\n",
       "      <td>False</td>\n",
       "    </tr>\n",
       "    <tr>\n",
       "      <th>42679</th>\n",
       "      <td>413</td>\n",
       "      <td>200</td>\n",
       "      <td>[1608.0, 1616.0, 1624.0, 1640.0, 1648.0, 1648....</td>\n",
       "      <td>False</td>\n",
       "    </tr>\n",
       "    <tr>\n",
       "      <th>42680</th>\n",
       "      <td>413</td>\n",
       "      <td>300</td>\n",
       "      <td>[1520.0, 1528.0, 1536.0, 1552.0, 1568.0, 1600....</td>\n",
       "      <td>False</td>\n",
       "    </tr>\n",
       "    <tr>\n",
       "      <th>42681</th>\n",
       "      <td>413</td>\n",
       "      <td>400</td>\n",
       "      <td>[1674.0, 1682.0, 1682.0, 1698.0, 1698.0, 1698....</td>\n",
       "      <td>True</td>\n",
       "    </tr>\n",
       "    <tr>\n",
       "      <th>42682</th>\n",
       "      <td>413</td>\n",
       "      <td>500</td>\n",
       "      <td>[1712.0, 1712.0, 1720.0, 1712.0, 1712.0, 1712....</td>\n",
       "      <td>False</td>\n",
       "    </tr>\n",
       "    <tr>\n",
       "      <th>42683</th>\n",
       "      <td>414</td>\n",
       "      <td>0</td>\n",
       "      <td>[1400.0, 1400.0, 1392.0, 1392.0, 1392.0, 1400....</td>\n",
       "      <td>False</td>\n",
       "    </tr>\n",
       "    <tr>\n",
       "      <th>42684</th>\n",
       "      <td>414</td>\n",
       "      <td>100</td>\n",
       "      <td>[1824.0, 1824.0, 1816.0, 1816.0, 1808.0, 1800....</td>\n",
       "      <td>False</td>\n",
       "    </tr>\n",
       "    <tr>\n",
       "      <th>42685</th>\n",
       "      <td>414</td>\n",
       "      <td>200</td>\n",
       "      <td>[1784.0, 1776.0, 1776.0, 1784.0, 1792.0, 1792....</td>\n",
       "      <td>False</td>\n",
       "    </tr>\n",
       "    <tr>\n",
       "      <th>42686</th>\n",
       "      <td>414</td>\n",
       "      <td>300</td>\n",
       "      <td>[1800.0, 1792.0, 1792.0, 1784.0, 1792.0, 1792....</td>\n",
       "      <td>False</td>\n",
       "    </tr>\n",
       "    <tr>\n",
       "      <th>42687</th>\n",
       "      <td>414</td>\n",
       "      <td>400</td>\n",
       "      <td>[1790.0, 1782.0, 1774.0, 1750.0, 1742.0, 1734....</td>\n",
       "      <td>True</td>\n",
       "    </tr>\n",
       "    <tr>\n",
       "      <th>42736</th>\n",
       "      <td>421</td>\n",
       "      <td>0</td>\n",
       "      <td>[1416.0, 1400.0, 1400.0, 1408.0, 1408.0, 1408....</td>\n",
       "      <td>False</td>\n",
       "    </tr>\n",
       "    <tr>\n",
       "      <th>42737</th>\n",
       "      <td>421</td>\n",
       "      <td>100</td>\n",
       "      <td>[1608.0, 1608.0, 1616.0, 1608.0, 1608.0, 1608....</td>\n",
       "      <td>False</td>\n",
       "    </tr>\n",
       "    <tr>\n",
       "      <th>42738</th>\n",
       "      <td>421</td>\n",
       "      <td>200</td>\n",
       "      <td>[1728.0, 1728.0, 1744.0, 1736.0, 1728.0, 1720....</td>\n",
       "      <td>False</td>\n",
       "    </tr>\n",
       "    <tr>\n",
       "      <th>42739</th>\n",
       "      <td>421</td>\n",
       "      <td>300</td>\n",
       "      <td>[1250.0, 1234.0, 1234.0, 1258.0, 1258.0, 1274....</td>\n",
       "      <td>True</td>\n",
       "    </tr>\n",
       "    <tr>\n",
       "      <th>42740</th>\n",
       "      <td>421</td>\n",
       "      <td>400</td>\n",
       "      <td>[1728.0, 1728.0, 1728.0, 1728.0, 1728.0, 1728....</td>\n",
       "      <td>False</td>\n",
       "    </tr>\n",
       "  </tbody>\n",
       "</table>\n",
       "</div>"
      ],
      "text/plain": [
       "       serie  ind_debut                                            valeurs  \\\n",
       "id                                                                           \n",
       "42402    373          0  [1432.0, 1432.0, 1432.0, 1440.0, 1448.0, 1448....   \n",
       "42403    373        100  [1664.0, 1680.0, 1680.0, 1680.0, 1680.0, 1680....   \n",
       "42404    373        200  [1678.0, 1686.0, 1678.0, 1678.0, 1662.0, 1678....   \n",
       "42405    373        300  [1728.0, 1736.0, 1744.0, 1744.0, 1744.0, 1736....   \n",
       "42406    373        400  [1400.0, 1400.0, 1400.0, 1400.0, 1400.0, 1408....   \n",
       "42452    379          0  [1408.0, 1408.0, 1408.0, 1416.0, 1408.0, 1400....   \n",
       "42453    379        100  [1696.0, 1696.0, 1704.0, 1704.0, 1704.0, 1696....   \n",
       "42454    379        200  [1744.0, 1744.0, 1736.0, 1736.0, 1736.0, 1744....   \n",
       "42455    379        300  [1736.0, 1736.0, 1736.0, 1736.0, 1736.0, 1744....   \n",
       "42456    379        400  [1790.0, 1782.0, 1774.0, 1750.0, 1742.0, 1734....   \n",
       "42507    389          0  [1408.0, 1408.0, 1416.0, 1416.0, 1408.0, 1392....   \n",
       "42508    389        100  [1736.0, 1736.0, 1744.0, 1744.0, 1744.0, 1736....   \n",
       "42509    389        200  [1250.0, 1234.0, 1234.0, 1258.0, 1258.0, 1274....   \n",
       "42510    389        300  [3040.0, 2848.0, 2848.0, 2832.0, 2808.0, 2784....   \n",
       "42511    389        400  [1728.0, 1720.0, 1720.0, 1720.0, 1720.0, 1712....   \n",
       "42561    396          0  [1400.0, 1400.0, 1408.0, 1408.0, 1424.0, 1424....   \n",
       "42562    396        100  [1720.0, 1720.0, 1736.0, 1736.0, 1736.0, 1728....   \n",
       "42563    396        200  [1736.0, 1744.0, 1736.0, 1736.0, 1736.0, 1736....   \n",
       "42564    396        300  [1678.0, 1686.0, 1678.0, 1678.0, 1662.0, 1678....   \n",
       "42565    396        400  [1712.0, 1704.0, 1696.0, 1688.0, 1688.0, 1680....   \n",
       "42566    396        500  [1400.0, 1400.0, 1400.0, 1400.0, 1400.0, 1392....   \n",
       "42575    399          0  [1456.0, 1456.0, 1456.0, 1456.0, 1456.0, 1448....   \n",
       "42576    399        100  [1250.0, 1234.0, 1234.0, 1258.0, 1258.0, 1274....   \n",
       "42577    399        200  [1656.0, 1656.0, 1656.0, 1664.0, 1656.0, 1656....   \n",
       "42578    399        300  [2728.0, 2816.0, 2824.0, 2800.0, 2784.0, 2760....   \n",
       "42579    399        400  [1536.0, 1536.0, 1544.0, 1544.0, 1544.0, 1544....   \n",
       "42580    399        500  [1536.0, 1544.0, 1552.0, 1544.0, 1544.0, 1552....   \n",
       "42642    407          0  [1464.0, 1464.0, 1456.0, 1456.0, 1456.0, 1456....   \n",
       "42643    407        100  [1680.0, 1680.0, 1680.0, 1672.0, 1672.0, 1672....   \n",
       "42644    407        200  [1616.0, 1624.0, 1632.0, 1624.0, 1624.0, 1632....   \n",
       "42645    407        300  [1784.0, 1784.0, 1784.0, 1784.0, 1784.0, 1792....   \n",
       "42646    407        400  [1616.0, 1616.0, 1616.0, 1616.0, 1616.0, 1624....   \n",
       "42647    407        500  [1568.0, 1576.0, 1576.0, 1568.0, 1568.0, 1568....   \n",
       "42648    407        600  [1512.0, 1512.0, 1520.0, 1536.0, 1536.0, 1544....   \n",
       "42677    413          0  [1400.0, 1400.0, 1400.0, 1400.0, 1384.0, 1384....   \n",
       "42678    413        100  [1608.0, 1600.0, 1600.0, 1592.0, 1600.0, 1608....   \n",
       "42679    413        200  [1608.0, 1616.0, 1624.0, 1640.0, 1648.0, 1648....   \n",
       "42680    413        300  [1520.0, 1528.0, 1536.0, 1552.0, 1568.0, 1600....   \n",
       "42681    413        400  [1674.0, 1682.0, 1682.0, 1698.0, 1698.0, 1698....   \n",
       "42682    413        500  [1712.0, 1712.0, 1720.0, 1712.0, 1712.0, 1712....   \n",
       "42683    414          0  [1400.0, 1400.0, 1392.0, 1392.0, 1392.0, 1400....   \n",
       "42684    414        100  [1824.0, 1824.0, 1816.0, 1816.0, 1808.0, 1800....   \n",
       "42685    414        200  [1784.0, 1776.0, 1776.0, 1784.0, 1792.0, 1792....   \n",
       "42686    414        300  [1800.0, 1792.0, 1792.0, 1784.0, 1792.0, 1792....   \n",
       "42687    414        400  [1790.0, 1782.0, 1774.0, 1750.0, 1742.0, 1734....   \n",
       "42736    421          0  [1416.0, 1400.0, 1400.0, 1408.0, 1408.0, 1408....   \n",
       "42737    421        100  [1608.0, 1608.0, 1616.0, 1608.0, 1608.0, 1608....   \n",
       "42738    421        200  [1728.0, 1728.0, 1744.0, 1736.0, 1728.0, 1720....   \n",
       "42739    421        300  [1250.0, 1234.0, 1234.0, 1258.0, 1258.0, 1274....   \n",
       "42740    421        400  [1728.0, 1728.0, 1728.0, 1728.0, 1728.0, 1728....   \n",
       "\n",
       "        anom  \n",
       "id            \n",
       "42402  False  \n",
       "42403  False  \n",
       "42404   True  \n",
       "42405  False  \n",
       "42406  False  \n",
       "42452  False  \n",
       "42453  False  \n",
       "42454  False  \n",
       "42455  False  \n",
       "42456   True  \n",
       "42507  False  \n",
       "42508  False  \n",
       "42509   True  \n",
       "42510  False  \n",
       "42511  False  \n",
       "42561  False  \n",
       "42562  False  \n",
       "42563  False  \n",
       "42564   True  \n",
       "42565  False  \n",
       "42566  False  \n",
       "42575  False  \n",
       "42576   True  \n",
       "42577  False  \n",
       "42578  False  \n",
       "42579  False  \n",
       "42580  False  \n",
       "42642  False  \n",
       "42643  False  \n",
       "42644  False  \n",
       "42645  False  \n",
       "42646  False  \n",
       "42647  False  \n",
       "42648   True  \n",
       "42677  False  \n",
       "42678  False  \n",
       "42679  False  \n",
       "42680  False  \n",
       "42681   True  \n",
       "42682  False  \n",
       "42683  False  \n",
       "42684  False  \n",
       "42685  False  \n",
       "42686  False  \n",
       "42687   True  \n",
       "42736  False  \n",
       "42737  False  \n",
       "42738  False  \n",
       "42739   True  \n",
       "42740  False  "
      ]
     },
     "execution_count": 73,
     "metadata": {},
     "output_type": "execute_result"
    }
   ],
   "source": [
    "data_ajout_anom = data_fenetres.loc[data_fenetres[\"serie\"].isin(ind_anom)]\n",
    "offset = 10 ** (int(np.log10(data_fenetres.index.values[-1])) + 1)\n",
    "\n",
    "# il faut recopier toutes les séries dans lesquelles il y a une anomalie et pas juste les fenetres\n",
    "df_supervise = data_fenetres\n",
    "for i in range(1,5):\n",
    "    data_ajout_anom.index += offset\n",
    "    df_supervise = pd.concat([df_supervise, data_ajout_anom])\n",
    "    \n",
    "#df supervise contient les données d'apprentissage + les données de tests + les séries anormales recopiées 4 fois\n",
    "# les séries recopiées ont pour indice leur indice de départ + k*offset pour k=1,..,4\n",
    "df_supervise.tail(50)"
   ]
  },
  {
   "cell_type": "code",
   "execution_count": 88,
   "metadata": {},
   "outputs": [],
   "source": [
    "def plot_anom_type(Type):\n",
    "    for num in df_supervise.index.values:\n",
    "        TS = df_supervise.loc[num]\n",
    "        loc = TS[\"loc\"]\n",
    "        serie = TS[\"valeurs\"]\n",
    "\n",
    "        if TS[\"type\"] == Type: \n",
    "            fig, ax = plt.subplots(figsize=(12, 7))\n",
    "            plt.title(\"Série numéro \" + str(num) + \", type \" + str(Type), size=20, color='r', fontweight='bold')\n",
    "\n",
    "            ax.plot(range(loc), serie[: loc], 'b')\n",
    "            ax.plot(range(loc - 1, loc + 56), serie[loc - 1 : loc + 56], 'r')\n",
    "            ax.plot(range(loc + 55, len(serie)), serie[loc + 55 :], 'b')\n",
    "\n",
    "        plt.show()"
   ]
  },
  {
   "cell_type": "code",
   "execution_count": 94,
   "metadata": {
    "scrolled": true
   },
   "outputs": [
    {
     "name": "stdout",
     "output_type": "stream",
     "text": [
      "Marche plus avec le nouveau DataFrame, à adapter si besoin.\n"
     ]
    }
   ],
   "source": [
    "try:\n",
    "    for T in range(1, 5):\n",
    "        plot_anom_type(T)\n",
    "except KeyError:\n",
    "    print(\"Marche plus avec le nouveau DataFrame, à adapter si besoin.\")"
   ]
  },
  {
   "cell_type": "markdown",
   "metadata": {},
   "source": [
    "## 3 - Méthodes de Classification"
   ]
  },
  {
   "cell_type": "markdown",
   "metadata": {},
   "source": [
    "## Random Forest\n",
    "\n",
    "### Calcul des features"
   ]
  },
  {
   "cell_type": "code",
   "execution_count": 220,
   "metadata": {},
   "outputs": [],
   "source": [
    "df_supervise[\"min\"] = list(map(min, df_supervise.valeurs))\n",
    "df_supervise[\"max\"] = list(map(max, df_supervise.valeurs))\n",
    "df_supervise[\"mean\"] = list(map(np.mean, df_supervise.valeurs))\n",
    "df_supervise[\"std\"] = list(map(np.std, df_supervise.valeurs))\n",
    "df_supervise[\"skew\"] = list(map(sps.skew, df_supervise.valeurs))\n",
    "df_supervise[\"kurt\"] = list(map(sps.kurtosis, df_supervise.valeurs))\n",
    "df_supervise[\"energy\"] = list(map(lambda x : sum(np.asarray(x)**2)/len(x), df_supervise.valeurs))\n",
    "df_supervise[\"average_cross\"] = list(map(lambda x : sum(1*(x > np.mean(x)))/len(x), df_supervise.valeurs))"
   ]
  },
  {
   "cell_type": "code",
   "execution_count": 245,
   "metadata": {},
   "outputs": [],
   "source": [
    "scaler = preprocessing.StandardScaler()\n",
    "names_features = [\"min\", \"max\", \"mean\", \"std\", \"skew\", \"kurt\", \"energy\", \"average_cross\"]\n",
    "for col in names_features:\n",
    "    df_supervise[col] = scaler.fit_transform(df_supervise[col].values.reshape(-1, 1))"
   ]
  },
  {
   "cell_type": "code",
   "execution_count": 246,
   "metadata": {},
   "outputs": [
    {
     "data": {
      "text/plain": [
       "(3254, 12)"
      ]
     },
     "execution_count": 246,
     "metadata": {},
     "output_type": "execute_result"
    }
   ],
   "source": [
    "df_supervise.shape"
   ]
  },
  {
   "cell_type": "code",
   "execution_count": 247,
   "metadata": {},
   "outputs": [],
   "source": [
    "X_train, X_test, Y_train, Y_test = train_test_split(df_supervise[names_features], df_supervise[\"anom\"], test_size=2500)"
   ]
  },
  {
   "cell_type": "code",
   "execution_count": 248,
   "metadata": {},
   "outputs": [
    {
     "name": "stdout",
     "output_type": "stream",
     "text": [
      "0.0053050397877983935\n"
     ]
    }
   ],
   "source": [
    "# définition des paramètres\n",
    "forest = RandomForestClassifier(n_estimators=500, criterion='gini', max_depth=None, min_samples_split=2, min_samples_leaf=1, max_features='auto', max_leaf_nodes=None, bootstrap=True, oob_score=True)\n",
    "# apprentissage\n",
    "rfFit = forest.fit(X_train,Y_train)\n",
    "print(1-rfFit.oob_score_)\n"
   ]
  },
  {
   "cell_type": "code",
   "execution_count": 249,
   "metadata": {},
   "outputs": [
    {
     "data": {
      "text/plain": [
       "0.011199999999999988"
      ]
     },
     "execution_count": 249,
     "metadata": {},
     "output_type": "execute_result"
    }
   ],
   "source": [
    "# erreur de prévision sur le test\n",
    "1-rfFit.score(X_test,Y_test)"
   ]
  },
  {
   "cell_type": "code",
   "execution_count": 250,
   "metadata": {},
   "outputs": [
    {
     "name": "stdout",
     "output_type": "stream",
     "text": [
      "Meilleur score = 0.007958, Meilleur paramètre = {'max_features': 4}\n"
     ]
    }
   ],
   "source": [
    "param = [{\"max_features\" : list(range(2, len(names_features) + 1))}]\n",
    "rf = GridSearchCV(RandomForestClassifier(n_estimators=500), param, cv=5, n_jobs=-1)\n",
    "rfOpt = rf.fit(X_train, Y_train)\n",
    "# paramètre optimal\n",
    "print(\"Meilleur score = %f, Meilleur paramètre = %s\" % (1. - rfOpt.best_score_,rfOpt.best_params_))"
   ]
  },
  {
   "cell_type": "code",
   "execution_count": 251,
   "metadata": {},
   "outputs": [
    {
     "data": {
      "text/plain": [
       "0.012800000000000034"
      ]
     },
     "execution_count": 251,
     "metadata": {},
     "output_type": "execute_result"
    }
   ],
   "source": [
    "# erreur de prévision sur le test\n",
    "1 - rfOpt.score(X_test,Y_test)"
   ]
  },
  {
   "cell_type": "code",
   "execution_count": 252,
   "metadata": {},
   "outputs": [
    {
     "data": {
      "image/png": "[encoded data removed]",
      "text/plain": [
       "<Figure size 1152x360 with 4 Axes>"
      ]
     },
     "metadata": {},
     "output_type": "display_data"
    }
   ],
   "source": [
    "# prévision\n",
    "y_chap = rfFit.predict(X_test)\n",
    "# matrice de confusion\n",
    "# Options pour normalize : all, index, column\n",
    "table_norm_index = pd.crosstab(y_chap, Y_test, rownames=[\"Prédiction\"], colnames=[\"Vraie valeur\"], normalize=\"index\") # margins=True, margins_name=\"Total\")\n",
    "table_norm_col = pd.crosstab(y_chap, Y_test, rownames=[\"Prédiction\"], colnames=[\"Vraie valeur\"], normalize=\"columns\")\n",
    "sns.set(font_scale=1.4)#for label size\n",
    "fig, ax = plt.subplots(nrows=1, ncols=2, figsize=(16, 5))\n",
    "sns.heatmap(table_norm_index, annot=True, cmap=\"Blues\", ax=ax[0], annot_kws={\"size\": 16}) # font size\n",
    "ax[0].set_title(\"Matrice de confusion normalisée \\n selon les lignes\")\n",
    "sns.heatmap(table_norm_col, annot=True, cmap=\"Blues\", ax=ax[1], annot_kws={\"size\": 16}) # font size\n",
    "ax[1].set_title(\"Matrice de confusion normalisée \\n selon les colonnes\")\n",
    "plt.show()"
   ]
  },
  {
   "cell_type": "markdown",
   "metadata": {},
   "source": [
    "Commentaire : 1,2% d'erreurs, c'est très faible mais si on regarde la matrice de confusion on voit que la prévision n'est en fait pas si efficace. En effet on observe beaucoup de faux négatifs, envion un tiers. On a pas contre quasi aucun faux positif.\n",
    "\n",
    "On teste la même chose mais sans dupliquer les anomalies."
   ]
  },
  {
   "cell_type": "code",
   "execution_count": 159,
   "metadata": {},
   "outputs": [],
   "source": [
    "data_fenetres[\"min\"] = list(map(min, data_fenetres.valeurs))\n",
    "data_fenetres[\"max\"] = list(map(max, data_fenetres.valeurs))\n",
    "data_fenetres[\"mean\"] = list(map(np.mean, data_fenetres.valeurs))\n",
    "data_fenetres[\"std\"] = list(map(np.std, data_fenetres.valeurs))\n",
    "data_fenetres[\"skew\"] = list(map(sps.skew, data_fenetres.valeurs))\n",
    "data_fenetres[\"kurt\"] = list(map(sps.kurtosis, data_fenetres.valeurs))\n",
    "data_fenetres[\"energy\"] = list(map(lambda x : sum(np.asarray(x)**2)/len(x), data_fenetres.valeurs))\n",
    "data_fenetres[\"average_cross\"] = list(map(lambda x : sum(1*(x > np.mean(x)))/len(x), data_fenetres.valeurs))"
   ]
  },
  {
   "cell_type": "code",
   "execution_count": 160,
   "metadata": {},
   "outputs": [],
   "source": [
    "scaler = preprocessing.StandardScaler()\n",
    "names_features = [\"min\", \"max\", \"mean\", \"std\", \"skew\", \"kurt\", \"energy\", \"average_cross\"]\n",
    "for col in names_features:\n",
    "    data_fenetres[col] = scaler.fit_transform(data_fenetres[col].values.reshape(-1, 1))"
   ]
  },
  {
   "cell_type": "code",
   "execution_count": 161,
   "metadata": {},
   "outputs": [
    {
     "data": {
      "text/plain": [
       "(2778, 12)"
      ]
     },
     "execution_count": 161,
     "metadata": {},
     "output_type": "execute_result"
    }
   ],
   "source": [
    "data_fenetres.shape"
   ]
  },
  {
   "cell_type": "code",
   "execution_count": 174,
   "metadata": {},
   "outputs": [],
   "source": [
    "X_train, X_test, Y_train, Y_test = train_test_split(data_fenetres[names_features], data_fenetres[\"anom\"], test_size=500)"
   ]
  },
  {
   "cell_type": "code",
   "execution_count": 175,
   "metadata": {},
   "outputs": [
    {
     "name": "stdout",
     "output_type": "stream",
     "text": [
      "0.0065847234416154254\n"
     ]
    }
   ],
   "source": [
    "# définition des paramètres\n",
    "forest = RandomForestClassifier(n_estimators=500, criterion='gini', max_depth=None, min_samples_split=2, min_samples_leaf=1, max_features='auto', max_leaf_nodes=None, bootstrap=True, oob_score=True)\n",
    "# apprentissage\n",
    "rfFit = forest.fit(X_train,Y_train)\n",
    "print(1-rfFit.oob_score_)"
   ]
  },
  {
   "cell_type": "code",
   "execution_count": 176,
   "metadata": {},
   "outputs": [
    {
     "data": {
      "text/plain": [
       "0.006000000000000005"
      ]
     },
     "execution_count": 176,
     "metadata": {},
     "output_type": "execute_result"
    }
   ],
   "source": [
    "# erreur de prévision sur le test\n",
    "1-rfFit.score(X_test,Y_test)"
   ]
  },
  {
   "cell_type": "code",
   "execution_count": 177,
   "metadata": {},
   "outputs": [
    {
     "name": "stdout",
     "output_type": "stream",
     "text": [
      "Meilleur score = 0.006146, Meilleur paramètre = {'max_features': 5}\n"
     ]
    }
   ],
   "source": [
    "param = [{\"max_features\" : list(range(2, len(names_features) + 1))}]\n",
    "rf = GridSearchCV(RandomForestClassifier(n_estimators=500), param, cv=5, n_jobs=-1)\n",
    "rfOpt = rf.fit(X_train, Y_train)\n",
    "# paramètre optimal\n",
    "print(\"Meilleur score = %f, Meilleur paramètre = %s\" % (1. - rfOpt.best_score_,rfOpt.best_params_))"
   ]
  },
  {
   "cell_type": "code",
   "execution_count": 178,
   "metadata": {},
   "outputs": [
    {
     "data": {
      "text/plain": [
       "0.006000000000000005"
      ]
     },
     "execution_count": 178,
     "metadata": {},
     "output_type": "execute_result"
    }
   ],
   "source": [
    "# erreur de prévision sur le test\n",
    "1 - rfOpt.score(X_test,Y_test)"
   ]
  },
  {
   "cell_type": "code",
   "execution_count": 243,
   "metadata": {},
   "outputs": [
    {
     "data": {
      "image/png": "[encoded data removed]",
      "text/plain": [
       "<Figure size 1152x360 with 4 Axes>"
      ]
     },
     "metadata": {},
     "output_type": "display_data"
    }
   ],
   "source": [
    "# prévision\n",
    "y_chap = rfFit.predict(X_test)\n",
    "# matrice de confusion\n",
    "# Options pour normalize : all, index, column\n",
    "table_norm_index = pd.crosstab(y_chap, Y_test, rownames=[\"Prédiction\"], colnames=[\"Vraie valeur\"], normalize=\"index\") # margins=True, margins_name=\"Total\")\n",
    "table_norm_col = pd.crosstab(y_chap, Y_test, rownames=[\"Prédiction\"], colnames=[\"Vraie valeur\"], normalize=\"columns\")\n",
    "sns.set(font_scale=1.4)#for label size\n",
    "fig, ax = plt.subplots(nrows=1, ncols=2, figsize=(16, 5))\n",
    "sns.heatmap(table_norm_index, annot=True, cmap=\"Blues\", ax=ax[0], annot_kws={\"size\": 16}) # font size\n",
    "ax[0].set_title(\"Matrice de confusion normalisée \\n selon les lignes\")\n",
    "sns.heatmap(table_norm_col, annot=True, cmap=\"Blues\", ax=ax[1], annot_kws={\"size\": 16}) # font size\n",
    "ax[1].set_title(\"Matrice de confusion normalisée \\n selon les colonnes\")\n",
    "plt.show()"
   ]
  },
  {
   "cell_type": "markdown",
   "metadata": {},
   "source": [
    "Commentaire : Le modèle répond quasi systématiquement Non, et donc se trompe très peu. C'est parfaitement inexploitable, il faut garder la version en dupliquant les anomalies ou trouver une autre idée.\n",
    "\n",
    "(Et oui, il est tard mais j'ai pas pu m'empêcher de faire un joli plot qui sert pas à grand-chose)"
   ]
  }
 ],
 "metadata": {
  "kernelspec": {
   "display_name": "Python 3",
   "language": "python",
   "name": "python3"
  },
  "language_info": {
   "codemirror_mode": {
    "name": "ipython",
    "version": 3
   },
   "file_extension": ".py",
   "mimetype": "text/x-python",
   "name": "python",
   "nbconvert_exporter": "python",
   "pygments_lexer": "ipython3",
   "version": "3.7.1"
  }
 },
 "nbformat": 4,
 "nbformat_minor": 2
}
