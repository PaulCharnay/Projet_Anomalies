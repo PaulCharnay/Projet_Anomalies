{
 "cells": [
  {
   "cell_type": "markdown",
   "metadata": {},
   "source": [
    "# Features \n",
    "\n",
    "## Importation des librairies"
   ]
  },
  {
   "cell_type": "code",
   "execution_count": 1,
   "metadata": {},
   "outputs": [],
   "source": [
    "import numpy as np\n",
    "import pandas as pd\n",
    "import matplotlib.pyplot as plt\n",
    "import os\n",
    "import pickle\n",
    "#Fonctions statistiques \n",
    "import scipy.stats\n",
    "\n",
    "# ACP\n",
    "import sklearn.decomposition as sd\n",
    "import sklearn.preprocessing as sp\n",
    "# FFT\n",
    "from scipy.fftpack import fft\n",
    "# Hierarchical clustering\n",
    "import scipy.cluster.hierarchy as sch\n",
    "#Wavelet\n",
    "import pywt\n",
    "from pywt import wavedec\n",
    "from statsmodels.robust import mad\n",
    "# LOF\n",
    "import sklearn.neighbors as sn\n",
    "# Isolation Forest\n",
    "import sklearn.ensemble as se\n",
    "\n",
    "# Plot et Display\n",
    "from IPython.display import display\n",
    "%matplotlib inline\n",
    "import matplotlib.pyplot as plt\n",
    "from matplotlib.lines import Line2D\n",
    "import seaborn as sb\n",
    "sb.set()\n",
    "sb.set_style(\"whitegrid\")\n",
    "\n",
    "# Interactive display\n",
    "from ipywidgets import interact, widgets, interactive, fixed, interact_manual\n",
    "from IPython.display import display"
   ]
  },
  {
   "cell_type": "markdown",
   "metadata": {},
   "source": [
    "## Importation des données\n",
    "\n",
    "On lit les données d'apprentissage et de test et on forme une liste de toutes les données contenant au total 428 vols."
   ]
  },
  {
   "cell_type": "code",
   "execution_count": 2,
   "metadata": {},
   "outputs": [],
   "source": [
    "with open('X_1024', 'rb') as fichier:\n",
    "    mon_depickler = pickle.Unpickler(fichier)\n",
    "    liste_comp, ind = mon_depickler.load() #X_1024 : données  #ind : liste des indices des signaux\n",
    "n = len(liste_comp) #nb de signaux\n",
    "liste_appr = list(np.asarray(liste_comp)[np.asarray(ind) <= 299])\n",
    "liste_test = list(np.asarray(liste_comp)[np.asarray(ind) > 299])"
   ]
  },
  {
   "cell_type": "markdown",
   "metadata": {},
   "source": [
    "## Liste des features que l'on veut  "
   ]
  },
  {
   "cell_type": "markdown",
   "metadata": {},
   "source": [
    "- min, max\n",
    "- mean \n",
    "- écart type \n",
    "- Skewness \n",
    "- Kurtosis \n",
    "- Energy \n",
    "- Average Crossing \n",
    "\n",
    "A ajouter ?\n",
    "\n",
    "- Distribution spectrale d'énergie \n",
    "- Pourcentage d'extrema locaux \n",
    "\n",
    "https://arc.aiaa.org/doi/pdf/10.2514/6.2016-2430"
   ]
  },
  {
   "cell_type": "code",
   "execution_count": 3,
   "metadata": {},
   "outputs": [],
   "source": [
    "listeMin = [min(liste) for liste in liste_comp]\n",
    "listeMax = [max(liste) for liste in liste_comp]\n",
    "listeMean = [np.mean(liste) for liste in liste_comp]\n",
    "listeStd = [np.std(liste) for liste in liste_comp]\n",
    "listeSkewness = [scipy.stats.skew(liste) for liste in liste_comp]\n",
    "listeKurtosis = [scipy.stats.kurtosis(liste) for liste in liste_comp]\n",
    "listeEnergy = [sum(np.asarray(liste)**2)/len(liste) for liste in liste_comp]\n",
    "listeAverageCross = [sum(1*(liste > np.mean(liste)))/len(liste) for liste in liste_comp]"
   ]
  },
  {
   "cell_type": "markdown",
   "metadata": {},
   "source": [
    "## Construction Data frame"
   ]
  },
  {
   "cell_type": "code",
   "execution_count": 4,
   "metadata": {},
   "outputs": [],
   "source": [
    "dico = {\"Min\": listeMin, \"Max\": listeMax, \"Moyenne\": listeMean, \"Ecart-type\": listeStd, \"Skewness\" : listeSkewness, \"Kurtosis\": listeKurtosis, \"Energie\": listeEnergy, \"Average_Crossing\": listeAverageCross}\n",
    "DataFeatures = pd.DataFrame(dico)"
   ]
  },
  {
   "cell_type": "code",
   "execution_count": 5,
   "metadata": {},
   "outputs": [
    {
     "data": {
      "text/html": [
       "<div>\n",
       "<style scoped>\n",
       "    .dataframe tbody tr th:only-of-type {\n",
       "        vertical-align: middle;\n",
       "    }\n",
       "\n",
       "    .dataframe tbody tr th {\n",
       "        vertical-align: top;\n",
       "    }\n",
       "\n",
       "    .dataframe thead th {\n",
       "        text-align: right;\n",
       "    }\n",
       "</style>\n",
       "<table border=\"1\" class=\"dataframe\">\n",
       "  <thead>\n",
       "    <tr style=\"text-align: right;\">\n",
       "      <th></th>\n",
       "      <th>Min</th>\n",
       "      <th>Max</th>\n",
       "      <th>Moyenne</th>\n",
       "      <th>Ecart-type</th>\n",
       "      <th>Skewness</th>\n",
       "      <th>Kurtosis</th>\n",
       "      <th>Energie</th>\n",
       "      <th>Average_Crossing</th>\n",
       "    </tr>\n",
       "  </thead>\n",
       "  <tbody>\n",
       "    <tr>\n",
       "      <th>0</th>\n",
       "      <td>1280.0</td>\n",
       "      <td>3552.0</td>\n",
       "      <td>1722.421875</td>\n",
       "      <td>358.733549</td>\n",
       "      <td>2.917743</td>\n",
       "      <td>10.419594</td>\n",
       "      <td>3.095427e+06</td>\n",
       "      <td>0.161133</td>\n",
       "    </tr>\n",
       "    <tr>\n",
       "      <th>1</th>\n",
       "      <td>1296.0</td>\n",
       "      <td>3320.0</td>\n",
       "      <td>1700.945312</td>\n",
       "      <td>295.020307</td>\n",
       "      <td>1.810466</td>\n",
       "      <td>5.878068</td>\n",
       "      <td>2.980252e+06</td>\n",
       "      <td>0.359375</td>\n",
       "    </tr>\n",
       "    <tr>\n",
       "      <th>2</th>\n",
       "      <td>1280.0</td>\n",
       "      <td>3392.0</td>\n",
       "      <td>1649.500000</td>\n",
       "      <td>232.593798</td>\n",
       "      <td>4.363017</td>\n",
       "      <td>28.234724</td>\n",
       "      <td>2.774950e+06</td>\n",
       "      <td>0.804688</td>\n",
       "    </tr>\n",
       "    <tr>\n",
       "      <th>3</th>\n",
       "      <td>1288.0</td>\n",
       "      <td>3208.0</td>\n",
       "      <td>1588.484375</td>\n",
       "      <td>215.938105</td>\n",
       "      <td>3.289758</td>\n",
       "      <td>21.013905</td>\n",
       "      <td>2.569912e+06</td>\n",
       "      <td>0.649414</td>\n",
       "    </tr>\n",
       "    <tr>\n",
       "      <th>4</th>\n",
       "      <td>1296.0</td>\n",
       "      <td>2328.0</td>\n",
       "      <td>1612.734375</td>\n",
       "      <td>182.655648</td>\n",
       "      <td>0.831740</td>\n",
       "      <td>2.557918</td>\n",
       "      <td>2.634275e+06</td>\n",
       "      <td>0.695312</td>\n",
       "    </tr>\n",
       "  </tbody>\n",
       "</table>\n",
       "</div>"
      ],
      "text/plain": [
       "      Min     Max      Moyenne  Ecart-type  Skewness   Kurtosis       Energie  \\\n",
       "0  1280.0  3552.0  1722.421875  358.733549  2.917743  10.419594  3.095427e+06   \n",
       "1  1296.0  3320.0  1700.945312  295.020307  1.810466   5.878068  2.980252e+06   \n",
       "2  1280.0  3392.0  1649.500000  232.593798  4.363017  28.234724  2.774950e+06   \n",
       "3  1288.0  3208.0  1588.484375  215.938105  3.289758  21.013905  2.569912e+06   \n",
       "4  1296.0  2328.0  1612.734375  182.655648  0.831740   2.557918  2.634275e+06   \n",
       "\n",
       "   Average_Crossing  \n",
       "0          0.161133  \n",
       "1          0.359375  \n",
       "2          0.804688  \n",
       "3          0.649414  \n",
       "4          0.695312  "
      ]
     },
     "execution_count": 5,
     "metadata": {},
     "output_type": "execute_result"
    }
   ],
   "source": [
    "DataFeatures.head()"
   ]
  },
  {
   "cell_type": "code",
   "execution_count": 6,
   "metadata": {},
   "outputs": [
    {
     "data": {
      "text/html": [
       "<div>\n",
       "<style scoped>\n",
       "    .dataframe tbody tr th:only-of-type {\n",
       "        vertical-align: middle;\n",
       "    }\n",
       "\n",
       "    .dataframe tbody tr th {\n",
       "        vertical-align: top;\n",
       "    }\n",
       "\n",
       "    .dataframe thead th {\n",
       "        text-align: right;\n",
       "    }\n",
       "</style>\n",
       "<table border=\"1\" class=\"dataframe\">\n",
       "  <thead>\n",
       "    <tr style=\"text-align: right;\">\n",
       "      <th></th>\n",
       "      <th>Min</th>\n",
       "      <th>Max</th>\n",
       "      <th>Moyenne</th>\n",
       "      <th>Ecart-type</th>\n",
       "      <th>Skewness</th>\n",
       "      <th>Kurtosis</th>\n",
       "      <th>Energie</th>\n",
       "      <th>Average_Crossing</th>\n",
       "    </tr>\n",
       "  </thead>\n",
       "  <tbody>\n",
       "    <tr>\n",
       "      <th>count</th>\n",
       "      <td>425.000000</td>\n",
       "      <td>425.000000</td>\n",
       "      <td>425.000000</td>\n",
       "      <td>425.000000</td>\n",
       "      <td>425.000000</td>\n",
       "      <td>425.000000</td>\n",
       "      <td>4.250000e+02</td>\n",
       "      <td>425.000000</td>\n",
       "    </tr>\n",
       "    <tr>\n",
       "      <th>mean</th>\n",
       "      <td>1306.470588</td>\n",
       "      <td>3033.543529</td>\n",
       "      <td>1661.196342</td>\n",
       "      <td>255.460036</td>\n",
       "      <td>1.951539</td>\n",
       "      <td>10.360256</td>\n",
       "      <td>2.846791e+06</td>\n",
       "      <td>0.509256</td>\n",
       "    </tr>\n",
       "    <tr>\n",
       "      <th>std</th>\n",
       "      <td>88.135641</td>\n",
       "      <td>812.764412</td>\n",
       "      <td>80.542560</td>\n",
       "      <td>124.590097</td>\n",
       "      <td>1.877247</td>\n",
       "      <td>10.616838</td>\n",
       "      <td>3.286491e+05</td>\n",
       "      <td>0.234078</td>\n",
       "    </tr>\n",
       "    <tr>\n",
       "      <th>min</th>\n",
       "      <td>72.000000</td>\n",
       "      <td>1624.000000</td>\n",
       "      <td>1433.578125</td>\n",
       "      <td>49.612974</td>\n",
       "      <td>-3.176870</td>\n",
       "      <td>-1.892489</td>\n",
       "      <td>2.090802e+06</td>\n",
       "      <td>0.049805</td>\n",
       "    </tr>\n",
       "    <tr>\n",
       "      <th>25%</th>\n",
       "      <td>1288.000000</td>\n",
       "      <td>2456.000000</td>\n",
       "      <td>1608.375000</td>\n",
       "      <td>156.264005</td>\n",
       "      <td>0.940329</td>\n",
       "      <td>2.907355</td>\n",
       "      <td>2.632092e+06</td>\n",
       "      <td>0.266602</td>\n",
       "    </tr>\n",
       "    <tr>\n",
       "      <th>50%</th>\n",
       "      <td>1304.000000</td>\n",
       "      <td>2952.000000</td>\n",
       "      <td>1645.171875</td>\n",
       "      <td>227.040181</td>\n",
       "      <td>2.136654</td>\n",
       "      <td>7.485112</td>\n",
       "      <td>2.772037e+06</td>\n",
       "      <td>0.607422</td>\n",
       "    </tr>\n",
       "    <tr>\n",
       "      <th>75%</th>\n",
       "      <td>1320.000000</td>\n",
       "      <td>3488.000000</td>\n",
       "      <td>1710.398438</td>\n",
       "      <td>315.529632</td>\n",
       "      <td>3.265087</td>\n",
       "      <td>13.939837</td>\n",
       "      <td>3.030541e+06</td>\n",
       "      <td>0.701172</td>\n",
       "    </tr>\n",
       "    <tr>\n",
       "      <th>max</th>\n",
       "      <td>1464.000000</td>\n",
       "      <td>5688.000000</td>\n",
       "      <td>1925.945312</td>\n",
       "      <td>890.446850</td>\n",
       "      <td>7.167347</td>\n",
       "      <td>61.276323</td>\n",
       "      <td>4.316083e+06</td>\n",
       "      <td>0.915039</td>\n",
       "    </tr>\n",
       "  </tbody>\n",
       "</table>\n",
       "</div>"
      ],
      "text/plain": [
       "               Min          Max      Moyenne  Ecart-type    Skewness  \\\n",
       "count   425.000000   425.000000   425.000000  425.000000  425.000000   \n",
       "mean   1306.470588  3033.543529  1661.196342  255.460036    1.951539   \n",
       "std      88.135641   812.764412    80.542560  124.590097    1.877247   \n",
       "min      72.000000  1624.000000  1433.578125   49.612974   -3.176870   \n",
       "25%    1288.000000  2456.000000  1608.375000  156.264005    0.940329   \n",
       "50%    1304.000000  2952.000000  1645.171875  227.040181    2.136654   \n",
       "75%    1320.000000  3488.000000  1710.398438  315.529632    3.265087   \n",
       "max    1464.000000  5688.000000  1925.945312  890.446850    7.167347   \n",
       "\n",
       "         Kurtosis       Energie  Average_Crossing  \n",
       "count  425.000000  4.250000e+02        425.000000  \n",
       "mean    10.360256  2.846791e+06          0.509256  \n",
       "std     10.616838  3.286491e+05          0.234078  \n",
       "min     -1.892489  2.090802e+06          0.049805  \n",
       "25%      2.907355  2.632092e+06          0.266602  \n",
       "50%      7.485112  2.772037e+06          0.607422  \n",
       "75%     13.939837  3.030541e+06          0.701172  \n",
       "max     61.276323  4.316083e+06          0.915039  "
      ]
     },
     "execution_count": 6,
     "metadata": {},
     "output_type": "execute_result"
    }
   ],
   "source": [
    "DataFeatures.describe()"
   ]
  },
  {
   "cell_type": "code",
   "execution_count": 7,
   "metadata": {},
   "outputs": [
    {
     "data": {
      "text/html": [
       "<div>\n",
       "<style scoped>\n",
       "    .dataframe tbody tr th:only-of-type {\n",
       "        vertical-align: middle;\n",
       "    }\n",
       "\n",
       "    .dataframe tbody tr th {\n",
       "        vertical-align: top;\n",
       "    }\n",
       "\n",
       "    .dataframe thead th {\n",
       "        text-align: right;\n",
       "    }\n",
       "</style>\n",
       "<table border=\"1\" class=\"dataframe\">\n",
       "  <thead>\n",
       "    <tr style=\"text-align: right;\">\n",
       "      <th></th>\n",
       "      <th>Min</th>\n",
       "      <th>Max</th>\n",
       "      <th>Moyenne</th>\n",
       "      <th>Ecart-type</th>\n",
       "      <th>Skewness</th>\n",
       "      <th>Kurtosis</th>\n",
       "      <th>Energie</th>\n",
       "      <th>Average_Crossing</th>\n",
       "    </tr>\n",
       "  </thead>\n",
       "  <tbody>\n",
       "    <tr>\n",
       "      <th>count</th>\n",
       "      <td>128.000000</td>\n",
       "      <td>128.000000</td>\n",
       "      <td>128.000000</td>\n",
       "      <td>128.000000</td>\n",
       "      <td>128.000000</td>\n",
       "      <td>128.000000</td>\n",
       "      <td>1.280000e+02</td>\n",
       "      <td>128.000000</td>\n",
       "    </tr>\n",
       "    <tr>\n",
       "      <th>mean</th>\n",
       "      <td>1313.578125</td>\n",
       "      <td>3014.812500</td>\n",
       "      <td>1680.330322</td>\n",
       "      <td>252.740152</td>\n",
       "      <td>1.711669</td>\n",
       "      <td>10.287513</td>\n",
       "      <td>2.911788e+06</td>\n",
       "      <td>0.520439</td>\n",
       "    </tr>\n",
       "    <tr>\n",
       "      <th>std</th>\n",
       "      <td>120.235635</td>\n",
       "      <td>831.063125</td>\n",
       "      <td>87.685105</td>\n",
       "      <td>130.014816</td>\n",
       "      <td>2.125168</td>\n",
       "      <td>11.898189</td>\n",
       "      <td>3.505979e+05</td>\n",
       "      <td>0.229796</td>\n",
       "    </tr>\n",
       "    <tr>\n",
       "      <th>min</th>\n",
       "      <td>72.000000</td>\n",
       "      <td>1624.000000</td>\n",
       "      <td>1519.992188</td>\n",
       "      <td>49.612974</td>\n",
       "      <td>-3.176870</td>\n",
       "      <td>-1.892489</td>\n",
       "      <td>2.384475e+06</td>\n",
       "      <td>0.069336</td>\n",
       "    </tr>\n",
       "    <tr>\n",
       "      <th>25%</th>\n",
       "      <td>1304.000000</td>\n",
       "      <td>2428.000000</td>\n",
       "      <td>1619.229492</td>\n",
       "      <td>152.331889</td>\n",
       "      <td>0.209614</td>\n",
       "      <td>2.594451</td>\n",
       "      <td>2.661949e+06</td>\n",
       "      <td>0.268799</td>\n",
       "    </tr>\n",
       "    <tr>\n",
       "      <th>50%</th>\n",
       "      <td>1320.000000</td>\n",
       "      <td>2932.000000</td>\n",
       "      <td>1659.732422</td>\n",
       "      <td>209.367003</td>\n",
       "      <td>1.809109</td>\n",
       "      <td>6.970344</td>\n",
       "      <td>2.821575e+06</td>\n",
       "      <td>0.607910</td>\n",
       "    </tr>\n",
       "    <tr>\n",
       "      <th>75%</th>\n",
       "      <td>1360.000000</td>\n",
       "      <td>3560.000000</td>\n",
       "      <td>1745.200195</td>\n",
       "      <td>311.087447</td>\n",
       "      <td>2.999567</td>\n",
       "      <td>13.660760</td>\n",
       "      <td>3.122891e+06</td>\n",
       "      <td>0.709473</td>\n",
       "    </tr>\n",
       "    <tr>\n",
       "      <th>max</th>\n",
       "      <td>1432.000000</td>\n",
       "      <td>5616.000000</td>\n",
       "      <td>1882.468750</td>\n",
       "      <td>655.191652</td>\n",
       "      <td>6.932129</td>\n",
       "      <td>56.531742</td>\n",
       "      <td>3.851198e+06</td>\n",
       "      <td>0.915039</td>\n",
       "    </tr>\n",
       "  </tbody>\n",
       "</table>\n",
       "</div>"
      ],
      "text/plain": [
       "               Min          Max      Moyenne  Ecart-type    Skewness  \\\n",
       "count   128.000000   128.000000   128.000000  128.000000  128.000000   \n",
       "mean   1313.578125  3014.812500  1680.330322  252.740152    1.711669   \n",
       "std     120.235635   831.063125    87.685105  130.014816    2.125168   \n",
       "min      72.000000  1624.000000  1519.992188   49.612974   -3.176870   \n",
       "25%    1304.000000  2428.000000  1619.229492  152.331889    0.209614   \n",
       "50%    1320.000000  2932.000000  1659.732422  209.367003    1.809109   \n",
       "75%    1360.000000  3560.000000  1745.200195  311.087447    2.999567   \n",
       "max    1432.000000  5616.000000  1882.468750  655.191652    6.932129   \n",
       "\n",
       "         Kurtosis       Energie  Average_Crossing  \n",
       "count  128.000000  1.280000e+02        128.000000  \n",
       "mean    10.287513  2.911788e+06          0.520439  \n",
       "std     11.898189  3.505979e+05          0.229796  \n",
       "min     -1.892489  2.384475e+06          0.069336  \n",
       "25%      2.594451  2.661949e+06          0.268799  \n",
       "50%      6.970344  2.821575e+06          0.607910  \n",
       "75%     13.660760  3.122891e+06          0.709473  \n",
       "max     56.531742  3.851198e+06          0.915039  "
      ]
     },
     "execution_count": 7,
     "metadata": {},
     "output_type": "execute_result"
    }
   ],
   "source": [
    "data_train = DataFeatures.iloc[: len(liste_appr), :]\n",
    "data_test = DataFeatures.iloc[len(liste_appr) :, :]\n",
    "data_test.describe()"
   ]
  },
  {
   "cell_type": "markdown",
   "metadata": {},
   "source": [
    "## ACP "
   ]
  },
  {
   "cell_type": "code",
   "execution_count": 15,
   "metadata": {},
   "outputs": [],
   "source": [
    "pca = sd.PCA()\n",
    "data = DataFeatures[[\"Min\",\"Max\",\"Moyenne\",\"Ecart-type\",\"Skewness\",\"Kurtosis\",\"Energie\", \"Average_Crossing\"]]\n",
    "C = pca.fit_transform(sp.scale(data))"
   ]
  },
  {
   "cell_type": "code",
   "execution_count": 9,
   "metadata": {},
   "outputs": [
    {
     "data": {
      "image/png": "[encoded data removed]",
      "text/plain": [
       "<Figure size 576x576 with 1 Axes>"
      ]
     },
     "metadata": {
      "needs_background": "light"
     },
     "output_type": "display_data"
    }
   ],
   "source": [
    "# coordonnées des variables\n",
    "coord1=pca.components_[0]*np.sqrt(pca.explained_variance_[0])\n",
    "coord2=pca.components_[1]*np.sqrt(pca.explained_variance_[1])\n",
    "fig = plt.figure(figsize=(8,8))\n",
    "ax = fig.add_subplot(1, 1, 1)\n",
    "for i, j, nom in zip(coord1,coord2, data.columns):\n",
    "    plt.text(i, j, nom)\n",
    "    plt.arrow(0,0,i,j,color='r')\n",
    "plt.axis((-1.2,1.2,-1.2,1.2))\n",
    "# cercle\n",
    "c=plt.Circle((0,0), radius=1, color='b', fill=False)\n",
    "ax.add_patch(c)\n",
    "ax.set_xlabel(\"Dim1 : \" + str(round(pca.explained_variance_ratio_[:10][0]*100,2))+ \"%\" ,size=25)\n",
    "ax.set_ylabel(\"Dim2 : \" + str(round(pca.explained_variance_ratio_[:10][1]*100,2)) + \"%\",size=25)\n",
    "ax.set_title(\"ACP des deux premières composantes\",size=25)\n",
    "plt.show()"
   ]
  },
  {
   "cell_type": "code",
   "execution_count": 10,
   "metadata": {},
   "outputs": [],
   "source": [
    "def plot_var_ACP(X_acp) :\n",
    "    acp = sd.PCA()\n",
    "    fig = plt.figure(figsize=(15,7))\n",
    "    ax = fig.add_subplot(1,2,1)\n",
    "    ax.bar(range(5), acp.explained_variance_ratio_[:5]*100, align='center', color='grey', ecolor='black')\n",
    "    ax.set_xticks(range(10))\n",
    "    ax.set_ylabel(\"Variance\")\n",
    "    ax.set_title(\"Pourcentage de variance expliquée \\n des premières composantes\", fontsize=20)\n",
    "\n",
    "    ax = fig.add_subplot(1,2,2)\n",
    "    box = ax.boxplot(X_acp[:, 0:10])\n",
    "    ax.set_title(\"Distribution des premières composantes\", fontsize=20)\n",
    "    plt.show()\n",
    "    \n",
    "def plot_proj_ACP(X_acp, axe_1=0, axe_2=1, etiq=True) :\n",
    "    acp = sd.PCA()\n",
    "    fig = plt.figure(figsize=(13,8))\n",
    "    ax = fig.add_subplot(1,1,1)\n",
    "    dict_color = {True : \"blue\", False : \"red\"}\n",
    "\n",
    "    for x, y, s in zip(X_acp[:,axe_1], X_acp[:,axe_2], range(len(liste_comp))) :\n",
    "        ax.plot(x,y,marker=\".\", color=dict_color[s < len(liste_appr)])\n",
    "        if etiq :\n",
    "            ax.text(x, y, str(s))\n",
    "       \n",
    "    ax.set_title(\"Projection des invididus sur les \\n  deux premières composantes\", fontsize=20)\n",
    "\n",
    "    legend_elements = [Line2D([0], [0], marker='.', color='blue', label='Série du jeu d\\'apprentissage', markersize=10, linewidth=0),\n",
    "                       Line2D([0], [0], marker='.', color='red', label='Série du jeu de test', markersize=10, linewidth=0)]\n",
    "\n",
    "    ax.legend(handles=legend_elements)\n",
    "\n",
    "    plt.show()"
   ]
  },
  {
   "cell_type": "code",
   "execution_count": 11,
   "metadata": {},
   "outputs": [
    {
     "data": {
      "text/plain": [
       "297"
      ]
     },
     "execution_count": 11,
     "metadata": {},
     "output_type": "execute_result"
    }
   ],
   "source": [
    "len(liste_appr)"
   ]
  },
  {
   "cell_type": "code",
   "execution_count": 16,
   "metadata": {},
   "outputs": [
    {
     "ename": "AttributeError",
     "evalue": "'PCA' object has no attribute 'explained_variance_ratio_'",
     "output_type": "error",
     "traceback": [
      "\u001b[1;31m---------------------------------------------------------------------------\u001b[0m",
      "\u001b[1;31mAttributeError\u001b[0m                            Traceback (most recent call last)",
      "\u001b[1;32m<ipython-input-16-854f8576d18c>\u001b[0m in \u001b[0;36m<module>\u001b[1;34m\u001b[0m\n\u001b[1;32m----> 1\u001b[1;33m \u001b[0mplot_var_ACP\u001b[0m\u001b[1;33m(\u001b[0m\u001b[0mC\u001b[0m\u001b[1;33m)\u001b[0m\u001b[1;33m\u001b[0m\u001b[1;33m\u001b[0m\u001b[0m\n\u001b[0m",
      "\u001b[1;32m<ipython-input-10-1a454f0ab429>\u001b[0m in \u001b[0;36mplot_var_ACP\u001b[1;34m(X_acp)\u001b[0m\n\u001b[0;32m      3\u001b[0m     \u001b[0mfig\u001b[0m \u001b[1;33m=\u001b[0m \u001b[0mplt\u001b[0m\u001b[1;33m.\u001b[0m\u001b[0mfigure\u001b[0m\u001b[1;33m(\u001b[0m\u001b[0mfigsize\u001b[0m\u001b[1;33m=\u001b[0m\u001b[1;33m(\u001b[0m\u001b[1;36m15\u001b[0m\u001b[1;33m,\u001b[0m\u001b[1;36m7\u001b[0m\u001b[1;33m)\u001b[0m\u001b[1;33m)\u001b[0m\u001b[1;33m\u001b[0m\u001b[1;33m\u001b[0m\u001b[0m\n\u001b[0;32m      4\u001b[0m     \u001b[0max\u001b[0m \u001b[1;33m=\u001b[0m \u001b[0mfig\u001b[0m\u001b[1;33m.\u001b[0m\u001b[0madd_subplot\u001b[0m\u001b[1;33m(\u001b[0m\u001b[1;36m1\u001b[0m\u001b[1;33m,\u001b[0m\u001b[1;36m2\u001b[0m\u001b[1;33m,\u001b[0m\u001b[1;36m1\u001b[0m\u001b[1;33m)\u001b[0m\u001b[1;33m\u001b[0m\u001b[1;33m\u001b[0m\u001b[0m\n\u001b[1;32m----> 5\u001b[1;33m     \u001b[0max\u001b[0m\u001b[1;33m.\u001b[0m\u001b[0mbar\u001b[0m\u001b[1;33m(\u001b[0m\u001b[0mrange\u001b[0m\u001b[1;33m(\u001b[0m\u001b[1;36m5\u001b[0m\u001b[1;33m)\u001b[0m\u001b[1;33m,\u001b[0m \u001b[0macp\u001b[0m\u001b[1;33m.\u001b[0m\u001b[0mexplained_variance_ratio_\u001b[0m\u001b[1;33m[\u001b[0m\u001b[1;33m:\u001b[0m\u001b[1;36m5\u001b[0m\u001b[1;33m]\u001b[0m\u001b[1;33m*\u001b[0m\u001b[1;36m100\u001b[0m\u001b[1;33m,\u001b[0m \u001b[0malign\u001b[0m\u001b[1;33m=\u001b[0m\u001b[1;34m'center'\u001b[0m\u001b[1;33m,\u001b[0m \u001b[0mcolor\u001b[0m\u001b[1;33m=\u001b[0m\u001b[1;34m'grey'\u001b[0m\u001b[1;33m,\u001b[0m \u001b[0mecolor\u001b[0m\u001b[1;33m=\u001b[0m\u001b[1;34m'black'\u001b[0m\u001b[1;33m)\u001b[0m\u001b[1;33m\u001b[0m\u001b[1;33m\u001b[0m\u001b[0m\n\u001b[0m\u001b[0;32m      6\u001b[0m     \u001b[0max\u001b[0m\u001b[1;33m.\u001b[0m\u001b[0mset_xticks\u001b[0m\u001b[1;33m(\u001b[0m\u001b[0mrange\u001b[0m\u001b[1;33m(\u001b[0m\u001b[1;36m10\u001b[0m\u001b[1;33m)\u001b[0m\u001b[1;33m)\u001b[0m\u001b[1;33m\u001b[0m\u001b[1;33m\u001b[0m\u001b[0m\n\u001b[0;32m      7\u001b[0m     \u001b[0max\u001b[0m\u001b[1;33m.\u001b[0m\u001b[0mset_ylabel\u001b[0m\u001b[1;33m(\u001b[0m\u001b[1;34m\"Variance\"\u001b[0m\u001b[1;33m)\u001b[0m\u001b[1;33m\u001b[0m\u001b[1;33m\u001b[0m\u001b[0m\n",
      "\u001b[1;31mAttributeError\u001b[0m: 'PCA' object has no attribute 'explained_variance_ratio_'"
     ]
    },
    {
     "data": {
      "image/png": "[encoded data removed]",
      "text/plain": [
       "<Figure size 1080x504 with 1 Axes>"
      ]
     },
     "metadata": {
      "needs_background": "light"
     },
     "output_type": "display_data"
    }
   ],
   "source": [
    "plot_var_ACP(C)"
   ]
  },
  {
   "cell_type": "code",
   "execution_count": 17,
   "metadata": {},
   "outputs": [
    {
     "data": {
      "image/png": "[encoded data removed]",
      "text/plain": [
       "<Figure size 936x576 with 1 Axes>"
      ]
     },
     "metadata": {
      "needs_background": "light"
     },
     "output_type": "display_data"
    }
   ],
   "source": [
    "plot_proj_ACP(C, 1, 2)"
   ]
  },
  {
   "cell_type": "markdown",
   "metadata": {},
   "source": [
    "## CAH "
   ]
  },
  {
   "cell_type": "code",
   "execution_count": 18,
   "metadata": {},
   "outputs": [],
   "source": [
    "def plot_dendro(Z) :\n",
    "    fig = plt.figure(figsize=(25, 10))\n",
    "    sch.dendrogram(Z, p=10, leaf_rotation=45., leaf_font_size=15, truncate_mode=\"level\")  # font size for the x axis labels\n",
    "\n",
    "    plt.title('Hierarchical Clustering Dendrogram')\n",
    "    plt.xlabel('sample index')\n",
    "    plt.ylabel('distance')\n",
    "    plt.show()\n",
    "    \n"
   ]
  },
  {
   "cell_type": "code",
   "execution_count": null,
   "metadata": {},
   "outputs": [],
   "source": [
    "Z = sch.linkage(DataFeatures, 'single')\n",
    "plot_dendro(Z)"
   ]
  },
  {
   "cell_type": "markdown",
   "metadata": {},
   "source": [
    "## Isolation Forest "
   ]
  },
  {
   "cell_type": "code",
   "execution_count": null,
   "metadata": {},
   "outputs": [],
   "source": [
    "def plot_result_IF(fig, ax, CT, title='', axis_x='', axis_y='', fontsize=25) :\n",
    "    y_lim = (-1.13, 1.13)\n",
    "    x_lim = [-5, len(liste_comp) + 5]\n",
    "    CT_Normal = CT[CT.pred == 1]\n",
    "    CT_Anomaly = CT[CT.pred == -1]\n",
    "    \n",
    "    ax.scatter(CT_Normal.index, - CT_Normal.pred, color=\"green\")\n",
    "    #ax.scatter(CT_Anomaly.index, - CT_Anomaly.pred, color=\"red\", label=\"Anomaly\")\n",
    "    \n",
    "    for x,y,s in zip(CT_Anomaly.index, - CT_Anomaly.pred, map(str,CT_Anomaly.index)):\n",
    "        ax.text(x,y,s, horizontalalignment=\"center\", verticalalignment=\"center\", color=\"red\")\n",
    "\n",
    "    ax.plot(x_lim, [0,0], color=\"black\")\n",
    "    ax.set_title(title, fontsize=fontsize)\n",
    "    ax.set_xlim(x_lim)\n",
    "    ax.set_ylim(y_lim)"
   ]
  },
  {
   "cell_type": "code",
   "execution_count": null,
   "metadata": {},
   "outputs": [],
   "source": [
    "clf = se.IsolationForest(n_estimators=100, contamination=20/428, bootstrap=True, n_jobs=-1, behaviour=\"new\")\n",
    "clf.fit(DataFeatures)\n",
    "y_pred = clf.predict(DataFeatures)\n",
    "\n",
    "CT_IF = pd.DataFrame(list(y_pred), columns=[\"pred\"]) "
   ]
  },
  {
   "cell_type": "code",
   "execution_count": null,
   "metadata": {},
   "outputs": [],
   "source": [
    "fig = plt.figure(figsize=(20,20))\n",
    "ax = fig.add_subplot(3,2,1)\n",
    "plot_result_IF(fig, ax, CT_IF, title=\"Features\", fontsize=25)"
   ]
  },
  {
   "cell_type": "code",
   "execution_count": null,
   "metadata": {},
   "outputs": [],
   "source": [
    "print(\"Anomalies : \", CT_IF[CT_IF.pred == -1].index.values)"
   ]
  },
  {
   "cell_type": "markdown",
   "metadata": {},
   "source": [
    "## OC-SVM "
   ]
  },
  {
   "cell_type": "code",
   "execution_count": null,
   "metadata": {
    "scrolled": true
   },
   "outputs": [],
   "source": [
    "from sklearn.svm import OneClassSVM\n",
    "outlier_prop = 20 / 425  # Ou 20 / (n-20) ?  Ou 20 / 300 ?\n",
    "OCSVM = OneClassSVM(kernel='rbf', nu=outlier_prop, gamma=0.00000005)\n",
    "y_pred = OCSVM.fit(data_train).predict(data_test)\n",
    "print(np.asarray(y_pred)[np.asarray(y_pred) == 1].shape)\n",
    "print(y_pred)\n",
    "for i, serie in enumerate(liste_test):\n",
    "    if y_pred[i] == 1:\n",
    "        plt.plot(serie)\n",
    "        plt.show()"
   ]
  },
  {
   "cell_type": "markdown",
   "metadata": {},
   "source": [
    "Dans tous les signaux qui ressortent comme anormaux on voit notre symétrie barbare. Est-ce que c'était une bonne idée au final ? Go tester sur les signaux de base."
   ]
  },
  {
   "cell_type": "code",
   "execution_count": null,
   "metadata": {},
   "outputs": [],
   "source": [
    "with open('liste_propre', 'rb') as fichier:\n",
    "    mon_depickler = pickle.Unpickler(fichier)\n",
    "    liste_comp, ind = mon_depickler.load() #liste_comp : données  #ind : liste des indices des signaux\n",
    "n = len(liste_comp) #nb de signaux\n",
    "liste_appr = list(np.asarray(liste_comp)[np.asarray(ind) <= 299])\n",
    "liste_test = list(np.asarray(liste_comp)[np.asarray(ind) > 299])"
   ]
  },
  {
   "cell_type": "code",
   "execution_count": null,
   "metadata": {},
   "outputs": [],
   "source": [
    "listeMin = [min(liste) for liste in liste_comp]\n",
    "listeMax = [max(liste) for liste in liste_comp]\n",
    "listeMean = [np.mean(liste) for liste in liste_comp]\n",
    "listeStd = [np.std(liste) for liste in liste_comp]\n",
    "listeSkewness = [scipy.stats.skew(liste) for liste in liste_comp]\n",
    "listeKurtosis = [scipy.stats.kurtosis(liste) for liste in liste_comp]\n",
    "listeEnergy = [sum(np.asarray(liste)**2)/len(liste) for liste in liste_comp]\n",
    "listeAverageCross = [sum(1*(liste > np.mean(liste)))/len(liste) for liste in liste_comp]"
   ]
  },
  {
   "cell_type": "markdown",
   "metadata": {},
   "source": [
    "## Construction Data frame"
   ]
  },
  {
   "cell_type": "code",
   "execution_count": null,
   "metadata": {},
   "outputs": [],
   "source": [
    "dico = {\"Min\": listeMin, \"Max\": listeMax, \"Moyenne\": listeMean, \"Ecart-type\": listeStd, \"Skewness\" : listeSkewness, \"Kurtosis\": listeKurtosis, \"Energie\": listeEnergy, \"Average_Crossing\": listeAverageCross}\n",
    "DataFeatures = pd.DataFrame(dico)"
   ]
  },
  {
   "cell_type": "code",
   "execution_count": null,
   "metadata": {},
   "outputs": [],
   "source": [
    "DataFeatures.head()"
   ]
  },
  {
   "cell_type": "code",
   "execution_count": null,
   "metadata": {},
   "outputs": [],
   "source": [
    "DataFeatures.describe()"
   ]
  },
  {
   "cell_type": "code",
   "execution_count": null,
   "metadata": {
    "scrolled": true
   },
   "outputs": [],
   "source": [
    "data_train = DataFeatures.iloc[: len(liste_appr), :]\n",
    "data_test = DataFeatures.iloc[len(liste_appr) :, :]\n",
    "data_test.describe()"
   ]
  },
  {
   "cell_type": "markdown",
   "metadata": {},
   "source": [
    "## OC-SVM sur les données de base\n",
    "\n",
    "### Calibration du paramètre nu par recherche dichotomique"
   ]
  },
  {
   "cell_type": "code",
   "execution_count": null,
   "metadata": {},
   "outputs": [],
   "source": [
    "outlier_prop = 30 / 298  # Pourcentage estimé d'outliers dans le jeu d'apprentissage\n",
    "a = 1.e-13\n",
    "b = 1\n",
    "gamma = (a + b) / 2\n",
    "niter = 0\n",
    "OCSVM = OneClassSVM(kernel='rbf', nu=outlier_prop, gamma=gamma)\n",
    "y_pred = OCSVM.fit(data_train).predict(data_test)\n",
    "nb_out = np.asarray(y_pred)[np.asarray(y_pred) == 1].shape[0]\n",
    "while nb_out != 20 and niter < 1e3:\n",
    "    if nb_out < 20 :\n",
    "        b = gamma\n",
    "    else :\n",
    "        a = gamma\n",
    "    gamma = (a + b) / 2\n",
    "    OCSVM = OneClassSVM(kernel='rbf', nu=outlier_prop, gamma=gamma)\n",
    "    y_pred = OCSVM.fit(data_train).predict(data_test)\n",
    "    nb_out = np.asarray(y_pred)[np.asarray(y_pred) == 1].shape[0]\n",
    "    niter += 1\n",
    "print(gamma)"
   ]
  },
  {
   "cell_type": "code",
   "execution_count": null,
   "metadata": {},
   "outputs": [],
   "source": [
    "OCSVM = OneClassSVM(kernel='rbf', nu=outlier_prop, gamma=gamma)\n",
    "y_pred = OCSVM.fit(data_train).predict(data_test)\n",
    "anom = []\n",
    "for i, serie in enumerate(liste_test):\n",
    "    if y_pred[i] == 1:\n",
    "        anom.append(300 + i)\n",
    "        plt.plot(serie)\n",
    "        plt.title(\"Série numéro \" + str(i) + \", anomalie détectée\")\n",
    "        plt.show()\n",
    "    elif False:\n",
    "        plt.plot(serie)\n",
    "        plt.title(\"Série numéro \" + str(i))\n",
    "        plt.show()\n",
    "print(anom)"
   ]
  },
  {
   "cell_type": "code",
   "execution_count": null,
   "metadata": {},
   "outputs": [],
   "source": [
    "a = [1, 5, 2, 3, 4, 8, 7, 5, 5, 1]\n",
    "fig, ax = plt.subplots(figsize=(10, 10))\n",
    "ax.plot([0, 1, 2], a[:3])\n",
    "ax.plot(range(2, 10), a[2:], \"red\")\n",
    "plt.show()"
   ]
  }
 ],
 "metadata": {
  "kernelspec": {
   "display_name": "Python 3",
   "language": "python",
   "name": "python3"
  },
  "language_info": {
   "codemirror_mode": {
    "name": "ipython",
    "version": 3
   },
   "file_extension": ".py",
   "mimetype": "text/x-python",
   "name": "python",
   "nbconvert_exporter": "python",
   "pygments_lexer": "ipython3",
   "version": "3.7.1"
  }
 },
 "nbformat": 4,
 "nbformat_minor": 2
}
