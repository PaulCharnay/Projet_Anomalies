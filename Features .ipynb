{
 "cells": [
  {
   "cell_type": "markdown",
   "metadata": {},
   "source": [
    "# Features \n",
    "\n",
    "## Importation des librairies"
   ]
  },
  {
   "cell_type": "code",
   "execution_count": 3,
   "metadata": {},
   "outputs": [],
   "source": [
    "import numpy as np\n",
    "import pandas as pd\n",
    "import matplotlib.pyplot as plt\n",
    "import os\n",
    "\n",
    "# ACP\n",
    "import sklearn.decomposition as sd\n",
    "import sklearn.preprocessing as sp\n",
    "# FFT\n",
    "from scipy.fftpack import fft\n",
    "# Hierarchical clustering\n",
    "import scipy.cluster.hierarchy as sch\n",
    "#Wavelet\n",
    "import pywt\n",
    "from pywt import wavedec\n",
    "from statsmodels.robust import mad\n",
    "# LOF\n",
    "import sklearn.neighbors as sn\n",
    "# Isolation Forest\n",
    "import sklearn.ensemble as se\n",
    "\n",
    "# Plot et Display\n",
    "from IPython.display import display\n",
    "%matplotlib inline\n",
    "import matplotlib.pyplot as plt\n",
    "from matplotlib.lines import Line2D\n",
    "import seaborn as sb\n",
    "sb.set()\n",
    "sb.set_style(\"whitegrid\")"
   ]
  },
  {
   "cell_type": "markdown",
   "metadata": {},
   "source": [
    "## Importation des données\n",
    "\n",
    "On lit les données d'apprentissage et de test et on forme une liste de toutes les données contenant au total 428 vols."
   ]
  },
  {
   "cell_type": "code",
   "execution_count": 4,
   "metadata": {},
   "outputs": [],
   "source": [
    "#path_appr = \"../Donnees_projet/Ensemble_apprentissage/\"\n",
    "#path_test = \"../Donnees_projet/Ensemble_test/\"\n",
    "#path_appr = \"../../4A/Projet/Ensemble d'apprentissage/\"\n",
    "#path_test = \"../../4A/Projet/Ensemble de test/\"\n",
    "path_test = \"../DetecAnomal/Ensemble d'apprentissage/\"\n",
    "path_appr =\"../DetecAnomal/Ensemble de test/\""
   ]
  },
  {
   "cell_type": "code",
   "execution_count": 5,
   "metadata": {},
   "outputs": [],
   "source": [
    "# Liste des séries d'apprentissage\n",
    "files = os.listdir(path_appr)\n",
    "liste_appr = [pd.read_csv(path_appr + file) for file in files]\n",
    "# Liste des séries de test\n",
    "files = os.listdir(path_test)\n",
    "liste_test = [pd.read_csv(path_test + file) for file in files]\n",
    "# Liste complète\n",
    "liste_comp = liste_appr + liste_test\n",
    "n = len(liste_comp) "
   ]
  },
  {
   "cell_type": "markdown",
   "metadata": {},
   "source": [
    "On observe que toutes les séries se terminent par un fort pic. On fait le choix de l'enlever car il n'apporte rien de significatif et risque de perturber l'analyse. "
   ]
  },
  {
   "cell_type": "code",
   "execution_count": 28,
   "metadata": {},
   "outputs": [],
   "source": [
    "def enlever_pic(serie, seuil=10, pts_moy=2, plot=False) :\n",
    "    \"\"\"Retire le pic final, le seuil est le plus petit accroissement considéré comme appartenant\n",
    "    encore au pic. Les accroissements sont moyennés sur plusieurs points pour ne pas être sensibles \n",
    "    aux possibles irrégularités dans le pic.\n",
    "    L'option plot=True permet de vérifier graphiquement le résultat.\n",
    "    Retourne le dataframe tronqué\"\"\"\n",
    "\n",
    "    val_serie = serie[\"FF_1\"].values\n",
    "    if plot :\n",
    "        plt.plot(val_serie)\n",
    "        \n",
    "    accr = abs(val_serie[1:] - val_serie[:-1])\n",
    "    moy_accr = [np.mean(accr[i : i + pts_moy]) for i in range(len(accr) - pts_moy)]\n",
    "\n",
    "    for ind, val in enumerate(moy_accr[::-1]) :\n",
    "        if val < seuil and ind >= 1 :\n",
    "            if plot :\n",
    "                plt.plot(val_serie[:-ind], color=\"red\")\n",
    "                plt.show()\n",
    "                \n",
    "            return serie.drop(serie.index[-ind:])\n",
    "            break\n",
    "    else : \n",
    "        return serie"
   ]
  },
  {
   "cell_type": "code",
   "execution_count": 30,
   "metadata": {},
   "outputs": [],
   "source": [
    "liste_comp = [enlever_pic(serie) for serie in liste_comp] "
   ]
  },
  {
   "cell_type": "markdown",
   "metadata": {},
   "source": [
    "## Liste des features que l'on veut  "
   ]
  },
  {
   "cell_type": "markdown",
   "metadata": {},
   "source": [
    "- min, max\n",
    "- mean \n",
    "- écart type \n",
    "- Skewness \n",
    "- Kurtosis \n",
    "- Energy \n",
    "- Average Crossing \n",
    "- Distribution spectrale d'énergie \n",
    "- Pourcentage d'extrema locaux \n",
    "\n",
    "https://arc.aiaa.org/doi/pdf/10.2514/6.2016-2430"
   ]
  },
  {
   "cell_type": "markdown",
   "metadata": {},
   "source": [
    "### Min & Max "
   ]
  },
  {
   "cell_type": "code",
   "execution_count": 31,
   "metadata": {},
   "outputs": [],
   "source": [
    "listemin = [min(liste[\"FF_1\"]) for liste in liste_comp]"
   ]
  },
  {
   "cell_type": "code",
   "execution_count": 46,
   "metadata": {},
   "outputs": [],
   "source": [
    "#print(listemin)\n",
    "#len(listemin)"
   ]
  },
  {
   "cell_type": "markdown",
   "metadata": {},
   "source": [
    "On récupère les numéros de séries dont le min est à 0. "
   ]
  },
  {
   "cell_type": "code",
   "execution_count": 35,
   "metadata": {},
   "outputs": [
    {
     "data": {
      "text/plain": [
       "19"
      ]
     },
     "execution_count": 35,
     "metadata": {},
     "output_type": "execute_result"
    }
   ],
   "source": [
    "listemin.index(0.0)"
   ]
  },
  {
   "cell_type": "code",
   "execution_count": 37,
   "metadata": {},
   "outputs": [],
   "source": [
    "listemax = [max(liste[\"FF_1\"]) for liste in liste_comp]"
   ]
  },
  {
   "cell_type": "code",
   "execution_count": 45,
   "metadata": {},
   "outputs": [],
   "source": [
    "#print(listemax)\n",
    "#len(listemax)"
   ]
  },
  {
   "cell_type": "markdown",
   "metadata": {},
   "source": [
    "### Mean"
   ]
  },
  {
   "cell_type": "code",
   "execution_count": 42,
   "metadata": {},
   "outputs": [],
   "source": [
    "listemean = [np.mean(liste[\"FF_1\"]) for liste in liste_comp]"
   ]
  },
  {
   "cell_type": "code",
   "execution_count": 44,
   "metadata": {},
   "outputs": [],
   "source": [
    "#print(listemean)"
   ]
  },
  {
   "cell_type": "markdown",
   "metadata": {},
   "source": [
    "### Ecartype "
   ]
  },
  {
   "cell_type": "code",
   "execution_count": 48,
   "metadata": {},
   "outputs": [],
   "source": [
    "listestd = [np.std(liste[\"FF_1\"]) for liste in liste_comp]"
   ]
  },
  {
   "cell_type": "code",
   "execution_count": 50,
   "metadata": {},
   "outputs": [],
   "source": [
    "#print(listestd)"
   ]
  },
  {
   "cell_type": "code",
   "execution_count": null,
   "metadata": {},
   "outputs": [],
   "source": []
  }
 ],
 "metadata": {
  "kernelspec": {
   "display_name": "Python 3",
   "language": "python",
   "name": "python3"
  },
  "language_info": {
   "codemirror_mode": {
    "name": "ipython",
    "version": 3
   },
   "file_extension": ".py",
   "mimetype": "text/x-python",
   "name": "python",
   "nbconvert_exporter": "python",
   "pygments_lexer": "ipython3",
   "version": "3.6.5"
  }
 },
 "nbformat": 4,
 "nbformat_minor": 2
}
